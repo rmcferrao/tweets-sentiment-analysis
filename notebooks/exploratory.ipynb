{
 "metadata": {
  "language_info": {
   "codemirror_mode": {
    "name": "ipython",
    "version": 3
   },
   "file_extension": ".py",
   "mimetype": "text/x-python",
   "name": "python",
   "nbconvert_exporter": "python",
   "pygments_lexer": "ipython3",
   "version": "3.8.5"
  },
  "orig_nbformat": 2,
  "kernelspec": {
   "name": "python385jvsc74a57bd0d70dbed02b5618bdfa78034ff562677c611ecb3e2a5c03aeb7192c33f5ff8ff2",
   "display_name": "Python 3.8.5 64-bit ('venv')"
  }
 },
 "nbformat": 4,
 "nbformat_minor": 2,
 "cells": [
  {
   "cell_type": "code",
   "execution_count": 1,
   "metadata": {},
   "outputs": [],
   "source": [
    "import json\n",
    "import pandas as pd\n",
    "from pandas.core.common import flatten\n",
    "import seaborn as sns\n",
    "import numpy as np\n",
    "from collections import defaultdict\n",
    "import matplotlib.pyplot as plt"
   ]
  },
  {
   "cell_type": "code",
   "execution_count": 2,
   "metadata": {},
   "outputs": [],
   "source": [
    "presidenciaveis_raw = pd.read_json(\"../data/presidenciaveis.json\")"
   ]
  },
  {
   "cell_type": "code",
   "execution_count": 3,
   "metadata": {},
   "outputs": [],
   "source": [
    "data = []\n",
    "for subdata in presidenciaveis_raw.loc['data'].values:\n",
    "    data = [*data, *subdata]\n",
    "\n",
    "tmp_df = pd.DataFrame(data)\n",
    "tmp_public_metrics_df = pd.DataFrame.from_records(tmp_df['public_metrics'])\n",
    "\n",
    "df = tmp_df.drop(columns=\"public_metrics\")\n",
    "df[tmp_public_metrics_df.columns] = tmp_public_metrics_df"
   ]
  },
  {
   "cell_type": "code",
   "execution_count": 4,
   "metadata": {},
   "outputs": [],
   "source": [
    "df['created_at']  = pd.to_datetime(df['created_at'])"
   ]
  },
  {
   "cell_type": "code",
   "execution_count": 5,
   "metadata": {},
   "outputs": [],
   "source": [
    "user_id = presidenciaveis_raw.loc['id']\n",
    "\n",
    "map_user_id = defaultdict(lambda x: \"N/A\", {key:value for value, key in user_id.items()})"
   ]
  },
  {
   "cell_type": "code",
   "execution_count": 6,
   "metadata": {},
   "outputs": [],
   "source": [
    "df['author'] = df['author_id'].apply(lambda x: map_user_id[x])"
   ]
  },
  {
   "cell_type": "code",
   "execution_count": 7,
   "metadata": {},
   "outputs": [
    {
     "output_type": "execute_result",
     "data": {
      "text/plain": [
       "array(['jairbolsonaro', 'cirogomes', 'LulaOficial', 'jdoriajr',\n",
       "       'LucianoHuck', 'MarinaSilva', 'GuilhermeBoulos'], dtype=object)"
      ]
     },
     "metadata": {},
     "execution_count": 7
    }
   ],
   "source": [
    "df['author'].unique()"
   ]
  },
  {
   "cell_type": "code",
   "execution_count": 8,
   "metadata": {},
   "outputs": [
    {
     "output_type": "execute_result",
     "data": {
      "text/plain": [
       "              author_id                created_at                   id  \\\n",
       "0             128372940 2021-03-31 23:56:08+00:00  1377409408267812865   \n",
       "1             128372940 2021-03-31 21:18:11+00:00  1377369657598877697   \n",
       "2             128372940 2021-03-31 16:10:25+00:00  1377292204792807436   \n",
       "3             128372940 2021-03-31 12:58:37+00:00  1377243939237953539   \n",
       "4             128372940 2021-03-31 12:57:49+00:00  1377243735994601472   \n",
       "..                  ...                       ...                  ...   \n",
       "472  762402774260875265 2021-03-02 00:03:57+00:00  1366539737650122753   \n",
       "473  762402774260875265 2021-03-01 22:40:06+00:00  1366518638367358978   \n",
       "474  762402774260875265 2021-03-01 17:02:59+00:00  1366433799916118018   \n",
       "475  762402774260875265 2021-03-01 16:49:41+00:00  1366430450760224772   \n",
       "476  762402774260875265 2021-03-01 16:20:30+00:00  1366423109096603651   \n",
       "\n",
       "                                                  text  retweet_count  \\\n",
       "0    - Em abril/2013 o Congresso anulou a sessão de...           5847   \n",
       "1    - Apresento os novos comandantes de Força:\\n\\n...           6655   \n",
       "2                              https://t.co/F2v9HVOYW1            778   \n",
       "3    1.2- Assim, os aproximadamente 2.900 profissio...           1187   \n",
       "4    1.1- Reforçando o combate ao Covid19 na atençã...           1039   \n",
       "..                                                 ...            ...   \n",
       "472  Dinheiro da rachadinha. Esculhambação completa...            695   \n",
       "473  RT @SeverinoSoutoA1: Estamos em reunião com as...             33   \n",
       "474  Número de UTIs com financiamento federal no pa...            965   \n",
       "475  96% dos moradores de 239 favelas usaram o dinh...           1103   \n",
       "476        @negrini_luciana Obrigado @negrini_luciana!              0   \n",
       "\n",
       "     reply_count  like_count  quote_count           author  \n",
       "0           3413       32214          414    jairbolsonaro  \n",
       "1           4362       37607          604    jairbolsonaro  \n",
       "2            483        4104           21    jairbolsonaro  \n",
       "3            348        7005           13    jairbolsonaro  \n",
       "4            218        4980           23    jairbolsonaro  \n",
       "..           ...         ...          ...              ...  \n",
       "472          190        6482           54  GuilhermeBoulos  \n",
       "473            0           0            0  GuilhermeBoulos  \n",
       "474           49        4791           29  GuilhermeBoulos  \n",
       "475          141       10330           37  GuilhermeBoulos  \n",
       "476            6          66            1  GuilhermeBoulos  \n",
       "\n",
       "[477 rows x 9 columns]"
      ],
      "text/html": "<div>\n<style scoped>\n    .dataframe tbody tr th:only-of-type {\n        vertical-align: middle;\n    }\n\n    .dataframe tbody tr th {\n        vertical-align: top;\n    }\n\n    .dataframe thead th {\n        text-align: right;\n    }\n</style>\n<table border=\"1\" class=\"dataframe\">\n  <thead>\n    <tr style=\"text-align: right;\">\n      <th></th>\n      <th>author_id</th>\n      <th>created_at</th>\n      <th>id</th>\n      <th>text</th>\n      <th>retweet_count</th>\n      <th>reply_count</th>\n      <th>like_count</th>\n      <th>quote_count</th>\n      <th>author</th>\n    </tr>\n  </thead>\n  <tbody>\n    <tr>\n      <th>0</th>\n      <td>128372940</td>\n      <td>2021-03-31 23:56:08+00:00</td>\n      <td>1377409408267812865</td>\n      <td>- Em abril/2013 o Congresso anulou a sessão de...</td>\n      <td>5847</td>\n      <td>3413</td>\n      <td>32214</td>\n      <td>414</td>\n      <td>jairbolsonaro</td>\n    </tr>\n    <tr>\n      <th>1</th>\n      <td>128372940</td>\n      <td>2021-03-31 21:18:11+00:00</td>\n      <td>1377369657598877697</td>\n      <td>- Apresento os novos comandantes de Força:\\n\\n...</td>\n      <td>6655</td>\n      <td>4362</td>\n      <td>37607</td>\n      <td>604</td>\n      <td>jairbolsonaro</td>\n    </tr>\n    <tr>\n      <th>2</th>\n      <td>128372940</td>\n      <td>2021-03-31 16:10:25+00:00</td>\n      <td>1377292204792807436</td>\n      <td>https://t.co/F2v9HVOYW1</td>\n      <td>778</td>\n      <td>483</td>\n      <td>4104</td>\n      <td>21</td>\n      <td>jairbolsonaro</td>\n    </tr>\n    <tr>\n      <th>3</th>\n      <td>128372940</td>\n      <td>2021-03-31 12:58:37+00:00</td>\n      <td>1377243939237953539</td>\n      <td>1.2- Assim, os aproximadamente 2.900 profissio...</td>\n      <td>1187</td>\n      <td>348</td>\n      <td>7005</td>\n      <td>13</td>\n      <td>jairbolsonaro</td>\n    </tr>\n    <tr>\n      <th>4</th>\n      <td>128372940</td>\n      <td>2021-03-31 12:57:49+00:00</td>\n      <td>1377243735994601472</td>\n      <td>1.1- Reforçando o combate ao Covid19 na atençã...</td>\n      <td>1039</td>\n      <td>218</td>\n      <td>4980</td>\n      <td>23</td>\n      <td>jairbolsonaro</td>\n    </tr>\n    <tr>\n      <th>...</th>\n      <td>...</td>\n      <td>...</td>\n      <td>...</td>\n      <td>...</td>\n      <td>...</td>\n      <td>...</td>\n      <td>...</td>\n      <td>...</td>\n      <td>...</td>\n    </tr>\n    <tr>\n      <th>472</th>\n      <td>762402774260875265</td>\n      <td>2021-03-02 00:03:57+00:00</td>\n      <td>1366539737650122753</td>\n      <td>Dinheiro da rachadinha. Esculhambação completa...</td>\n      <td>695</td>\n      <td>190</td>\n      <td>6482</td>\n      <td>54</td>\n      <td>GuilhermeBoulos</td>\n    </tr>\n    <tr>\n      <th>473</th>\n      <td>762402774260875265</td>\n      <td>2021-03-01 22:40:06+00:00</td>\n      <td>1366518638367358978</td>\n      <td>RT @SeverinoSoutoA1: Estamos em reunião com as...</td>\n      <td>33</td>\n      <td>0</td>\n      <td>0</td>\n      <td>0</td>\n      <td>GuilhermeBoulos</td>\n    </tr>\n    <tr>\n      <th>474</th>\n      <td>762402774260875265</td>\n      <td>2021-03-01 17:02:59+00:00</td>\n      <td>1366433799916118018</td>\n      <td>Número de UTIs com financiamento federal no pa...</td>\n      <td>965</td>\n      <td>49</td>\n      <td>4791</td>\n      <td>29</td>\n      <td>GuilhermeBoulos</td>\n    </tr>\n    <tr>\n      <th>475</th>\n      <td>762402774260875265</td>\n      <td>2021-03-01 16:49:41+00:00</td>\n      <td>1366430450760224772</td>\n      <td>96% dos moradores de 239 favelas usaram o dinh...</td>\n      <td>1103</td>\n      <td>141</td>\n      <td>10330</td>\n      <td>37</td>\n      <td>GuilhermeBoulos</td>\n    </tr>\n    <tr>\n      <th>476</th>\n      <td>762402774260875265</td>\n      <td>2021-03-01 16:20:30+00:00</td>\n      <td>1366423109096603651</td>\n      <td>@negrini_luciana Obrigado @negrini_luciana!</td>\n      <td>0</td>\n      <td>6</td>\n      <td>66</td>\n      <td>1</td>\n      <td>GuilhermeBoulos</td>\n    </tr>\n  </tbody>\n</table>\n<p>477 rows × 9 columns</p>\n</div>"
     },
     "metadata": {},
     "execution_count": 8
    }
   ],
   "source": [
    "df"
   ]
  },
  {
   "cell_type": "code",
   "execution_count": 9,
   "metadata": {},
   "outputs": [
    {
     "output_type": "display_data",
     "data": {
      "text/plain": "<Figure size 720x864 with 6 Axes>",
      "image/svg+xml": "<?xml version=\"1.0\" encoding=\"utf-8\" standalone=\"no\"?>\n<!DOCTYPE svg PUBLIC \"-//W3C//DTD SVG 1.1//EN\"\n  \"http://www.w3.org/Graphics/SVG/1.1/DTD/svg11.dtd\">\n<svg height=\"836.24625pt\" version=\"1.1\" viewBox=\"0 0 693.016397 836.24625\" width=\"693.016397pt\" xmlns=\"http://www.w3.org/2000/svg\" xmlns:xlink=\"http://www.w3.org/1999/xlink\">\n <metadata>\n  <rdf:RDF xmlns:cc=\"http://creativecommons.org/ns#\" xmlns:dc=\"http://purl.org/dc/elements/1.1/\" xmlns:rdf=\"http://www.w3.org/1999/02/22-rdf-syntax-ns#\">\n   <cc:Work>\n    <dc:type rdf:resource=\"http://purl.org/dc/dcmitype/StillImage\"/>\n    <dc:date>2021-04-27T17:27:44.921561</dc:date>\n    <dc:format>image/svg+xml</dc:format>\n    <dc:creator>\n     <cc:Agent>\n      <dc:title>Matplotlib v3.4.1, https://matplotlib.org/</dc:title>\n     </cc:Agent>\n    </dc:creator>\n   </cc:Work>\n  </rdf:RDF>\n </metadata>\n <defs>\n  <style type=\"text/css\">*{stroke-linecap:butt;stroke-linejoin:round;}</style>\n </defs>\n <g id=\"figure_1\">\n  <g id=\"patch_1\">\n   <path d=\"M 0 836.24625 \nL 693.016397 836.24625 \nL 693.016397 0 \nL 0 0 \nz\n\" style=\"fill:none;\"/>\n  </g>\n  <g id=\"axes_1\">\n   <g id=\"patch_2\">\n    <path d=\"M 43.78125 235.745208 \nL 331.091753 235.745208 \nL 331.091753 22.318125 \nL 43.78125 22.318125 \nz\n\" style=\"fill:#ffffff;\"/>\n   </g>\n   <g id=\"patch_3\">\n    <path clip-path=\"url(#p8f786941fb)\" d=\"M 56.840818 235.745208 \nL 69.900387 235.745208 \nL 69.900387 32.481319 \nL 56.840818 32.481319 \nz\n\" style=\"fill:#1f77b4;fill-opacity:0.75;stroke:#000000;stroke-linejoin:miter;\"/>\n   </g>\n   <g id=\"patch_4\">\n    <path clip-path=\"url(#p8f786941fb)\" d=\"M 69.900387 235.745208 \nL 82.959955 235.745208 \nL 82.959955 136.654062 \nL 69.900387 136.654062 \nz\n\" style=\"fill:#1f77b4;fill-opacity:0.75;stroke:#000000;stroke-linejoin:miter;\"/>\n   </g>\n   <g id=\"patch_5\">\n    <path clip-path=\"url(#p8f786941fb)\" d=\"M 82.959955 235.745208 \nL 96.019523 235.745208 \nL 96.019523 179.847639 \nL 82.959955 179.847639 \nz\n\" style=\"fill:#1f77b4;fill-opacity:0.75;stroke:#000000;stroke-linejoin:miter;\"/>\n   </g>\n   <g id=\"patch_6\">\n    <path clip-path=\"url(#p8f786941fb)\" d=\"M 96.019523 235.745208 \nL 109.079092 235.745208 \nL 109.079092 190.010833 \nL 96.019523 190.010833 \nz\n\" style=\"fill:#1f77b4;fill-opacity:0.75;stroke:#000000;stroke-linejoin:miter;\"/>\n   </g>\n   <g id=\"patch_7\">\n    <path clip-path=\"url(#p8f786941fb)\" d=\"M 109.079092 235.745208 \nL 122.13866 235.745208 \nL 122.13866 197.633229 \nL 109.079092 197.633229 \nz\n\" style=\"fill:#1f77b4;fill-opacity:0.75;stroke:#000000;stroke-linejoin:miter;\"/>\n   </g>\n   <g id=\"patch_8\">\n    <path clip-path=\"url(#p8f786941fb)\" d=\"M 122.13866 235.745208 \nL 135.198228 235.745208 \nL 135.198228 215.418819 \nL 122.13866 215.418819 \nz\n\" style=\"fill:#1f77b4;fill-opacity:0.75;stroke:#000000;stroke-linejoin:miter;\"/>\n   </g>\n   <g id=\"patch_9\">\n    <path clip-path=\"url(#p8f786941fb)\" d=\"M 135.198228 235.745208 \nL 148.257796 235.745208 \nL 148.257796 220.500417 \nL 135.198228 220.500417 \nz\n\" style=\"fill:#1f77b4;fill-opacity:0.75;stroke:#000000;stroke-linejoin:miter;\"/>\n   </g>\n   <g id=\"patch_10\">\n    <path clip-path=\"url(#p8f786941fb)\" d=\"M 148.257796 235.745208 \nL 161.317365 235.745208 \nL 161.317365 228.122812 \nL 148.257796 228.122812 \nz\n\" style=\"fill:#1f77b4;fill-opacity:0.75;stroke:#000000;stroke-linejoin:miter;\"/>\n   </g>\n   <g id=\"patch_11\">\n    <path clip-path=\"url(#p8f786941fb)\" d=\"M 161.317365 235.745208 \nL 174.376933 235.745208 \nL 174.376933 235.745208 \nL 161.317365 235.745208 \nz\n\" style=\"fill:#1f77b4;fill-opacity:0.75;stroke:#000000;stroke-linejoin:miter;\"/>\n   </g>\n   <g id=\"patch_12\">\n    <path clip-path=\"url(#p8f786941fb)\" d=\"M 174.376933 235.745208 \nL 187.436501 235.745208 \nL 187.436501 235.745208 \nL 174.376933 235.745208 \nz\n\" style=\"fill:#1f77b4;fill-opacity:0.75;stroke:#000000;stroke-linejoin:miter;\"/>\n   </g>\n   <g id=\"patch_13\">\n    <path clip-path=\"url(#p8f786941fb)\" d=\"M 187.436501 235.745208 \nL 200.49607 235.745208 \nL 200.49607 235.745208 \nL 187.436501 235.745208 \nz\n\" style=\"fill:#1f77b4;fill-opacity:0.75;stroke:#000000;stroke-linejoin:miter;\"/>\n   </g>\n   <g id=\"patch_14\">\n    <path clip-path=\"url(#p8f786941fb)\" d=\"M 200.49607 235.745208 \nL 213.555638 235.745208 \nL 213.555638 233.20441 \nL 200.49607 233.20441 \nz\n\" style=\"fill:#1f77b4;fill-opacity:0.75;stroke:#000000;stroke-linejoin:miter;\"/>\n   </g>\n   <g id=\"patch_15\">\n    <path clip-path=\"url(#p8f786941fb)\" d=\"M 213.555638 235.745208 \nL 226.615206 235.745208 \nL 226.615206 235.745208 \nL 213.555638 235.745208 \nz\n\" style=\"fill:#1f77b4;fill-opacity:0.75;stroke:#000000;stroke-linejoin:miter;\"/>\n   </g>\n   <g id=\"patch_16\">\n    <path clip-path=\"url(#p8f786941fb)\" d=\"M 226.615206 235.745208 \nL 239.674775 235.745208 \nL 239.674775 235.745208 \nL 226.615206 235.745208 \nz\n\" style=\"fill:#1f77b4;fill-opacity:0.75;stroke:#000000;stroke-linejoin:miter;\"/>\n   </g>\n   <g id=\"patch_17\">\n    <path clip-path=\"url(#p8f786941fb)\" d=\"M 239.674775 235.745208 \nL 252.734343 235.745208 \nL 252.734343 235.745208 \nL 239.674775 235.745208 \nz\n\" style=\"fill:#1f77b4;fill-opacity:0.75;stroke:#000000;stroke-linejoin:miter;\"/>\n   </g>\n   <g id=\"patch_18\">\n    <path clip-path=\"url(#p8f786941fb)\" d=\"M 252.734343 235.745208 \nL 265.793911 235.745208 \nL 265.793911 235.745208 \nL 252.734343 235.745208 \nz\n\" style=\"fill:#1f77b4;fill-opacity:0.75;stroke:#000000;stroke-linejoin:miter;\"/>\n   </g>\n   <g id=\"patch_19\">\n    <path clip-path=\"url(#p8f786941fb)\" d=\"M 265.793911 235.745208 \nL 278.85348 235.745208 \nL 278.85348 235.745208 \nL 265.793911 235.745208 \nz\n\" style=\"fill:#1f77b4;fill-opacity:0.75;stroke:#000000;stroke-linejoin:miter;\"/>\n   </g>\n   <g id=\"patch_20\">\n    <path clip-path=\"url(#p8f786941fb)\" d=\"M 278.85348 235.745208 \nL 291.913048 235.745208 \nL 291.913048 235.745208 \nL 278.85348 235.745208 \nz\n\" style=\"fill:#1f77b4;fill-opacity:0.75;stroke:#000000;stroke-linejoin:miter;\"/>\n   </g>\n   <g id=\"patch_21\">\n    <path clip-path=\"url(#p8f786941fb)\" d=\"M 291.913048 235.745208 \nL 304.972616 235.745208 \nL 304.972616 235.745208 \nL 291.913048 235.745208 \nz\n\" style=\"fill:#1f77b4;fill-opacity:0.75;stroke:#000000;stroke-linejoin:miter;\"/>\n   </g>\n   <g id=\"patch_22\">\n    <path clip-path=\"url(#p8f786941fb)\" d=\"M 304.972616 235.745208 \nL 318.032185 235.745208 \nL 318.032185 233.20441 \nL 304.972616 233.20441 \nz\n\" style=\"fill:#1f77b4;fill-opacity:0.75;stroke:#000000;stroke-linejoin:miter;\"/>\n   </g>\n   <g id=\"matplotlib.axis_1\">\n    <g id=\"xtick_1\">\n     <g id=\"line2d_1\">\n      <defs>\n       <path d=\"M 0 0 \nL 0 3.5 \n\" id=\"m78cdc2cedf\" style=\"stroke:#000000;stroke-width:0.8;\"/>\n      </defs>\n      <g>\n       <use style=\"stroke:#000000;stroke-width:0.8;\" x=\"56.840818\" xlink:href=\"#m78cdc2cedf\" y=\"235.745208\"/>\n      </g>\n     </g>\n     <g id=\"text_1\">\n      <!-- 0 -->\n      <g transform=\"translate(53.659568 250.343646)scale(0.1 -0.1)\">\n       <defs>\n        <path d=\"M 2034 4250 \nQ 1547 4250 1301 3770 \nQ 1056 3291 1056 2328 \nQ 1056 1369 1301 889 \nQ 1547 409 2034 409 \nQ 2525 409 2770 889 \nQ 3016 1369 3016 2328 \nQ 3016 3291 2770 3770 \nQ 2525 4250 2034 4250 \nz\nM 2034 4750 \nQ 2819 4750 3233 4129 \nQ 3647 3509 3647 2328 \nQ 3647 1150 3233 529 \nQ 2819 -91 2034 -91 \nQ 1250 -91 836 529 \nQ 422 1150 422 2328 \nQ 422 3509 836 4129 \nQ 1250 4750 2034 4750 \nz\n\" id=\"DejaVuSans-30\" transform=\"scale(0.015625)\"/>\n       </defs>\n       <use xlink:href=\"#DejaVuSans-30\"/>\n      </g>\n     </g>\n    </g>\n    <g id=\"xtick_2\">\n     <g id=\"line2d_2\">\n      <g>\n       <use style=\"stroke:#000000;stroke-width:0.8;\" x=\"99.899782\" xlink:href=\"#m78cdc2cedf\" y=\"235.745208\"/>\n      </g>\n     </g>\n     <g id=\"text_2\">\n      <!-- 20000 -->\n      <g transform=\"translate(83.993532 250.343646)scale(0.1 -0.1)\">\n       <defs>\n        <path d=\"M 1228 531 \nL 3431 531 \nL 3431 0 \nL 469 0 \nL 469 531 \nQ 828 903 1448 1529 \nQ 2069 2156 2228 2338 \nQ 2531 2678 2651 2914 \nQ 2772 3150 2772 3378 \nQ 2772 3750 2511 3984 \nQ 2250 4219 1831 4219 \nQ 1534 4219 1204 4116 \nQ 875 4013 500 3803 \nL 500 4441 \nQ 881 4594 1212 4672 \nQ 1544 4750 1819 4750 \nQ 2544 4750 2975 4387 \nQ 3406 4025 3406 3419 \nQ 3406 3131 3298 2873 \nQ 3191 2616 2906 2266 \nQ 2828 2175 2409 1742 \nQ 1991 1309 1228 531 \nz\n\" id=\"DejaVuSans-32\" transform=\"scale(0.015625)\"/>\n       </defs>\n       <use xlink:href=\"#DejaVuSans-32\"/>\n       <use x=\"63.623047\" xlink:href=\"#DejaVuSans-30\"/>\n       <use x=\"127.246094\" xlink:href=\"#DejaVuSans-30\"/>\n       <use x=\"190.869141\" xlink:href=\"#DejaVuSans-30\"/>\n       <use x=\"254.492188\" xlink:href=\"#DejaVuSans-30\"/>\n      </g>\n     </g>\n    </g>\n    <g id=\"xtick_3\">\n     <g id=\"line2d_3\">\n      <g>\n       <use style=\"stroke:#000000;stroke-width:0.8;\" x=\"142.958745\" xlink:href=\"#m78cdc2cedf\" y=\"235.745208\"/>\n      </g>\n     </g>\n     <g id=\"text_3\">\n      <!-- 40000 -->\n      <g transform=\"translate(127.052495 250.343646)scale(0.1 -0.1)\">\n       <defs>\n        <path d=\"M 2419 4116 \nL 825 1625 \nL 2419 1625 \nL 2419 4116 \nz\nM 2253 4666 \nL 3047 4666 \nL 3047 1625 \nL 3713 1625 \nL 3713 1100 \nL 3047 1100 \nL 3047 0 \nL 2419 0 \nL 2419 1100 \nL 313 1100 \nL 313 1709 \nL 2253 4666 \nz\n\" id=\"DejaVuSans-34\" transform=\"scale(0.015625)\"/>\n       </defs>\n       <use xlink:href=\"#DejaVuSans-34\"/>\n       <use x=\"63.623047\" xlink:href=\"#DejaVuSans-30\"/>\n       <use x=\"127.246094\" xlink:href=\"#DejaVuSans-30\"/>\n       <use x=\"190.869141\" xlink:href=\"#DejaVuSans-30\"/>\n       <use x=\"254.492188\" xlink:href=\"#DejaVuSans-30\"/>\n      </g>\n     </g>\n    </g>\n    <g id=\"xtick_4\">\n     <g id=\"line2d_4\">\n      <g>\n       <use style=\"stroke:#000000;stroke-width:0.8;\" x=\"186.017709\" xlink:href=\"#m78cdc2cedf\" y=\"235.745208\"/>\n      </g>\n     </g>\n     <g id=\"text_4\">\n      <!-- 60000 -->\n      <g transform=\"translate(170.111459 250.343646)scale(0.1 -0.1)\">\n       <defs>\n        <path d=\"M 2113 2584 \nQ 1688 2584 1439 2293 \nQ 1191 2003 1191 1497 \nQ 1191 994 1439 701 \nQ 1688 409 2113 409 \nQ 2538 409 2786 701 \nQ 3034 994 3034 1497 \nQ 3034 2003 2786 2293 \nQ 2538 2584 2113 2584 \nz\nM 3366 4563 \nL 3366 3988 \nQ 3128 4100 2886 4159 \nQ 2644 4219 2406 4219 \nQ 1781 4219 1451 3797 \nQ 1122 3375 1075 2522 \nQ 1259 2794 1537 2939 \nQ 1816 3084 2150 3084 \nQ 2853 3084 3261 2657 \nQ 3669 2231 3669 1497 \nQ 3669 778 3244 343 \nQ 2819 -91 2113 -91 \nQ 1303 -91 875 529 \nQ 447 1150 447 2328 \nQ 447 3434 972 4092 \nQ 1497 4750 2381 4750 \nQ 2619 4750 2861 4703 \nQ 3103 4656 3366 4563 \nz\n\" id=\"DejaVuSans-36\" transform=\"scale(0.015625)\"/>\n       </defs>\n       <use xlink:href=\"#DejaVuSans-36\"/>\n       <use x=\"63.623047\" xlink:href=\"#DejaVuSans-30\"/>\n       <use x=\"127.246094\" xlink:href=\"#DejaVuSans-30\"/>\n       <use x=\"190.869141\" xlink:href=\"#DejaVuSans-30\"/>\n       <use x=\"254.492188\" xlink:href=\"#DejaVuSans-30\"/>\n      </g>\n     </g>\n    </g>\n    <g id=\"xtick_5\">\n     <g id=\"line2d_5\">\n      <g>\n       <use style=\"stroke:#000000;stroke-width:0.8;\" x=\"229.076672\" xlink:href=\"#m78cdc2cedf\" y=\"235.745208\"/>\n      </g>\n     </g>\n     <g id=\"text_5\">\n      <!-- 80000 -->\n      <g transform=\"translate(213.170422 250.343646)scale(0.1 -0.1)\">\n       <defs>\n        <path d=\"M 2034 2216 \nQ 1584 2216 1326 1975 \nQ 1069 1734 1069 1313 \nQ 1069 891 1326 650 \nQ 1584 409 2034 409 \nQ 2484 409 2743 651 \nQ 3003 894 3003 1313 \nQ 3003 1734 2745 1975 \nQ 2488 2216 2034 2216 \nz\nM 1403 2484 \nQ 997 2584 770 2862 \nQ 544 3141 544 3541 \nQ 544 4100 942 4425 \nQ 1341 4750 2034 4750 \nQ 2731 4750 3128 4425 \nQ 3525 4100 3525 3541 \nQ 3525 3141 3298 2862 \nQ 3072 2584 2669 2484 \nQ 3125 2378 3379 2068 \nQ 3634 1759 3634 1313 \nQ 3634 634 3220 271 \nQ 2806 -91 2034 -91 \nQ 1263 -91 848 271 \nQ 434 634 434 1313 \nQ 434 1759 690 2068 \nQ 947 2378 1403 2484 \nz\nM 1172 3481 \nQ 1172 3119 1398 2916 \nQ 1625 2713 2034 2713 \nQ 2441 2713 2670 2916 \nQ 2900 3119 2900 3481 \nQ 2900 3844 2670 4047 \nQ 2441 4250 2034 4250 \nQ 1625 4250 1398 4047 \nQ 1172 3844 1172 3481 \nz\n\" id=\"DejaVuSans-38\" transform=\"scale(0.015625)\"/>\n       </defs>\n       <use xlink:href=\"#DejaVuSans-38\"/>\n       <use x=\"63.623047\" xlink:href=\"#DejaVuSans-30\"/>\n       <use x=\"127.246094\" xlink:href=\"#DejaVuSans-30\"/>\n       <use x=\"190.869141\" xlink:href=\"#DejaVuSans-30\"/>\n       <use x=\"254.492188\" xlink:href=\"#DejaVuSans-30\"/>\n      </g>\n     </g>\n    </g>\n    <g id=\"xtick_6\">\n     <g id=\"line2d_6\">\n      <g>\n       <use style=\"stroke:#000000;stroke-width:0.8;\" x=\"272.135635\" xlink:href=\"#m78cdc2cedf\" y=\"235.745208\"/>\n      </g>\n     </g>\n     <g id=\"text_6\">\n      <!-- 100000 -->\n      <g transform=\"translate(253.048135 250.343646)scale(0.1 -0.1)\">\n       <defs>\n        <path d=\"M 794 531 \nL 1825 531 \nL 1825 4091 \nL 703 3866 \nL 703 4441 \nL 1819 4666 \nL 2450 4666 \nL 2450 531 \nL 3481 531 \nL 3481 0 \nL 794 0 \nL 794 531 \nz\n\" id=\"DejaVuSans-31\" transform=\"scale(0.015625)\"/>\n       </defs>\n       <use xlink:href=\"#DejaVuSans-31\"/>\n       <use x=\"63.623047\" xlink:href=\"#DejaVuSans-30\"/>\n       <use x=\"127.246094\" xlink:href=\"#DejaVuSans-30\"/>\n       <use x=\"190.869141\" xlink:href=\"#DejaVuSans-30\"/>\n       <use x=\"254.492188\" xlink:href=\"#DejaVuSans-30\"/>\n       <use x=\"318.115234\" xlink:href=\"#DejaVuSans-30\"/>\n      </g>\n     </g>\n    </g>\n    <g id=\"xtick_7\">\n     <g id=\"line2d_7\">\n      <g>\n       <use style=\"stroke:#000000;stroke-width:0.8;\" x=\"315.194599\" xlink:href=\"#m78cdc2cedf\" y=\"235.745208\"/>\n      </g>\n     </g>\n     <g id=\"text_7\">\n      <!-- 120000 -->\n      <g transform=\"translate(296.107099 250.343646)scale(0.1 -0.1)\">\n       <use xlink:href=\"#DejaVuSans-31\"/>\n       <use x=\"63.623047\" xlink:href=\"#DejaVuSans-32\"/>\n       <use x=\"127.246094\" xlink:href=\"#DejaVuSans-30\"/>\n       <use x=\"190.869141\" xlink:href=\"#DejaVuSans-30\"/>\n       <use x=\"254.492188\" xlink:href=\"#DejaVuSans-30\"/>\n       <use x=\"318.115234\" xlink:href=\"#DejaVuSans-30\"/>\n      </g>\n     </g>\n    </g>\n    <g id=\"text_8\">\n     <!-- like_count -->\n     <g transform=\"translate(162.261501 264.021771)scale(0.1 -0.1)\">\n      <defs>\n       <path d=\"M 603 4863 \nL 1178 4863 \nL 1178 0 \nL 603 0 \nL 603 4863 \nz\n\" id=\"DejaVuSans-6c\" transform=\"scale(0.015625)\"/>\n       <path d=\"M 603 3500 \nL 1178 3500 \nL 1178 0 \nL 603 0 \nL 603 3500 \nz\nM 603 4863 \nL 1178 4863 \nL 1178 4134 \nL 603 4134 \nL 603 4863 \nz\n\" id=\"DejaVuSans-69\" transform=\"scale(0.015625)\"/>\n       <path d=\"M 581 4863 \nL 1159 4863 \nL 1159 1991 \nL 2875 3500 \nL 3609 3500 \nL 1753 1863 \nL 3688 0 \nL 2938 0 \nL 1159 1709 \nL 1159 0 \nL 581 0 \nL 581 4863 \nz\n\" id=\"DejaVuSans-6b\" transform=\"scale(0.015625)\"/>\n       <path d=\"M 3597 1894 \nL 3597 1613 \nL 953 1613 \nQ 991 1019 1311 708 \nQ 1631 397 2203 397 \nQ 2534 397 2845 478 \nQ 3156 559 3463 722 \nL 3463 178 \nQ 3153 47 2828 -22 \nQ 2503 -91 2169 -91 \nQ 1331 -91 842 396 \nQ 353 884 353 1716 \nQ 353 2575 817 3079 \nQ 1281 3584 2069 3584 \nQ 2775 3584 3186 3129 \nQ 3597 2675 3597 1894 \nz\nM 3022 2063 \nQ 3016 2534 2758 2815 \nQ 2500 3097 2075 3097 \nQ 1594 3097 1305 2825 \nQ 1016 2553 972 2059 \nL 3022 2063 \nz\n\" id=\"DejaVuSans-65\" transform=\"scale(0.015625)\"/>\n       <path d=\"M 3263 -1063 \nL 3263 -1509 \nL -63 -1509 \nL -63 -1063 \nL 3263 -1063 \nz\n\" id=\"DejaVuSans-5f\" transform=\"scale(0.015625)\"/>\n       <path d=\"M 3122 3366 \nL 3122 2828 \nQ 2878 2963 2633 3030 \nQ 2388 3097 2138 3097 \nQ 1578 3097 1268 2742 \nQ 959 2388 959 1747 \nQ 959 1106 1268 751 \nQ 1578 397 2138 397 \nQ 2388 397 2633 464 \nQ 2878 531 3122 666 \nL 3122 134 \nQ 2881 22 2623 -34 \nQ 2366 -91 2075 -91 \nQ 1284 -91 818 406 \nQ 353 903 353 1747 \nQ 353 2603 823 3093 \nQ 1294 3584 2113 3584 \nQ 2378 3584 2631 3529 \nQ 2884 3475 3122 3366 \nz\n\" id=\"DejaVuSans-63\" transform=\"scale(0.015625)\"/>\n       <path d=\"M 1959 3097 \nQ 1497 3097 1228 2736 \nQ 959 2375 959 1747 \nQ 959 1119 1226 758 \nQ 1494 397 1959 397 \nQ 2419 397 2687 759 \nQ 2956 1122 2956 1747 \nQ 2956 2369 2687 2733 \nQ 2419 3097 1959 3097 \nz\nM 1959 3584 \nQ 2709 3584 3137 3096 \nQ 3566 2609 3566 1747 \nQ 3566 888 3137 398 \nQ 2709 -91 1959 -91 \nQ 1206 -91 779 398 \nQ 353 888 353 1747 \nQ 353 2609 779 3096 \nQ 1206 3584 1959 3584 \nz\n\" id=\"DejaVuSans-6f\" transform=\"scale(0.015625)\"/>\n       <path d=\"M 544 1381 \nL 544 3500 \nL 1119 3500 \nL 1119 1403 \nQ 1119 906 1312 657 \nQ 1506 409 1894 409 \nQ 2359 409 2629 706 \nQ 2900 1003 2900 1516 \nL 2900 3500 \nL 3475 3500 \nL 3475 0 \nL 2900 0 \nL 2900 538 \nQ 2691 219 2414 64 \nQ 2138 -91 1772 -91 \nQ 1169 -91 856 284 \nQ 544 659 544 1381 \nz\nM 1991 3584 \nL 1991 3584 \nz\n\" id=\"DejaVuSans-75\" transform=\"scale(0.015625)\"/>\n       <path d=\"M 3513 2113 \nL 3513 0 \nL 2938 0 \nL 2938 2094 \nQ 2938 2591 2744 2837 \nQ 2550 3084 2163 3084 \nQ 1697 3084 1428 2787 \nQ 1159 2491 1159 1978 \nL 1159 0 \nL 581 0 \nL 581 3500 \nL 1159 3500 \nL 1159 2956 \nQ 1366 3272 1645 3428 \nQ 1925 3584 2291 3584 \nQ 2894 3584 3203 3211 \nQ 3513 2838 3513 2113 \nz\n\" id=\"DejaVuSans-6e\" transform=\"scale(0.015625)\"/>\n       <path d=\"M 1172 4494 \nL 1172 3500 \nL 2356 3500 \nL 2356 3053 \nL 1172 3053 \nL 1172 1153 \nQ 1172 725 1289 603 \nQ 1406 481 1766 481 \nL 2356 481 \nL 2356 0 \nL 1766 0 \nQ 1100 0 847 248 \nQ 594 497 594 1153 \nL 594 3053 \nL 172 3053 \nL 172 3500 \nL 594 3500 \nL 594 4494 \nL 1172 4494 \nz\n\" id=\"DejaVuSans-74\" transform=\"scale(0.015625)\"/>\n      </defs>\n      <use xlink:href=\"#DejaVuSans-6c\"/>\n      <use x=\"27.783203\" xlink:href=\"#DejaVuSans-69\"/>\n      <use x=\"55.566406\" xlink:href=\"#DejaVuSans-6b\"/>\n      <use x=\"109.851562\" xlink:href=\"#DejaVuSans-65\"/>\n      <use x=\"171.375\" xlink:href=\"#DejaVuSans-5f\"/>\n      <use x=\"221.375\" xlink:href=\"#DejaVuSans-63\"/>\n      <use x=\"276.355469\" xlink:href=\"#DejaVuSans-6f\"/>\n      <use x=\"337.537109\" xlink:href=\"#DejaVuSans-75\"/>\n      <use x=\"400.916016\" xlink:href=\"#DejaVuSans-6e\"/>\n      <use x=\"464.294922\" xlink:href=\"#DejaVuSans-74\"/>\n     </g>\n    </g>\n   </g>\n   <g id=\"matplotlib.axis_2\">\n    <g id=\"ytick_1\">\n     <g id=\"line2d_8\">\n      <defs>\n       <path d=\"M 0 0 \nL -3.5 0 \n\" id=\"m7e2e296a72\" style=\"stroke:#000000;stroke-width:0.8;\"/>\n      </defs>\n      <g>\n       <use style=\"stroke:#000000;stroke-width:0.8;\" x=\"43.78125\" xlink:href=\"#m7e2e296a72\" y=\"235.745208\"/>\n      </g>\n     </g>\n     <g id=\"text_9\">\n      <!-- 0 -->\n      <g transform=\"translate(30.41875 239.544427)scale(0.1 -0.1)\">\n       <use xlink:href=\"#DejaVuSans-30\"/>\n      </g>\n     </g>\n    </g>\n    <g id=\"ytick_2\">\n     <g id=\"line2d_9\">\n      <g>\n       <use style=\"stroke:#000000;stroke-width:0.8;\" x=\"43.78125\" xlink:href=\"#m7e2e296a72\" y=\"210.337222\"/>\n      </g>\n     </g>\n     <g id=\"text_10\">\n      <!-- 10 -->\n      <g transform=\"translate(24.05625 214.136441)scale(0.1 -0.1)\">\n       <use xlink:href=\"#DejaVuSans-31\"/>\n       <use x=\"63.623047\" xlink:href=\"#DejaVuSans-30\"/>\n      </g>\n     </g>\n    </g>\n    <g id=\"ytick_3\">\n     <g id=\"line2d_10\">\n      <g>\n       <use style=\"stroke:#000000;stroke-width:0.8;\" x=\"43.78125\" xlink:href=\"#m7e2e296a72\" y=\"184.929236\"/>\n      </g>\n     </g>\n     <g id=\"text_11\">\n      <!-- 20 -->\n      <g transform=\"translate(24.05625 188.728455)scale(0.1 -0.1)\">\n       <use xlink:href=\"#DejaVuSans-32\"/>\n       <use x=\"63.623047\" xlink:href=\"#DejaVuSans-30\"/>\n      </g>\n     </g>\n    </g>\n    <g id=\"ytick_4\">\n     <g id=\"line2d_11\">\n      <g>\n       <use style=\"stroke:#000000;stroke-width:0.8;\" x=\"43.78125\" xlink:href=\"#m7e2e296a72\" y=\"159.52125\"/>\n      </g>\n     </g>\n     <g id=\"text_12\">\n      <!-- 30 -->\n      <g transform=\"translate(24.05625 163.320469)scale(0.1 -0.1)\">\n       <defs>\n        <path d=\"M 2597 2516 \nQ 3050 2419 3304 2112 \nQ 3559 1806 3559 1356 \nQ 3559 666 3084 287 \nQ 2609 -91 1734 -91 \nQ 1441 -91 1130 -33 \nQ 819 25 488 141 \nL 488 750 \nQ 750 597 1062 519 \nQ 1375 441 1716 441 \nQ 2309 441 2620 675 \nQ 2931 909 2931 1356 \nQ 2931 1769 2642 2001 \nQ 2353 2234 1838 2234 \nL 1294 2234 \nL 1294 2753 \nL 1863 2753 \nQ 2328 2753 2575 2939 \nQ 2822 3125 2822 3475 \nQ 2822 3834 2567 4026 \nQ 2313 4219 1838 4219 \nQ 1578 4219 1281 4162 \nQ 984 4106 628 3988 \nL 628 4550 \nQ 988 4650 1302 4700 \nQ 1616 4750 1894 4750 \nQ 2613 4750 3031 4423 \nQ 3450 4097 3450 3541 \nQ 3450 3153 3228 2886 \nQ 3006 2619 2597 2516 \nz\n\" id=\"DejaVuSans-33\" transform=\"scale(0.015625)\"/>\n       </defs>\n       <use xlink:href=\"#DejaVuSans-33\"/>\n       <use x=\"63.623047\" xlink:href=\"#DejaVuSans-30\"/>\n      </g>\n     </g>\n    </g>\n    <g id=\"ytick_5\">\n     <g id=\"line2d_12\">\n      <g>\n       <use style=\"stroke:#000000;stroke-width:0.8;\" x=\"43.78125\" xlink:href=\"#m7e2e296a72\" y=\"134.113264\"/>\n      </g>\n     </g>\n     <g id=\"text_13\">\n      <!-- 40 -->\n      <g transform=\"translate(24.05625 137.912483)scale(0.1 -0.1)\">\n       <use xlink:href=\"#DejaVuSans-34\"/>\n       <use x=\"63.623047\" xlink:href=\"#DejaVuSans-30\"/>\n      </g>\n     </g>\n    </g>\n    <g id=\"ytick_6\">\n     <g id=\"line2d_13\">\n      <g>\n       <use style=\"stroke:#000000;stroke-width:0.8;\" x=\"43.78125\" xlink:href=\"#m7e2e296a72\" y=\"108.705278\"/>\n      </g>\n     </g>\n     <g id=\"text_14\">\n      <!-- 50 -->\n      <g transform=\"translate(24.05625 112.504497)scale(0.1 -0.1)\">\n       <defs>\n        <path d=\"M 691 4666 \nL 3169 4666 \nL 3169 4134 \nL 1269 4134 \nL 1269 2991 \nQ 1406 3038 1543 3061 \nQ 1681 3084 1819 3084 \nQ 2600 3084 3056 2656 \nQ 3513 2228 3513 1497 \nQ 3513 744 3044 326 \nQ 2575 -91 1722 -91 \nQ 1428 -91 1123 -41 \nQ 819 9 494 109 \nL 494 744 \nQ 775 591 1075 516 \nQ 1375 441 1709 441 \nQ 2250 441 2565 725 \nQ 2881 1009 2881 1497 \nQ 2881 1984 2565 2268 \nQ 2250 2553 1709 2553 \nQ 1456 2553 1204 2497 \nQ 953 2441 691 2322 \nL 691 4666 \nz\n\" id=\"DejaVuSans-35\" transform=\"scale(0.015625)\"/>\n       </defs>\n       <use xlink:href=\"#DejaVuSans-35\"/>\n       <use x=\"63.623047\" xlink:href=\"#DejaVuSans-30\"/>\n      </g>\n     </g>\n    </g>\n    <g id=\"ytick_7\">\n     <g id=\"line2d_14\">\n      <g>\n       <use style=\"stroke:#000000;stroke-width:0.8;\" x=\"43.78125\" xlink:href=\"#m7e2e296a72\" y=\"83.297292\"/>\n      </g>\n     </g>\n     <g id=\"text_15\">\n      <!-- 60 -->\n      <g transform=\"translate(24.05625 87.09651)scale(0.1 -0.1)\">\n       <use xlink:href=\"#DejaVuSans-36\"/>\n       <use x=\"63.623047\" xlink:href=\"#DejaVuSans-30\"/>\n      </g>\n     </g>\n    </g>\n    <g id=\"ytick_8\">\n     <g id=\"line2d_15\">\n      <g>\n       <use style=\"stroke:#000000;stroke-width:0.8;\" x=\"43.78125\" xlink:href=\"#m7e2e296a72\" y=\"57.889306\"/>\n      </g>\n     </g>\n     <g id=\"text_16\">\n      <!-- 70 -->\n      <g transform=\"translate(24.05625 61.688524)scale(0.1 -0.1)\">\n       <defs>\n        <path d=\"M 525 4666 \nL 3525 4666 \nL 3525 4397 \nL 1831 0 \nL 1172 0 \nL 2766 4134 \nL 525 4134 \nL 525 4666 \nz\n\" id=\"DejaVuSans-37\" transform=\"scale(0.015625)\"/>\n       </defs>\n       <use xlink:href=\"#DejaVuSans-37\"/>\n       <use x=\"63.623047\" xlink:href=\"#DejaVuSans-30\"/>\n      </g>\n     </g>\n    </g>\n    <g id=\"ytick_9\">\n     <g id=\"line2d_16\">\n      <g>\n       <use style=\"stroke:#000000;stroke-width:0.8;\" x=\"43.78125\" xlink:href=\"#m7e2e296a72\" y=\"32.481319\"/>\n      </g>\n     </g>\n     <g id=\"text_17\">\n      <!-- 80 -->\n      <g transform=\"translate(24.05625 36.280538)scale(0.1 -0.1)\">\n       <use xlink:href=\"#DejaVuSans-38\"/>\n       <use x=\"63.623047\" xlink:href=\"#DejaVuSans-30\"/>\n      </g>\n     </g>\n    </g>\n    <g id=\"text_18\">\n     <!-- Count -->\n     <g transform=\"translate(17.976563 143.880104)rotate(-90)scale(0.1 -0.1)\">\n      <defs>\n       <path d=\"M 4122 4306 \nL 4122 3641 \nQ 3803 3938 3442 4084 \nQ 3081 4231 2675 4231 \nQ 1875 4231 1450 3742 \nQ 1025 3253 1025 2328 \nQ 1025 1406 1450 917 \nQ 1875 428 2675 428 \nQ 3081 428 3442 575 \nQ 3803 722 4122 1019 \nL 4122 359 \nQ 3791 134 3420 21 \nQ 3050 -91 2638 -91 \nQ 1578 -91 968 557 \nQ 359 1206 359 2328 \nQ 359 3453 968 4101 \nQ 1578 4750 2638 4750 \nQ 3056 4750 3426 4639 \nQ 3797 4528 4122 4306 \nz\n\" id=\"DejaVuSans-43\" transform=\"scale(0.015625)\"/>\n      </defs>\n      <use xlink:href=\"#DejaVuSans-43\"/>\n      <use x=\"69.824219\" xlink:href=\"#DejaVuSans-6f\"/>\n      <use x=\"131.005859\" xlink:href=\"#DejaVuSans-75\"/>\n      <use x=\"194.384766\" xlink:href=\"#DejaVuSans-6e\"/>\n      <use x=\"257.763672\" xlink:href=\"#DejaVuSans-74\"/>\n     </g>\n    </g>\n   </g>\n   <g id=\"patch_23\">\n    <path d=\"M 43.78125 235.745208 \nL 43.78125 22.318125 \n\" style=\"fill:none;stroke:#000000;stroke-linecap:square;stroke-linejoin:miter;stroke-width:0.8;\"/>\n   </g>\n   <g id=\"patch_24\">\n    <path d=\"M 331.091753 235.745208 \nL 331.091753 22.318125 \n\" style=\"fill:none;stroke:#000000;stroke-linecap:square;stroke-linejoin:miter;stroke-width:0.8;\"/>\n   </g>\n   <g id=\"patch_25\">\n    <path d=\"M 43.78125 235.745208 \nL 331.091753 235.745208 \n\" style=\"fill:none;stroke:#000000;stroke-linecap:square;stroke-linejoin:miter;stroke-width:0.8;\"/>\n   </g>\n   <g id=\"patch_26\">\n    <path d=\"M 43.78125 22.318125 \nL 331.091753 22.318125 \n\" style=\"fill:none;stroke:#000000;stroke-linecap:square;stroke-linejoin:miter;stroke-width:0.8;\"/>\n   </g>\n   <g id=\"text_19\">\n    <!-- jairbolsonaro -->\n    <g transform=\"translate(148.533064 16.318125)scale(0.12 -0.12)\">\n     <defs>\n      <path d=\"M 603 3500 \nL 1178 3500 \nL 1178 -63 \nQ 1178 -731 923 -1031 \nQ 669 -1331 103 -1331 \nL -116 -1331 \nL -116 -844 \nL 38 -844 \nQ 366 -844 484 -692 \nQ 603 -541 603 -63 \nL 603 3500 \nz\nM 603 4863 \nL 1178 4863 \nL 1178 4134 \nL 603 4134 \nL 603 4863 \nz\n\" id=\"DejaVuSans-6a\" transform=\"scale(0.015625)\"/>\n      <path d=\"M 2194 1759 \nQ 1497 1759 1228 1600 \nQ 959 1441 959 1056 \nQ 959 750 1161 570 \nQ 1363 391 1709 391 \nQ 2188 391 2477 730 \nQ 2766 1069 2766 1631 \nL 2766 1759 \nL 2194 1759 \nz\nM 3341 1997 \nL 3341 0 \nL 2766 0 \nL 2766 531 \nQ 2569 213 2275 61 \nQ 1981 -91 1556 -91 \nQ 1019 -91 701 211 \nQ 384 513 384 1019 \nQ 384 1609 779 1909 \nQ 1175 2209 1959 2209 \nL 2766 2209 \nL 2766 2266 \nQ 2766 2663 2505 2880 \nQ 2244 3097 1772 3097 \nQ 1472 3097 1187 3025 \nQ 903 2953 641 2809 \nL 641 3341 \nQ 956 3463 1253 3523 \nQ 1550 3584 1831 3584 \nQ 2591 3584 2966 3190 \nQ 3341 2797 3341 1997 \nz\n\" id=\"DejaVuSans-61\" transform=\"scale(0.015625)\"/>\n      <path d=\"M 2631 2963 \nQ 2534 3019 2420 3045 \nQ 2306 3072 2169 3072 \nQ 1681 3072 1420 2755 \nQ 1159 2438 1159 1844 \nL 1159 0 \nL 581 0 \nL 581 3500 \nL 1159 3500 \nL 1159 2956 \nQ 1341 3275 1631 3429 \nQ 1922 3584 2338 3584 \nQ 2397 3584 2469 3576 \nQ 2541 3569 2628 3553 \nL 2631 2963 \nz\n\" id=\"DejaVuSans-72\" transform=\"scale(0.015625)\"/>\n      <path d=\"M 3116 1747 \nQ 3116 2381 2855 2742 \nQ 2594 3103 2138 3103 \nQ 1681 3103 1420 2742 \nQ 1159 2381 1159 1747 \nQ 1159 1113 1420 752 \nQ 1681 391 2138 391 \nQ 2594 391 2855 752 \nQ 3116 1113 3116 1747 \nz\nM 1159 2969 \nQ 1341 3281 1617 3432 \nQ 1894 3584 2278 3584 \nQ 2916 3584 3314 3078 \nQ 3713 2572 3713 1747 \nQ 3713 922 3314 415 \nQ 2916 -91 2278 -91 \nQ 1894 -91 1617 61 \nQ 1341 213 1159 525 \nL 1159 0 \nL 581 0 \nL 581 4863 \nL 1159 4863 \nL 1159 2969 \nz\n\" id=\"DejaVuSans-62\" transform=\"scale(0.015625)\"/>\n      <path d=\"M 2834 3397 \nL 2834 2853 \nQ 2591 2978 2328 3040 \nQ 2066 3103 1784 3103 \nQ 1356 3103 1142 2972 \nQ 928 2841 928 2578 \nQ 928 2378 1081 2264 \nQ 1234 2150 1697 2047 \nL 1894 2003 \nQ 2506 1872 2764 1633 \nQ 3022 1394 3022 966 \nQ 3022 478 2636 193 \nQ 2250 -91 1575 -91 \nQ 1294 -91 989 -36 \nQ 684 19 347 128 \nL 347 722 \nQ 666 556 975 473 \nQ 1284 391 1588 391 \nQ 1994 391 2212 530 \nQ 2431 669 2431 922 \nQ 2431 1156 2273 1281 \nQ 2116 1406 1581 1522 \nL 1381 1569 \nQ 847 1681 609 1914 \nQ 372 2147 372 2553 \nQ 372 3047 722 3315 \nQ 1072 3584 1716 3584 \nQ 2034 3584 2315 3537 \nQ 2597 3491 2834 3397 \nz\n\" id=\"DejaVuSans-73\" transform=\"scale(0.015625)\"/>\n     </defs>\n     <use xlink:href=\"#DejaVuSans-6a\"/>\n     <use x=\"27.783203\" xlink:href=\"#DejaVuSans-61\"/>\n     <use x=\"89.0625\" xlink:href=\"#DejaVuSans-69\"/>\n     <use x=\"116.845703\" xlink:href=\"#DejaVuSans-72\"/>\n     <use x=\"157.958984\" xlink:href=\"#DejaVuSans-62\"/>\n     <use x=\"221.435547\" xlink:href=\"#DejaVuSans-6f\"/>\n     <use x=\"282.617188\" xlink:href=\"#DejaVuSans-6c\"/>\n     <use x=\"310.400391\" xlink:href=\"#DejaVuSans-73\"/>\n     <use x=\"362.5\" xlink:href=\"#DejaVuSans-6f\"/>\n     <use x=\"423.681641\" xlink:href=\"#DejaVuSans-6e\"/>\n     <use x=\"487.060547\" xlink:href=\"#DejaVuSans-61\"/>\n     <use x=\"548.339844\" xlink:href=\"#DejaVuSans-72\"/>\n     <use x=\"587.203125\" xlink:href=\"#DejaVuSans-6f\"/>\n    </g>\n   </g>\n  </g>\n  <g id=\"axes_2\">\n   <g id=\"patch_27\">\n    <path d=\"M 395.93282 235.745208 \nL 683.243323 235.745208 \nL 683.243323 22.318125 \nL 395.93282 22.318125 \nz\n\" style=\"fill:#ffffff;\"/>\n   </g>\n   <g id=\"patch_28\">\n    <path clip-path=\"url(#p10c339316c)\" d=\"M 408.992388 235.745208 \nL 422.051957 235.745208 \nL 422.051957 32.481319 \nL 408.992388 32.481319 \nz\n\" style=\"fill:#1f77b4;fill-opacity:0.75;stroke:#000000;stroke-linejoin:miter;\"/>\n   </g>\n   <g id=\"patch_29\">\n    <path clip-path=\"url(#p10c339316c)\" d=\"M 422.051957 235.745208 \nL 435.111525 235.745208 \nL 435.111525 155.140563 \nL 422.051957 155.140563 \nz\n\" style=\"fill:#1f77b4;fill-opacity:0.75;stroke:#000000;stroke-linejoin:miter;\"/>\n   </g>\n   <g id=\"patch_30\">\n    <path clip-path=\"url(#p10c339316c)\" d=\"M 435.111525 235.745208 \nL 448.171093 235.745208 \nL 448.171093 197.19516 \nL 435.111525 197.19516 \nz\n\" style=\"fill:#1f77b4;fill-opacity:0.75;stroke:#000000;stroke-linejoin:miter;\"/>\n   </g>\n   <g id=\"patch_31\">\n    <path clip-path=\"url(#p10c339316c)\" d=\"M 448.171093 235.745208 \nL 461.230661 235.745208 \nL 461.230661 212.965635 \nL 448.171093 212.965635 \nz\n\" style=\"fill:#1f77b4;fill-opacity:0.75;stroke:#000000;stroke-linejoin:miter;\"/>\n   </g>\n   <g id=\"patch_32\">\n    <path clip-path=\"url(#p10c339316c)\" d=\"M 461.230661 235.745208 \nL 474.29023 235.745208 \nL 474.29023 218.222459 \nL 461.230661 218.222459 \nz\n\" style=\"fill:#1f77b4;fill-opacity:0.75;stroke:#000000;stroke-linejoin:miter;\"/>\n   </g>\n   <g id=\"patch_33\">\n    <path clip-path=\"url(#p10c339316c)\" d=\"M 474.29023 235.745208 \nL 487.349798 235.745208 \nL 487.349798 226.983834 \nL 474.29023 226.983834 \nz\n\" style=\"fill:#1f77b4;fill-opacity:0.75;stroke:#000000;stroke-linejoin:miter;\"/>\n   </g>\n   <g id=\"patch_34\">\n    <path clip-path=\"url(#p10c339316c)\" d=\"M 487.349798 235.745208 \nL 500.409366 235.745208 \nL 500.409366 226.983834 \nL 487.349798 226.983834 \nz\n\" style=\"fill:#1f77b4;fill-opacity:0.75;stroke:#000000;stroke-linejoin:miter;\"/>\n   </g>\n   <g id=\"patch_35\">\n    <path clip-path=\"url(#p10c339316c)\" d=\"M 500.409366 235.745208 \nL 513.468935 235.745208 \nL 513.468935 232.240659 \nL 500.409366 232.240659 \nz\n\" style=\"fill:#1f77b4;fill-opacity:0.75;stroke:#000000;stroke-linejoin:miter;\"/>\n   </g>\n   <g id=\"patch_36\">\n    <path clip-path=\"url(#p10c339316c)\" d=\"M 513.468935 235.745208 \nL 526.528503 235.745208 \nL 526.528503 233.992933 \nL 513.468935 233.992933 \nz\n\" style=\"fill:#1f77b4;fill-opacity:0.75;stroke:#000000;stroke-linejoin:miter;\"/>\n   </g>\n   <g id=\"patch_37\">\n    <path clip-path=\"url(#p10c339316c)\" d=\"M 526.528503 235.745208 \nL 539.588071 235.745208 \nL 539.588071 233.992933 \nL 526.528503 233.992933 \nz\n\" style=\"fill:#1f77b4;fill-opacity:0.75;stroke:#000000;stroke-linejoin:miter;\"/>\n   </g>\n   <g id=\"patch_38\">\n    <path clip-path=\"url(#p10c339316c)\" d=\"M 539.588071 235.745208 \nL 552.64764 235.745208 \nL 552.64764 235.745208 \nL 539.588071 235.745208 \nz\n\" style=\"fill:#1f77b4;fill-opacity:0.75;stroke:#000000;stroke-linejoin:miter;\"/>\n   </g>\n   <g id=\"patch_39\">\n    <path clip-path=\"url(#p10c339316c)\" d=\"M 552.64764 235.745208 \nL 565.707208 235.745208 \nL 565.707208 233.992933 \nL 552.64764 233.992933 \nz\n\" style=\"fill:#1f77b4;fill-opacity:0.75;stroke:#000000;stroke-linejoin:miter;\"/>\n   </g>\n   <g id=\"patch_40\">\n    <path clip-path=\"url(#p10c339316c)\" d=\"M 565.707208 235.745208 \nL 578.766776 235.745208 \nL 578.766776 233.992933 \nL 565.707208 233.992933 \nz\n\" style=\"fill:#1f77b4;fill-opacity:0.75;stroke:#000000;stroke-linejoin:miter;\"/>\n   </g>\n   <g id=\"patch_41\">\n    <path clip-path=\"url(#p10c339316c)\" d=\"M 578.766776 235.745208 \nL 591.826345 235.745208 \nL 591.826345 233.992933 \nL 578.766776 233.992933 \nz\n\" style=\"fill:#1f77b4;fill-opacity:0.75;stroke:#000000;stroke-linejoin:miter;\"/>\n   </g>\n   <g id=\"patch_42\">\n    <path clip-path=\"url(#p10c339316c)\" d=\"M 591.826345 235.745208 \nL 604.885913 235.745208 \nL 604.885913 235.745208 \nL 591.826345 235.745208 \nz\n\" style=\"fill:#1f77b4;fill-opacity:0.75;stroke:#000000;stroke-linejoin:miter;\"/>\n   </g>\n   <g id=\"patch_43\">\n    <path clip-path=\"url(#p10c339316c)\" d=\"M 604.885913 235.745208 \nL 617.945481 235.745208 \nL 617.945481 235.745208 \nL 604.885913 235.745208 \nz\n\" style=\"fill:#1f77b4;fill-opacity:0.75;stroke:#000000;stroke-linejoin:miter;\"/>\n   </g>\n   <g id=\"patch_44\">\n    <path clip-path=\"url(#p10c339316c)\" d=\"M 617.945481 235.745208 \nL 631.00505 235.745208 \nL 631.00505 235.745208 \nL 617.945481 235.745208 \nz\n\" style=\"fill:#1f77b4;fill-opacity:0.75;stroke:#000000;stroke-linejoin:miter;\"/>\n   </g>\n   <g id=\"patch_45\">\n    <path clip-path=\"url(#p10c339316c)\" d=\"M 631.00505 235.745208 \nL 644.064618 235.745208 \nL 644.064618 235.745208 \nL 631.00505 235.745208 \nz\n\" style=\"fill:#1f77b4;fill-opacity:0.75;stroke:#000000;stroke-linejoin:miter;\"/>\n   </g>\n   <g id=\"patch_46\">\n    <path clip-path=\"url(#p10c339316c)\" d=\"M 644.064618 235.745208 \nL 657.124186 235.745208 \nL 657.124186 235.745208 \nL 644.064618 235.745208 \nz\n\" style=\"fill:#1f77b4;fill-opacity:0.75;stroke:#000000;stroke-linejoin:miter;\"/>\n   </g>\n   <g id=\"patch_47\">\n    <path clip-path=\"url(#p10c339316c)\" d=\"M 657.124186 235.745208 \nL 670.183754 235.745208 \nL 670.183754 233.992933 \nL 657.124186 233.992933 \nz\n\" style=\"fill:#1f77b4;fill-opacity:0.75;stroke:#000000;stroke-linejoin:miter;\"/>\n   </g>\n   <g id=\"matplotlib.axis_3\">\n    <g id=\"xtick_8\">\n     <g id=\"line2d_17\">\n      <g>\n       <use style=\"stroke:#000000;stroke-width:0.8;\" x=\"408.992388\" xlink:href=\"#m78cdc2cedf\" y=\"235.745208\"/>\n      </g>\n     </g>\n     <g id=\"text_20\">\n      <!-- 0 -->\n      <g transform=\"translate(405.811138 250.343646)scale(0.1 -0.1)\">\n       <use xlink:href=\"#DejaVuSans-30\"/>\n      </g>\n     </g>\n    </g>\n    <g id=\"xtick_9\">\n     <g id=\"line2d_18\">\n      <g>\n       <use style=\"stroke:#000000;stroke-width:0.8;\" x=\"466.098376\" xlink:href=\"#m78cdc2cedf\" y=\"235.745208\"/>\n      </g>\n     </g>\n     <g id=\"text_21\">\n      <!-- 10000 -->\n      <g transform=\"translate(450.192126 250.343646)scale(0.1 -0.1)\">\n       <use xlink:href=\"#DejaVuSans-31\"/>\n       <use x=\"63.623047\" xlink:href=\"#DejaVuSans-30\"/>\n       <use x=\"127.246094\" xlink:href=\"#DejaVuSans-30\"/>\n       <use x=\"190.869141\" xlink:href=\"#DejaVuSans-30\"/>\n       <use x=\"254.492188\" xlink:href=\"#DejaVuSans-30\"/>\n      </g>\n     </g>\n    </g>\n    <g id=\"xtick_10\">\n     <g id=\"line2d_19\">\n      <g>\n       <use style=\"stroke:#000000;stroke-width:0.8;\" x=\"523.204363\" xlink:href=\"#m78cdc2cedf\" y=\"235.745208\"/>\n      </g>\n     </g>\n     <g id=\"text_22\">\n      <!-- 20000 -->\n      <g transform=\"translate(507.298113 250.343646)scale(0.1 -0.1)\">\n       <use xlink:href=\"#DejaVuSans-32\"/>\n       <use x=\"63.623047\" xlink:href=\"#DejaVuSans-30\"/>\n       <use x=\"127.246094\" xlink:href=\"#DejaVuSans-30\"/>\n       <use x=\"190.869141\" xlink:href=\"#DejaVuSans-30\"/>\n       <use x=\"254.492188\" xlink:href=\"#DejaVuSans-30\"/>\n      </g>\n     </g>\n    </g>\n    <g id=\"xtick_11\">\n     <g id=\"line2d_20\">\n      <g>\n       <use style=\"stroke:#000000;stroke-width:0.8;\" x=\"580.310351\" xlink:href=\"#m78cdc2cedf\" y=\"235.745208\"/>\n      </g>\n     </g>\n     <g id=\"text_23\">\n      <!-- 30000 -->\n      <g transform=\"translate(564.404101 250.343646)scale(0.1 -0.1)\">\n       <use xlink:href=\"#DejaVuSans-33\"/>\n       <use x=\"63.623047\" xlink:href=\"#DejaVuSans-30\"/>\n       <use x=\"127.246094\" xlink:href=\"#DejaVuSans-30\"/>\n       <use x=\"190.869141\" xlink:href=\"#DejaVuSans-30\"/>\n       <use x=\"254.492188\" xlink:href=\"#DejaVuSans-30\"/>\n      </g>\n     </g>\n    </g>\n    <g id=\"xtick_12\">\n     <g id=\"line2d_21\">\n      <g>\n       <use style=\"stroke:#000000;stroke-width:0.8;\" x=\"637.416339\" xlink:href=\"#m78cdc2cedf\" y=\"235.745208\"/>\n      </g>\n     </g>\n     <g id=\"text_24\">\n      <!-- 40000 -->\n      <g transform=\"translate(621.510089 250.343646)scale(0.1 -0.1)\">\n       <use xlink:href=\"#DejaVuSans-34\"/>\n       <use x=\"63.623047\" xlink:href=\"#DejaVuSans-30\"/>\n       <use x=\"127.246094\" xlink:href=\"#DejaVuSans-30\"/>\n       <use x=\"190.869141\" xlink:href=\"#DejaVuSans-30\"/>\n       <use x=\"254.492188\" xlink:href=\"#DejaVuSans-30\"/>\n      </g>\n     </g>\n    </g>\n    <g id=\"text_25\">\n     <!-- like_count -->\n     <g transform=\"translate(514.413071 264.021771)scale(0.1 -0.1)\">\n      <use xlink:href=\"#DejaVuSans-6c\"/>\n      <use x=\"27.783203\" xlink:href=\"#DejaVuSans-69\"/>\n      <use x=\"55.566406\" xlink:href=\"#DejaVuSans-6b\"/>\n      <use x=\"109.851562\" xlink:href=\"#DejaVuSans-65\"/>\n      <use x=\"171.375\" xlink:href=\"#DejaVuSans-5f\"/>\n      <use x=\"221.375\" xlink:href=\"#DejaVuSans-63\"/>\n      <use x=\"276.355469\" xlink:href=\"#DejaVuSans-6f\"/>\n      <use x=\"337.537109\" xlink:href=\"#DejaVuSans-75\"/>\n      <use x=\"400.916016\" xlink:href=\"#DejaVuSans-6e\"/>\n      <use x=\"464.294922\" xlink:href=\"#DejaVuSans-74\"/>\n     </g>\n    </g>\n   </g>\n   <g id=\"matplotlib.axis_4\">\n    <g id=\"ytick_10\">\n     <g id=\"line2d_22\">\n      <g>\n       <use style=\"stroke:#000000;stroke-width:0.8;\" x=\"395.93282\" xlink:href=\"#m7e2e296a72\" y=\"235.745208\"/>\n      </g>\n     </g>\n     <g id=\"text_26\">\n      <!-- 0 -->\n      <g transform=\"translate(382.57032 239.544427)scale(0.1 -0.1)\">\n       <use xlink:href=\"#DejaVuSans-30\"/>\n      </g>\n     </g>\n    </g>\n    <g id=\"ytick_11\">\n     <g id=\"line2d_23\">\n      <g>\n       <use style=\"stroke:#000000;stroke-width:0.8;\" x=\"395.93282\" xlink:href=\"#m7e2e296a72\" y=\"200.69971\"/>\n      </g>\n     </g>\n     <g id=\"text_27\">\n      <!-- 20 -->\n      <g transform=\"translate(376.20782 204.498929)scale(0.1 -0.1)\">\n       <use xlink:href=\"#DejaVuSans-32\"/>\n       <use x=\"63.623047\" xlink:href=\"#DejaVuSans-30\"/>\n      </g>\n     </g>\n    </g>\n    <g id=\"ytick_12\">\n     <g id=\"line2d_24\">\n      <g>\n       <use style=\"stroke:#000000;stroke-width:0.8;\" x=\"395.93282\" xlink:href=\"#m7e2e296a72\" y=\"165.654212\"/>\n      </g>\n     </g>\n     <g id=\"text_28\">\n      <!-- 40 -->\n      <g transform=\"translate(376.20782 169.453431)scale(0.1 -0.1)\">\n       <use xlink:href=\"#DejaVuSans-34\"/>\n       <use x=\"63.623047\" xlink:href=\"#DejaVuSans-30\"/>\n      </g>\n     </g>\n    </g>\n    <g id=\"ytick_13\">\n     <g id=\"line2d_25\">\n      <g>\n       <use style=\"stroke:#000000;stroke-width:0.8;\" x=\"395.93282\" xlink:href=\"#m7e2e296a72\" y=\"130.608714\"/>\n      </g>\n     </g>\n     <g id=\"text_29\">\n      <!-- 60 -->\n      <g transform=\"translate(376.20782 134.407933)scale(0.1 -0.1)\">\n       <use xlink:href=\"#DejaVuSans-36\"/>\n       <use x=\"63.623047\" xlink:href=\"#DejaVuSans-30\"/>\n      </g>\n     </g>\n    </g>\n    <g id=\"ytick_14\">\n     <g id=\"line2d_26\">\n      <g>\n       <use style=\"stroke:#000000;stroke-width:0.8;\" x=\"395.93282\" xlink:href=\"#m7e2e296a72\" y=\"95.563216\"/>\n      </g>\n     </g>\n     <g id=\"text_30\">\n      <!-- 80 -->\n      <g transform=\"translate(376.20782 99.362435)scale(0.1 -0.1)\">\n       <use xlink:href=\"#DejaVuSans-38\"/>\n       <use x=\"63.623047\" xlink:href=\"#DejaVuSans-30\"/>\n      </g>\n     </g>\n    </g>\n    <g id=\"ytick_15\">\n     <g id=\"line2d_27\">\n      <g>\n       <use style=\"stroke:#000000;stroke-width:0.8;\" x=\"395.93282\" xlink:href=\"#m7e2e296a72\" y=\"60.517718\"/>\n      </g>\n     </g>\n     <g id=\"text_31\">\n      <!-- 100 -->\n      <g transform=\"translate(369.84532 64.316937)scale(0.1 -0.1)\">\n       <use xlink:href=\"#DejaVuSans-31\"/>\n       <use x=\"63.623047\" xlink:href=\"#DejaVuSans-30\"/>\n       <use x=\"127.246094\" xlink:href=\"#DejaVuSans-30\"/>\n      </g>\n     </g>\n    </g>\n    <g id=\"ytick_16\">\n     <g id=\"line2d_28\">\n      <g>\n       <use style=\"stroke:#000000;stroke-width:0.8;\" x=\"395.93282\" xlink:href=\"#m7e2e296a72\" y=\"25.47222\"/>\n      </g>\n     </g>\n     <g id=\"text_32\">\n      <!-- 120 -->\n      <g transform=\"translate(369.84532 29.271439)scale(0.1 -0.1)\">\n       <use xlink:href=\"#DejaVuSans-31\"/>\n       <use x=\"63.623047\" xlink:href=\"#DejaVuSans-32\"/>\n       <use x=\"127.246094\" xlink:href=\"#DejaVuSans-30\"/>\n      </g>\n     </g>\n    </g>\n    <g id=\"text_33\">\n     <!-- Count -->\n     <g transform=\"translate(363.765632 143.880104)rotate(-90)scale(0.1 -0.1)\">\n      <use xlink:href=\"#DejaVuSans-43\"/>\n      <use x=\"69.824219\" xlink:href=\"#DejaVuSans-6f\"/>\n      <use x=\"131.005859\" xlink:href=\"#DejaVuSans-75\"/>\n      <use x=\"194.384766\" xlink:href=\"#DejaVuSans-6e\"/>\n      <use x=\"257.763672\" xlink:href=\"#DejaVuSans-74\"/>\n     </g>\n    </g>\n   </g>\n   <g id=\"patch_48\">\n    <path d=\"M 395.93282 235.745208 \nL 395.93282 22.318125 \n\" style=\"fill:none;stroke:#000000;stroke-linecap:square;stroke-linejoin:miter;stroke-width:0.8;\"/>\n   </g>\n   <g id=\"patch_49\">\n    <path d=\"M 683.243323 235.745208 \nL 683.243323 22.318125 \n\" style=\"fill:none;stroke:#000000;stroke-linecap:square;stroke-linejoin:miter;stroke-width:0.8;\"/>\n   </g>\n   <g id=\"patch_50\">\n    <path d=\"M 395.93282 235.745208 \nL 683.243323 235.745208 \n\" style=\"fill:none;stroke:#000000;stroke-linecap:square;stroke-linejoin:miter;stroke-width:0.8;\"/>\n   </g>\n   <g id=\"patch_51\">\n    <path d=\"M 395.93282 22.318125 \nL 683.243323 22.318125 \n\" style=\"fill:none;stroke:#000000;stroke-linecap:square;stroke-linejoin:miter;stroke-width:0.8;\"/>\n   </g>\n   <g id=\"text_34\">\n    <!-- cirogomes -->\n    <g transform=\"translate(508.477134 16.318125)scale(0.12 -0.12)\">\n     <defs>\n      <path d=\"M 2906 1791 \nQ 2906 2416 2648 2759 \nQ 2391 3103 1925 3103 \nQ 1463 3103 1205 2759 \nQ 947 2416 947 1791 \nQ 947 1169 1205 825 \nQ 1463 481 1925 481 \nQ 2391 481 2648 825 \nQ 2906 1169 2906 1791 \nz\nM 3481 434 \nQ 3481 -459 3084 -895 \nQ 2688 -1331 1869 -1331 \nQ 1566 -1331 1297 -1286 \nQ 1028 -1241 775 -1147 \nL 775 -588 \nQ 1028 -725 1275 -790 \nQ 1522 -856 1778 -856 \nQ 2344 -856 2625 -561 \nQ 2906 -266 2906 331 \nL 2906 616 \nQ 2728 306 2450 153 \nQ 2172 0 1784 0 \nQ 1141 0 747 490 \nQ 353 981 353 1791 \nQ 353 2603 747 3093 \nQ 1141 3584 1784 3584 \nQ 2172 3584 2450 3431 \nQ 2728 3278 2906 2969 \nL 2906 3500 \nL 3481 3500 \nL 3481 434 \nz\n\" id=\"DejaVuSans-67\" transform=\"scale(0.015625)\"/>\n      <path d=\"M 3328 2828 \nQ 3544 3216 3844 3400 \nQ 4144 3584 4550 3584 \nQ 5097 3584 5394 3201 \nQ 5691 2819 5691 2113 \nL 5691 0 \nL 5113 0 \nL 5113 2094 \nQ 5113 2597 4934 2840 \nQ 4756 3084 4391 3084 \nQ 3944 3084 3684 2787 \nQ 3425 2491 3425 1978 \nL 3425 0 \nL 2847 0 \nL 2847 2094 \nQ 2847 2600 2669 2842 \nQ 2491 3084 2119 3084 \nQ 1678 3084 1418 2786 \nQ 1159 2488 1159 1978 \nL 1159 0 \nL 581 0 \nL 581 3500 \nL 1159 3500 \nL 1159 2956 \nQ 1356 3278 1631 3431 \nQ 1906 3584 2284 3584 \nQ 2666 3584 2933 3390 \nQ 3200 3197 3328 2828 \nz\n\" id=\"DejaVuSans-6d\" transform=\"scale(0.015625)\"/>\n     </defs>\n     <use xlink:href=\"#DejaVuSans-63\"/>\n     <use x=\"54.980469\" xlink:href=\"#DejaVuSans-69\"/>\n     <use x=\"82.763672\" xlink:href=\"#DejaVuSans-72\"/>\n     <use x=\"121.626953\" xlink:href=\"#DejaVuSans-6f\"/>\n     <use x=\"182.808594\" xlink:href=\"#DejaVuSans-67\"/>\n     <use x=\"246.285156\" xlink:href=\"#DejaVuSans-6f\"/>\n     <use x=\"307.466797\" xlink:href=\"#DejaVuSans-6d\"/>\n     <use x=\"404.878906\" xlink:href=\"#DejaVuSans-65\"/>\n     <use x=\"466.402344\" xlink:href=\"#DejaVuSans-73\"/>\n    </g>\n   </g>\n  </g>\n  <g id=\"axes_3\">\n   <g id=\"patch_52\">\n    <path d=\"M 43.78125 517.078542 \nL 331.091753 517.078542 \nL 331.091753 303.651458 \nL 43.78125 303.651458 \nz\n\" style=\"fill:#ffffff;\"/>\n   </g>\n   <g id=\"patch_53\">\n    <path clip-path=\"url(#p3fe9b63be3)\" d=\"M 56.840818 517.078542 \nL 69.900387 517.078542 \nL 69.900387 313.814653 \nL 56.840818 313.814653 \nz\n\" style=\"fill:#1f77b4;fill-opacity:0.75;stroke:#000000;stroke-linejoin:miter;\"/>\n   </g>\n   <g id=\"patch_54\">\n    <path clip-path=\"url(#p3fe9b63be3)\" d=\"M 69.900387 517.078542 \nL 82.959955 517.078542 \nL 82.959955 466.262569 \nL 69.900387 466.262569 \nz\n\" style=\"fill:#1f77b4;fill-opacity:0.75;stroke:#000000;stroke-linejoin:miter;\"/>\n   </g>\n   <g id=\"patch_55\">\n    <path clip-path=\"url(#p3fe9b63be3)\" d=\"M 82.959955 517.078542 \nL 96.019523 517.078542 \nL 96.019523 517.078542 \nL 82.959955 517.078542 \nz\n\" style=\"fill:#1f77b4;fill-opacity:0.75;stroke:#000000;stroke-linejoin:miter;\"/>\n   </g>\n   <g id=\"patch_56\">\n    <path clip-path=\"url(#p3fe9b63be3)\" d=\"M 96.019523 517.078542 \nL 109.079092 517.078542 \nL 109.079092 517.078542 \nL 96.019523 517.078542 \nz\n\" style=\"fill:#1f77b4;fill-opacity:0.75;stroke:#000000;stroke-linejoin:miter;\"/>\n   </g>\n   <g id=\"patch_57\">\n    <path clip-path=\"url(#p3fe9b63be3)\" d=\"M 109.079092 517.078542 \nL 122.13866 517.078542 \nL 122.13866 415.446597 \nL 109.079092 415.446597 \nz\n\" style=\"fill:#1f77b4;fill-opacity:0.75;stroke:#000000;stroke-linejoin:miter;\"/>\n   </g>\n   <g id=\"patch_58\">\n    <path clip-path=\"url(#p3fe9b63be3)\" d=\"M 122.13866 517.078542 \nL 135.198228 517.078542 \nL 135.198228 517.078542 \nL 122.13866 517.078542 \nz\n\" style=\"fill:#1f77b4;fill-opacity:0.75;stroke:#000000;stroke-linejoin:miter;\"/>\n   </g>\n   <g id=\"patch_59\">\n    <path clip-path=\"url(#p3fe9b63be3)\" d=\"M 135.198228 517.078542 \nL 148.257796 517.078542 \nL 148.257796 517.078542 \nL 135.198228 517.078542 \nz\n\" style=\"fill:#1f77b4;fill-opacity:0.75;stroke:#000000;stroke-linejoin:miter;\"/>\n   </g>\n   <g id=\"patch_60\">\n    <path clip-path=\"url(#p3fe9b63be3)\" d=\"M 148.257796 517.078542 \nL 161.317365 517.078542 \nL 161.317365 517.078542 \nL 148.257796 517.078542 \nz\n\" style=\"fill:#1f77b4;fill-opacity:0.75;stroke:#000000;stroke-linejoin:miter;\"/>\n   </g>\n   <g id=\"patch_61\">\n    <path clip-path=\"url(#p3fe9b63be3)\" d=\"M 161.317365 517.078542 \nL 174.376933 517.078542 \nL 174.376933 517.078542 \nL 161.317365 517.078542 \nz\n\" style=\"fill:#1f77b4;fill-opacity:0.75;stroke:#000000;stroke-linejoin:miter;\"/>\n   </g>\n   <g id=\"patch_62\">\n    <path clip-path=\"url(#p3fe9b63be3)\" d=\"M 174.376933 517.078542 \nL 187.436501 517.078542 \nL 187.436501 517.078542 \nL 174.376933 517.078542 \nz\n\" style=\"fill:#1f77b4;fill-opacity:0.75;stroke:#000000;stroke-linejoin:miter;\"/>\n   </g>\n   <g id=\"patch_63\">\n    <path clip-path=\"url(#p3fe9b63be3)\" d=\"M 187.436501 517.078542 \nL 200.49607 517.078542 \nL 200.49607 517.078542 \nL 187.436501 517.078542 \nz\n\" style=\"fill:#1f77b4;fill-opacity:0.75;stroke:#000000;stroke-linejoin:miter;\"/>\n   </g>\n   <g id=\"patch_64\">\n    <path clip-path=\"url(#p3fe9b63be3)\" d=\"M 200.49607 517.078542 \nL 213.555638 517.078542 \nL 213.555638 517.078542 \nL 200.49607 517.078542 \nz\n\" style=\"fill:#1f77b4;fill-opacity:0.75;stroke:#000000;stroke-linejoin:miter;\"/>\n   </g>\n   <g id=\"patch_65\">\n    <path clip-path=\"url(#p3fe9b63be3)\" d=\"M 213.555638 517.078542 \nL 226.615206 517.078542 \nL 226.615206 517.078542 \nL 213.555638 517.078542 \nz\n\" style=\"fill:#1f77b4;fill-opacity:0.75;stroke:#000000;stroke-linejoin:miter;\"/>\n   </g>\n   <g id=\"patch_66\">\n    <path clip-path=\"url(#p3fe9b63be3)\" d=\"M 226.615206 517.078542 \nL 239.674775 517.078542 \nL 239.674775 517.078542 \nL 226.615206 517.078542 \nz\n\" style=\"fill:#1f77b4;fill-opacity:0.75;stroke:#000000;stroke-linejoin:miter;\"/>\n   </g>\n   <g id=\"patch_67\">\n    <path clip-path=\"url(#p3fe9b63be3)\" d=\"M 239.674775 517.078542 \nL 252.734343 517.078542 \nL 252.734343 517.078542 \nL 239.674775 517.078542 \nz\n\" style=\"fill:#1f77b4;fill-opacity:0.75;stroke:#000000;stroke-linejoin:miter;\"/>\n   </g>\n   <g id=\"patch_68\">\n    <path clip-path=\"url(#p3fe9b63be3)\" d=\"M 252.734343 517.078542 \nL 265.793911 517.078542 \nL 265.793911 517.078542 \nL 252.734343 517.078542 \nz\n\" style=\"fill:#1f77b4;fill-opacity:0.75;stroke:#000000;stroke-linejoin:miter;\"/>\n   </g>\n   <g id=\"patch_69\">\n    <path clip-path=\"url(#p3fe9b63be3)\" d=\"M 265.793911 517.078542 \nL 278.85348 517.078542 \nL 278.85348 517.078542 \nL 265.793911 517.078542 \nz\n\" style=\"fill:#1f77b4;fill-opacity:0.75;stroke:#000000;stroke-linejoin:miter;\"/>\n   </g>\n   <g id=\"patch_70\">\n    <path clip-path=\"url(#p3fe9b63be3)\" d=\"M 278.85348 517.078542 \nL 291.913048 517.078542 \nL 291.913048 517.078542 \nL 278.85348 517.078542 \nz\n\" style=\"fill:#1f77b4;fill-opacity:0.75;stroke:#000000;stroke-linejoin:miter;\"/>\n   </g>\n   <g id=\"patch_71\">\n    <path clip-path=\"url(#p3fe9b63be3)\" d=\"M 291.913048 517.078542 \nL 304.972616 517.078542 \nL 304.972616 517.078542 \nL 291.913048 517.078542 \nz\n\" style=\"fill:#1f77b4;fill-opacity:0.75;stroke:#000000;stroke-linejoin:miter;\"/>\n   </g>\n   <g id=\"patch_72\">\n    <path clip-path=\"url(#p3fe9b63be3)\" d=\"M 304.972616 517.078542 \nL 318.032185 517.078542 \nL 318.032185 466.262569 \nL 304.972616 466.262569 \nz\n\" style=\"fill:#1f77b4;fill-opacity:0.75;stroke:#000000;stroke-linejoin:miter;\"/>\n   </g>\n   <g id=\"matplotlib.axis_5\">\n    <g id=\"xtick_13\">\n     <g id=\"line2d_29\">\n      <g>\n       <use style=\"stroke:#000000;stroke-width:0.8;\" x=\"56.840818\" xlink:href=\"#m78cdc2cedf\" y=\"517.078542\"/>\n      </g>\n     </g>\n     <g id=\"text_35\">\n      <!-- 0 -->\n      <g transform=\"translate(53.659568 531.676979)scale(0.1 -0.1)\">\n       <use xlink:href=\"#DejaVuSans-30\"/>\n      </g>\n     </g>\n    </g>\n    <g id=\"xtick_14\">\n     <g id=\"line2d_30\">\n      <g>\n       <use style=\"stroke:#000000;stroke-width:0.8;\" x=\"120.408042\" xlink:href=\"#m78cdc2cedf\" y=\"517.078542\"/>\n      </g>\n     </g>\n     <g id=\"text_36\">\n      <!-- 10000 -->\n      <g transform=\"translate(104.501792 531.676979)scale(0.1 -0.1)\">\n       <use xlink:href=\"#DejaVuSans-31\"/>\n       <use x=\"63.623047\" xlink:href=\"#DejaVuSans-30\"/>\n       <use x=\"127.246094\" xlink:href=\"#DejaVuSans-30\"/>\n       <use x=\"190.869141\" xlink:href=\"#DejaVuSans-30\"/>\n       <use x=\"254.492188\" xlink:href=\"#DejaVuSans-30\"/>\n      </g>\n     </g>\n    </g>\n    <g id=\"xtick_15\">\n     <g id=\"line2d_31\">\n      <g>\n       <use style=\"stroke:#000000;stroke-width:0.8;\" x=\"183.975266\" xlink:href=\"#m78cdc2cedf\" y=\"517.078542\"/>\n      </g>\n     </g>\n     <g id=\"text_37\">\n      <!-- 20000 -->\n      <g transform=\"translate(168.069016 531.676979)scale(0.1 -0.1)\">\n       <use xlink:href=\"#DejaVuSans-32\"/>\n       <use x=\"63.623047\" xlink:href=\"#DejaVuSans-30\"/>\n       <use x=\"127.246094\" xlink:href=\"#DejaVuSans-30\"/>\n       <use x=\"190.869141\" xlink:href=\"#DejaVuSans-30\"/>\n       <use x=\"254.492188\" xlink:href=\"#DejaVuSans-30\"/>\n      </g>\n     </g>\n    </g>\n    <g id=\"xtick_16\">\n     <g id=\"line2d_32\">\n      <g>\n       <use style=\"stroke:#000000;stroke-width:0.8;\" x=\"247.54249\" xlink:href=\"#m78cdc2cedf\" y=\"517.078542\"/>\n      </g>\n     </g>\n     <g id=\"text_38\">\n      <!-- 30000 -->\n      <g transform=\"translate(231.63624 531.676979)scale(0.1 -0.1)\">\n       <use xlink:href=\"#DejaVuSans-33\"/>\n       <use x=\"63.623047\" xlink:href=\"#DejaVuSans-30\"/>\n       <use x=\"127.246094\" xlink:href=\"#DejaVuSans-30\"/>\n       <use x=\"190.869141\" xlink:href=\"#DejaVuSans-30\"/>\n       <use x=\"254.492188\" xlink:href=\"#DejaVuSans-30\"/>\n      </g>\n     </g>\n    </g>\n    <g id=\"xtick_17\">\n     <g id=\"line2d_33\">\n      <g>\n       <use style=\"stroke:#000000;stroke-width:0.8;\" x=\"311.109714\" xlink:href=\"#m78cdc2cedf\" y=\"517.078542\"/>\n      </g>\n     </g>\n     <g id=\"text_39\">\n      <!-- 40000 -->\n      <g transform=\"translate(295.203464 531.676979)scale(0.1 -0.1)\">\n       <use xlink:href=\"#DejaVuSans-34\"/>\n       <use x=\"63.623047\" xlink:href=\"#DejaVuSans-30\"/>\n       <use x=\"127.246094\" xlink:href=\"#DejaVuSans-30\"/>\n       <use x=\"190.869141\" xlink:href=\"#DejaVuSans-30\"/>\n       <use x=\"254.492188\" xlink:href=\"#DejaVuSans-30\"/>\n      </g>\n     </g>\n    </g>\n    <g id=\"text_40\">\n     <!-- like_count -->\n     <g transform=\"translate(162.261501 545.355104)scale(0.1 -0.1)\">\n      <use xlink:href=\"#DejaVuSans-6c\"/>\n      <use x=\"27.783203\" xlink:href=\"#DejaVuSans-69\"/>\n      <use x=\"55.566406\" xlink:href=\"#DejaVuSans-6b\"/>\n      <use x=\"109.851562\" xlink:href=\"#DejaVuSans-65\"/>\n      <use x=\"171.375\" xlink:href=\"#DejaVuSans-5f\"/>\n      <use x=\"221.375\" xlink:href=\"#DejaVuSans-63\"/>\n      <use x=\"276.355469\" xlink:href=\"#DejaVuSans-6f\"/>\n      <use x=\"337.537109\" xlink:href=\"#DejaVuSans-75\"/>\n      <use x=\"400.916016\" xlink:href=\"#DejaVuSans-6e\"/>\n      <use x=\"464.294922\" xlink:href=\"#DejaVuSans-74\"/>\n     </g>\n    </g>\n   </g>\n   <g id=\"matplotlib.axis_6\">\n    <g id=\"ytick_17\">\n     <g id=\"line2d_34\">\n      <g>\n       <use style=\"stroke:#000000;stroke-width:0.8;\" x=\"43.78125\" xlink:href=\"#m7e2e296a72\" y=\"517.078542\"/>\n      </g>\n     </g>\n     <g id=\"text_41\">\n      <!-- 0.0 -->\n      <g transform=\"translate(20.878125 520.87776)scale(0.1 -0.1)\">\n       <defs>\n        <path d=\"M 684 794 \nL 1344 794 \nL 1344 0 \nL 684 0 \nL 684 794 \nz\n\" id=\"DejaVuSans-2e\" transform=\"scale(0.015625)\"/>\n       </defs>\n       <use xlink:href=\"#DejaVuSans-30\"/>\n       <use x=\"63.623047\" xlink:href=\"#DejaVuSans-2e\"/>\n       <use x=\"95.410156\" xlink:href=\"#DejaVuSans-30\"/>\n      </g>\n     </g>\n    </g>\n    <g id=\"ytick_18\">\n     <g id=\"line2d_35\">\n      <g>\n       <use style=\"stroke:#000000;stroke-width:0.8;\" x=\"43.78125\" xlink:href=\"#m7e2e296a72\" y=\"491.670556\"/>\n      </g>\n     </g>\n     <g id=\"text_42\">\n      <!-- 0.5 -->\n      <g transform=\"translate(20.878125 495.469774)scale(0.1 -0.1)\">\n       <use xlink:href=\"#DejaVuSans-30\"/>\n       <use x=\"63.623047\" xlink:href=\"#DejaVuSans-2e\"/>\n       <use x=\"95.410156\" xlink:href=\"#DejaVuSans-35\"/>\n      </g>\n     </g>\n    </g>\n    <g id=\"ytick_19\">\n     <g id=\"line2d_36\">\n      <g>\n       <use style=\"stroke:#000000;stroke-width:0.8;\" x=\"43.78125\" xlink:href=\"#m7e2e296a72\" y=\"466.262569\"/>\n      </g>\n     </g>\n     <g id=\"text_43\">\n      <!-- 1.0 -->\n      <g transform=\"translate(20.878125 470.061788)scale(0.1 -0.1)\">\n       <use xlink:href=\"#DejaVuSans-31\"/>\n       <use x=\"63.623047\" xlink:href=\"#DejaVuSans-2e\"/>\n       <use x=\"95.410156\" xlink:href=\"#DejaVuSans-30\"/>\n      </g>\n     </g>\n    </g>\n    <g id=\"ytick_20\">\n     <g id=\"line2d_37\">\n      <g>\n       <use style=\"stroke:#000000;stroke-width:0.8;\" x=\"43.78125\" xlink:href=\"#m7e2e296a72\" y=\"440.854583\"/>\n      </g>\n     </g>\n     <g id=\"text_44\">\n      <!-- 1.5 -->\n      <g transform=\"translate(20.878125 444.653802)scale(0.1 -0.1)\">\n       <use xlink:href=\"#DejaVuSans-31\"/>\n       <use x=\"63.623047\" xlink:href=\"#DejaVuSans-2e\"/>\n       <use x=\"95.410156\" xlink:href=\"#DejaVuSans-35\"/>\n      </g>\n     </g>\n    </g>\n    <g id=\"ytick_21\">\n     <g id=\"line2d_38\">\n      <g>\n       <use style=\"stroke:#000000;stroke-width:0.8;\" x=\"43.78125\" xlink:href=\"#m7e2e296a72\" y=\"415.446597\"/>\n      </g>\n     </g>\n     <g id=\"text_45\">\n      <!-- 2.0 -->\n      <g transform=\"translate(20.878125 419.245816)scale(0.1 -0.1)\">\n       <use xlink:href=\"#DejaVuSans-32\"/>\n       <use x=\"63.623047\" xlink:href=\"#DejaVuSans-2e\"/>\n       <use x=\"95.410156\" xlink:href=\"#DejaVuSans-30\"/>\n      </g>\n     </g>\n    </g>\n    <g id=\"ytick_22\">\n     <g id=\"line2d_39\">\n      <g>\n       <use style=\"stroke:#000000;stroke-width:0.8;\" x=\"43.78125\" xlink:href=\"#m7e2e296a72\" y=\"390.038611\"/>\n      </g>\n     </g>\n     <g id=\"text_46\">\n      <!-- 2.5 -->\n      <g transform=\"translate(20.878125 393.83783)scale(0.1 -0.1)\">\n       <use xlink:href=\"#DejaVuSans-32\"/>\n       <use x=\"63.623047\" xlink:href=\"#DejaVuSans-2e\"/>\n       <use x=\"95.410156\" xlink:href=\"#DejaVuSans-35\"/>\n      </g>\n     </g>\n    </g>\n    <g id=\"ytick_23\">\n     <g id=\"line2d_40\">\n      <g>\n       <use style=\"stroke:#000000;stroke-width:0.8;\" x=\"43.78125\" xlink:href=\"#m7e2e296a72\" y=\"364.630625\"/>\n      </g>\n     </g>\n     <g id=\"text_47\">\n      <!-- 3.0 -->\n      <g transform=\"translate(20.878125 368.429844)scale(0.1 -0.1)\">\n       <use xlink:href=\"#DejaVuSans-33\"/>\n       <use x=\"63.623047\" xlink:href=\"#DejaVuSans-2e\"/>\n       <use x=\"95.410156\" xlink:href=\"#DejaVuSans-30\"/>\n      </g>\n     </g>\n    </g>\n    <g id=\"ytick_24\">\n     <g id=\"line2d_41\">\n      <g>\n       <use style=\"stroke:#000000;stroke-width:0.8;\" x=\"43.78125\" xlink:href=\"#m7e2e296a72\" y=\"339.222639\"/>\n      </g>\n     </g>\n     <g id=\"text_48\">\n      <!-- 3.5 -->\n      <g transform=\"translate(20.878125 343.021858)scale(0.1 -0.1)\">\n       <use xlink:href=\"#DejaVuSans-33\"/>\n       <use x=\"63.623047\" xlink:href=\"#DejaVuSans-2e\"/>\n       <use x=\"95.410156\" xlink:href=\"#DejaVuSans-35\"/>\n      </g>\n     </g>\n    </g>\n    <g id=\"ytick_25\">\n     <g id=\"line2d_42\">\n      <g>\n       <use style=\"stroke:#000000;stroke-width:0.8;\" x=\"43.78125\" xlink:href=\"#m7e2e296a72\" y=\"313.814653\"/>\n      </g>\n     </g>\n     <g id=\"text_49\">\n      <!-- 4.0 -->\n      <g transform=\"translate(20.878125 317.613872)scale(0.1 -0.1)\">\n       <use xlink:href=\"#DejaVuSans-34\"/>\n       <use x=\"63.623047\" xlink:href=\"#DejaVuSans-2e\"/>\n       <use x=\"95.410156\" xlink:href=\"#DejaVuSans-30\"/>\n      </g>\n     </g>\n    </g>\n    <g id=\"text_50\">\n     <!-- Count -->\n     <g transform=\"translate(14.798438 425.213437)rotate(-90)scale(0.1 -0.1)\">\n      <use xlink:href=\"#DejaVuSans-43\"/>\n      <use x=\"69.824219\" xlink:href=\"#DejaVuSans-6f\"/>\n      <use x=\"131.005859\" xlink:href=\"#DejaVuSans-75\"/>\n      <use x=\"194.384766\" xlink:href=\"#DejaVuSans-6e\"/>\n      <use x=\"257.763672\" xlink:href=\"#DejaVuSans-74\"/>\n     </g>\n    </g>\n   </g>\n   <g id=\"patch_73\">\n    <path d=\"M 43.78125 517.078542 \nL 43.78125 303.651458 \n\" style=\"fill:none;stroke:#000000;stroke-linecap:square;stroke-linejoin:miter;stroke-width:0.8;\"/>\n   </g>\n   <g id=\"patch_74\">\n    <path d=\"M 331.091753 517.078542 \nL 331.091753 303.651458 \n\" style=\"fill:none;stroke:#000000;stroke-linecap:square;stroke-linejoin:miter;stroke-width:0.8;\"/>\n   </g>\n   <g id=\"patch_75\">\n    <path d=\"M 43.78125 517.078542 \nL 331.091753 517.078542 \n\" style=\"fill:none;stroke:#000000;stroke-linecap:square;stroke-linejoin:miter;stroke-width:0.8;\"/>\n   </g>\n   <g id=\"patch_76\">\n    <path d=\"M 43.78125 303.651458 \nL 331.091753 303.651458 \n\" style=\"fill:none;stroke:#000000;stroke-linecap:square;stroke-linejoin:miter;stroke-width:0.8;\"/>\n   </g>\n   <g id=\"text_51\">\n    <!-- LulaOficial -->\n    <g transform=\"translate(156.240251 297.651458)scale(0.12 -0.12)\">\n     <defs>\n      <path d=\"M 628 4666 \nL 1259 4666 \nL 1259 531 \nL 3531 531 \nL 3531 0 \nL 628 0 \nL 628 4666 \nz\n\" id=\"DejaVuSans-4c\" transform=\"scale(0.015625)\"/>\n      <path d=\"M 2522 4238 \nQ 1834 4238 1429 3725 \nQ 1025 3213 1025 2328 \nQ 1025 1447 1429 934 \nQ 1834 422 2522 422 \nQ 3209 422 3611 934 \nQ 4013 1447 4013 2328 \nQ 4013 3213 3611 3725 \nQ 3209 4238 2522 4238 \nz\nM 2522 4750 \nQ 3503 4750 4090 4092 \nQ 4678 3434 4678 2328 \nQ 4678 1225 4090 567 \nQ 3503 -91 2522 -91 \nQ 1538 -91 948 565 \nQ 359 1222 359 2328 \nQ 359 3434 948 4092 \nQ 1538 4750 2522 4750 \nz\n\" id=\"DejaVuSans-4f\" transform=\"scale(0.015625)\"/>\n      <path d=\"M 2375 4863 \nL 2375 4384 \nL 1825 4384 \nQ 1516 4384 1395 4259 \nQ 1275 4134 1275 3809 \nL 1275 3500 \nL 2222 3500 \nL 2222 3053 \nL 1275 3053 \nL 1275 0 \nL 697 0 \nL 697 3053 \nL 147 3053 \nL 147 3500 \nL 697 3500 \nL 697 3744 \nQ 697 4328 969 4595 \nQ 1241 4863 1831 4863 \nL 2375 4863 \nz\n\" id=\"DejaVuSans-66\" transform=\"scale(0.015625)\"/>\n     </defs>\n     <use xlink:href=\"#DejaVuSans-4c\"/>\n     <use x=\"53.962891\" xlink:href=\"#DejaVuSans-75\"/>\n     <use x=\"117.341797\" xlink:href=\"#DejaVuSans-6c\"/>\n     <use x=\"145.125\" xlink:href=\"#DejaVuSans-61\"/>\n     <use x=\"206.404297\" xlink:href=\"#DejaVuSans-4f\"/>\n     <use x=\"285.115234\" xlink:href=\"#DejaVuSans-66\"/>\n     <use x=\"320.320312\" xlink:href=\"#DejaVuSans-69\"/>\n     <use x=\"348.103516\" xlink:href=\"#DejaVuSans-63\"/>\n     <use x=\"403.083984\" xlink:href=\"#DejaVuSans-69\"/>\n     <use x=\"430.867188\" xlink:href=\"#DejaVuSans-61\"/>\n     <use x=\"492.146484\" xlink:href=\"#DejaVuSans-6c\"/>\n    </g>\n   </g>\n  </g>\n  <g id=\"axes_4\">\n   <g id=\"patch_77\">\n    <path d=\"M 395.93282 517.078542 \nL 683.243323 517.078542 \nL 683.243323 303.651458 \nL 395.93282 303.651458 \nz\n\" style=\"fill:#ffffff;\"/>\n   </g>\n   <g id=\"patch_78\">\n    <path clip-path=\"url(#pb6d7470563)\" d=\"M 408.992388 517.078542 \nL 422.051957 517.078542 \nL 422.051957 313.814653 \nL 408.992388 313.814653 \nz\n\" style=\"fill:#1f77b4;fill-opacity:0.75;stroke:#000000;stroke-linejoin:miter;\"/>\n   </g>\n   <g id=\"patch_79\">\n    <path clip-path=\"url(#pb6d7470563)\" d=\"M 422.051957 517.078542 \nL 435.111525 517.078542 \nL 435.111525 466.262569 \nL 422.051957 466.262569 \nz\n\" style=\"fill:#1f77b4;fill-opacity:0.75;stroke:#000000;stroke-linejoin:miter;\"/>\n   </g>\n   <g id=\"patch_80\">\n    <path clip-path=\"url(#pb6d7470563)\" d=\"M 435.111525 517.078542 \nL 448.171093 517.078542 \nL 448.171093 415.446597 \nL 435.111525 415.446597 \nz\n\" style=\"fill:#1f77b4;fill-opacity:0.75;stroke:#000000;stroke-linejoin:miter;\"/>\n   </g>\n   <g id=\"patch_81\">\n    <path clip-path=\"url(#pb6d7470563)\" d=\"M 448.171093 517.078542 \nL 461.230661 517.078542 \nL 461.230661 466.262569 \nL 448.171093 466.262569 \nz\n\" style=\"fill:#1f77b4;fill-opacity:0.75;stroke:#000000;stroke-linejoin:miter;\"/>\n   </g>\n   <g id=\"patch_82\">\n    <path clip-path=\"url(#pb6d7470563)\" d=\"M 461.230661 517.078542 \nL 474.29023 517.078542 \nL 474.29023 517.078542 \nL 461.230661 517.078542 \nz\n\" style=\"fill:#1f77b4;fill-opacity:0.75;stroke:#000000;stroke-linejoin:miter;\"/>\n   </g>\n   <g id=\"patch_83\">\n    <path clip-path=\"url(#pb6d7470563)\" d=\"M 474.29023 517.078542 \nL 487.349798 517.078542 \nL 487.349798 440.854583 \nL 474.29023 440.854583 \nz\n\" style=\"fill:#1f77b4;fill-opacity:0.75;stroke:#000000;stroke-linejoin:miter;\"/>\n   </g>\n   <g id=\"patch_84\">\n    <path clip-path=\"url(#pb6d7470563)\" d=\"M 487.349798 517.078542 \nL 500.409366 517.078542 \nL 500.409366 440.854583 \nL 487.349798 440.854583 \nz\n\" style=\"fill:#1f77b4;fill-opacity:0.75;stroke:#000000;stroke-linejoin:miter;\"/>\n   </g>\n   <g id=\"patch_85\">\n    <path clip-path=\"url(#pb6d7470563)\" d=\"M 500.409366 517.078542 \nL 513.468935 517.078542 \nL 513.468935 517.078542 \nL 500.409366 517.078542 \nz\n\" style=\"fill:#1f77b4;fill-opacity:0.75;stroke:#000000;stroke-linejoin:miter;\"/>\n   </g>\n   <g id=\"patch_86\">\n    <path clip-path=\"url(#pb6d7470563)\" d=\"M 513.468935 517.078542 \nL 526.528503 517.078542 \nL 526.528503 517.078542 \nL 513.468935 517.078542 \nz\n\" style=\"fill:#1f77b4;fill-opacity:0.75;stroke:#000000;stroke-linejoin:miter;\"/>\n   </g>\n   <g id=\"patch_87\">\n    <path clip-path=\"url(#pb6d7470563)\" d=\"M 526.528503 517.078542 \nL 539.588071 517.078542 \nL 539.588071 466.262569 \nL 526.528503 466.262569 \nz\n\" style=\"fill:#1f77b4;fill-opacity:0.75;stroke:#000000;stroke-linejoin:miter;\"/>\n   </g>\n   <g id=\"patch_88\">\n    <path clip-path=\"url(#pb6d7470563)\" d=\"M 539.588071 517.078542 \nL 552.64764 517.078542 \nL 552.64764 517.078542 \nL 539.588071 517.078542 \nz\n\" style=\"fill:#1f77b4;fill-opacity:0.75;stroke:#000000;stroke-linejoin:miter;\"/>\n   </g>\n   <g id=\"patch_89\">\n    <path clip-path=\"url(#pb6d7470563)\" d=\"M 552.64764 517.078542 \nL 565.707208 517.078542 \nL 565.707208 517.078542 \nL 552.64764 517.078542 \nz\n\" style=\"fill:#1f77b4;fill-opacity:0.75;stroke:#000000;stroke-linejoin:miter;\"/>\n   </g>\n   <g id=\"patch_90\">\n    <path clip-path=\"url(#pb6d7470563)\" d=\"M 565.707208 517.078542 \nL 578.766776 517.078542 \nL 578.766776 517.078542 \nL 565.707208 517.078542 \nz\n\" style=\"fill:#1f77b4;fill-opacity:0.75;stroke:#000000;stroke-linejoin:miter;\"/>\n   </g>\n   <g id=\"patch_91\">\n    <path clip-path=\"url(#pb6d7470563)\" d=\"M 578.766776 517.078542 \nL 591.826345 517.078542 \nL 591.826345 517.078542 \nL 578.766776 517.078542 \nz\n\" style=\"fill:#1f77b4;fill-opacity:0.75;stroke:#000000;stroke-linejoin:miter;\"/>\n   </g>\n   <g id=\"patch_92\">\n    <path clip-path=\"url(#pb6d7470563)\" d=\"M 591.826345 517.078542 \nL 604.885913 517.078542 \nL 604.885913 517.078542 \nL 591.826345 517.078542 \nz\n\" style=\"fill:#1f77b4;fill-opacity:0.75;stroke:#000000;stroke-linejoin:miter;\"/>\n   </g>\n   <g id=\"patch_93\">\n    <path clip-path=\"url(#pb6d7470563)\" d=\"M 604.885913 517.078542 \nL 617.945481 517.078542 \nL 617.945481 491.670556 \nL 604.885913 491.670556 \nz\n\" style=\"fill:#1f77b4;fill-opacity:0.75;stroke:#000000;stroke-linejoin:miter;\"/>\n   </g>\n   <g id=\"patch_94\">\n    <path clip-path=\"url(#pb6d7470563)\" d=\"M 617.945481 517.078542 \nL 631.00505 517.078542 \nL 631.00505 517.078542 \nL 617.945481 517.078542 \nz\n\" style=\"fill:#1f77b4;fill-opacity:0.75;stroke:#000000;stroke-linejoin:miter;\"/>\n   </g>\n   <g id=\"patch_95\">\n    <path clip-path=\"url(#pb6d7470563)\" d=\"M 631.00505 517.078542 \nL 644.064618 517.078542 \nL 644.064618 517.078542 \nL 631.00505 517.078542 \nz\n\" style=\"fill:#1f77b4;fill-opacity:0.75;stroke:#000000;stroke-linejoin:miter;\"/>\n   </g>\n   <g id=\"patch_96\">\n    <path clip-path=\"url(#pb6d7470563)\" d=\"M 644.064618 517.078542 \nL 657.124186 517.078542 \nL 657.124186 517.078542 \nL 644.064618 517.078542 \nz\n\" style=\"fill:#1f77b4;fill-opacity:0.75;stroke:#000000;stroke-linejoin:miter;\"/>\n   </g>\n   <g id=\"patch_97\">\n    <path clip-path=\"url(#pb6d7470563)\" d=\"M 657.124186 517.078542 \nL 670.183754 517.078542 \nL 670.183754 491.670556 \nL 657.124186 491.670556 \nz\n\" style=\"fill:#1f77b4;fill-opacity:0.75;stroke:#000000;stroke-linejoin:miter;\"/>\n   </g>\n   <g id=\"matplotlib.axis_7\">\n    <g id=\"xtick_18\">\n     <g id=\"line2d_43\">\n      <g>\n       <use style=\"stroke:#000000;stroke-width:0.8;\" x=\"408.992388\" xlink:href=\"#m78cdc2cedf\" y=\"517.078542\"/>\n      </g>\n     </g>\n     <g id=\"text_52\">\n      <!-- 0 -->\n      <g transform=\"translate(405.811138 531.676979)scale(0.1 -0.1)\">\n       <use xlink:href=\"#DejaVuSans-30\"/>\n      </g>\n     </g>\n    </g>\n    <g id=\"xtick_19\">\n     <g id=\"line2d_44\">\n      <g>\n       <use style=\"stroke:#000000;stroke-width:0.8;\" x=\"446.428445\" xlink:href=\"#m78cdc2cedf\" y=\"517.078542\"/>\n      </g>\n     </g>\n     <g id=\"text_53\">\n      <!-- 1000 -->\n      <g transform=\"translate(433.703445 531.676979)scale(0.1 -0.1)\">\n       <use xlink:href=\"#DejaVuSans-31\"/>\n       <use x=\"63.623047\" xlink:href=\"#DejaVuSans-30\"/>\n       <use x=\"127.246094\" xlink:href=\"#DejaVuSans-30\"/>\n       <use x=\"190.869141\" xlink:href=\"#DejaVuSans-30\"/>\n      </g>\n     </g>\n    </g>\n    <g id=\"xtick_20\">\n     <g id=\"line2d_45\">\n      <g>\n       <use style=\"stroke:#000000;stroke-width:0.8;\" x=\"483.864501\" xlink:href=\"#m78cdc2cedf\" y=\"517.078542\"/>\n      </g>\n     </g>\n     <g id=\"text_54\">\n      <!-- 2000 -->\n      <g transform=\"translate(471.139501 531.676979)scale(0.1 -0.1)\">\n       <use xlink:href=\"#DejaVuSans-32\"/>\n       <use x=\"63.623047\" xlink:href=\"#DejaVuSans-30\"/>\n       <use x=\"127.246094\" xlink:href=\"#DejaVuSans-30\"/>\n       <use x=\"190.869141\" xlink:href=\"#DejaVuSans-30\"/>\n      </g>\n     </g>\n    </g>\n    <g id=\"xtick_21\">\n     <g id=\"line2d_46\">\n      <g>\n       <use style=\"stroke:#000000;stroke-width:0.8;\" x=\"521.300558\" xlink:href=\"#m78cdc2cedf\" y=\"517.078542\"/>\n      </g>\n     </g>\n     <g id=\"text_55\">\n      <!-- 3000 -->\n      <g transform=\"translate(508.575558 531.676979)scale(0.1 -0.1)\">\n       <use xlink:href=\"#DejaVuSans-33\"/>\n       <use x=\"63.623047\" xlink:href=\"#DejaVuSans-30\"/>\n       <use x=\"127.246094\" xlink:href=\"#DejaVuSans-30\"/>\n       <use x=\"190.869141\" xlink:href=\"#DejaVuSans-30\"/>\n      </g>\n     </g>\n    </g>\n    <g id=\"xtick_22\">\n     <g id=\"line2d_47\">\n      <g>\n       <use style=\"stroke:#000000;stroke-width:0.8;\" x=\"558.736614\" xlink:href=\"#m78cdc2cedf\" y=\"517.078542\"/>\n      </g>\n     </g>\n     <g id=\"text_56\">\n      <!-- 4000 -->\n      <g transform=\"translate(546.011614 531.676979)scale(0.1 -0.1)\">\n       <use xlink:href=\"#DejaVuSans-34\"/>\n       <use x=\"63.623047\" xlink:href=\"#DejaVuSans-30\"/>\n       <use x=\"127.246094\" xlink:href=\"#DejaVuSans-30\"/>\n       <use x=\"190.869141\" xlink:href=\"#DejaVuSans-30\"/>\n      </g>\n     </g>\n    </g>\n    <g id=\"xtick_23\">\n     <g id=\"line2d_48\">\n      <g>\n       <use style=\"stroke:#000000;stroke-width:0.8;\" x=\"596.172671\" xlink:href=\"#m78cdc2cedf\" y=\"517.078542\"/>\n      </g>\n     </g>\n     <g id=\"text_57\">\n      <!-- 5000 -->\n      <g transform=\"translate(583.447671 531.676979)scale(0.1 -0.1)\">\n       <use xlink:href=\"#DejaVuSans-35\"/>\n       <use x=\"63.623047\" xlink:href=\"#DejaVuSans-30\"/>\n       <use x=\"127.246094\" xlink:href=\"#DejaVuSans-30\"/>\n       <use x=\"190.869141\" xlink:href=\"#DejaVuSans-30\"/>\n      </g>\n     </g>\n    </g>\n    <g id=\"xtick_24\">\n     <g id=\"line2d_49\">\n      <g>\n       <use style=\"stroke:#000000;stroke-width:0.8;\" x=\"633.608727\" xlink:href=\"#m78cdc2cedf\" y=\"517.078542\"/>\n      </g>\n     </g>\n     <g id=\"text_58\">\n      <!-- 6000 -->\n      <g transform=\"translate(620.883727 531.676979)scale(0.1 -0.1)\">\n       <use xlink:href=\"#DejaVuSans-36\"/>\n       <use x=\"63.623047\" xlink:href=\"#DejaVuSans-30\"/>\n       <use x=\"127.246094\" xlink:href=\"#DejaVuSans-30\"/>\n       <use x=\"190.869141\" xlink:href=\"#DejaVuSans-30\"/>\n      </g>\n     </g>\n    </g>\n    <g id=\"xtick_25\">\n     <g id=\"line2d_50\">\n      <g>\n       <use style=\"stroke:#000000;stroke-width:0.8;\" x=\"671.044784\" xlink:href=\"#m78cdc2cedf\" y=\"517.078542\"/>\n      </g>\n     </g>\n     <g id=\"text_59\">\n      <!-- 7000 -->\n      <g transform=\"translate(658.319784 531.676979)scale(0.1 -0.1)\">\n       <use xlink:href=\"#DejaVuSans-37\"/>\n       <use x=\"63.623047\" xlink:href=\"#DejaVuSans-30\"/>\n       <use x=\"127.246094\" xlink:href=\"#DejaVuSans-30\"/>\n       <use x=\"190.869141\" xlink:href=\"#DejaVuSans-30\"/>\n      </g>\n     </g>\n    </g>\n    <g id=\"text_60\">\n     <!-- like_count -->\n     <g transform=\"translate(514.413071 545.355104)scale(0.1 -0.1)\">\n      <use xlink:href=\"#DejaVuSans-6c\"/>\n      <use x=\"27.783203\" xlink:href=\"#DejaVuSans-69\"/>\n      <use x=\"55.566406\" xlink:href=\"#DejaVuSans-6b\"/>\n      <use x=\"109.851562\" xlink:href=\"#DejaVuSans-65\"/>\n      <use x=\"171.375\" xlink:href=\"#DejaVuSans-5f\"/>\n      <use x=\"221.375\" xlink:href=\"#DejaVuSans-63\"/>\n      <use x=\"276.355469\" xlink:href=\"#DejaVuSans-6f\"/>\n      <use x=\"337.537109\" xlink:href=\"#DejaVuSans-75\"/>\n      <use x=\"400.916016\" xlink:href=\"#DejaVuSans-6e\"/>\n      <use x=\"464.294922\" xlink:href=\"#DejaVuSans-74\"/>\n     </g>\n    </g>\n   </g>\n   <g id=\"matplotlib.axis_8\">\n    <g id=\"ytick_26\">\n     <g id=\"line2d_51\">\n      <g>\n       <use style=\"stroke:#000000;stroke-width:0.8;\" x=\"395.93282\" xlink:href=\"#m7e2e296a72\" y=\"517.078542\"/>\n      </g>\n     </g>\n     <g id=\"text_61\">\n      <!-- 0 -->\n      <g transform=\"translate(382.57032 520.87776)scale(0.1 -0.1)\">\n       <use xlink:href=\"#DejaVuSans-30\"/>\n      </g>\n     </g>\n    </g>\n    <g id=\"ytick_27\">\n     <g id=\"line2d_52\">\n      <g>\n       <use style=\"stroke:#000000;stroke-width:0.8;\" x=\"395.93282\" xlink:href=\"#m7e2e296a72\" y=\"491.670556\"/>\n      </g>\n     </g>\n     <g id=\"text_62\">\n      <!-- 1 -->\n      <g transform=\"translate(382.57032 495.469774)scale(0.1 -0.1)\">\n       <use xlink:href=\"#DejaVuSans-31\"/>\n      </g>\n     </g>\n    </g>\n    <g id=\"ytick_28\">\n     <g id=\"line2d_53\">\n      <g>\n       <use style=\"stroke:#000000;stroke-width:0.8;\" x=\"395.93282\" xlink:href=\"#m7e2e296a72\" y=\"466.262569\"/>\n      </g>\n     </g>\n     <g id=\"text_63\">\n      <!-- 2 -->\n      <g transform=\"translate(382.57032 470.061788)scale(0.1 -0.1)\">\n       <use xlink:href=\"#DejaVuSans-32\"/>\n      </g>\n     </g>\n    </g>\n    <g id=\"ytick_29\">\n     <g id=\"line2d_54\">\n      <g>\n       <use style=\"stroke:#000000;stroke-width:0.8;\" x=\"395.93282\" xlink:href=\"#m7e2e296a72\" y=\"440.854583\"/>\n      </g>\n     </g>\n     <g id=\"text_64\">\n      <!-- 3 -->\n      <g transform=\"translate(382.57032 444.653802)scale(0.1 -0.1)\">\n       <use xlink:href=\"#DejaVuSans-33\"/>\n      </g>\n     </g>\n    </g>\n    <g id=\"ytick_30\">\n     <g id=\"line2d_55\">\n      <g>\n       <use style=\"stroke:#000000;stroke-width:0.8;\" x=\"395.93282\" xlink:href=\"#m7e2e296a72\" y=\"415.446597\"/>\n      </g>\n     </g>\n     <g id=\"text_65\">\n      <!-- 4 -->\n      <g transform=\"translate(382.57032 419.245816)scale(0.1 -0.1)\">\n       <use xlink:href=\"#DejaVuSans-34\"/>\n      </g>\n     </g>\n    </g>\n    <g id=\"ytick_31\">\n     <g id=\"line2d_56\">\n      <g>\n       <use style=\"stroke:#000000;stroke-width:0.8;\" x=\"395.93282\" xlink:href=\"#m7e2e296a72\" y=\"390.038611\"/>\n      </g>\n     </g>\n     <g id=\"text_66\">\n      <!-- 5 -->\n      <g transform=\"translate(382.57032 393.83783)scale(0.1 -0.1)\">\n       <use xlink:href=\"#DejaVuSans-35\"/>\n      </g>\n     </g>\n    </g>\n    <g id=\"ytick_32\">\n     <g id=\"line2d_57\">\n      <g>\n       <use style=\"stroke:#000000;stroke-width:0.8;\" x=\"395.93282\" xlink:href=\"#m7e2e296a72\" y=\"364.630625\"/>\n      </g>\n     </g>\n     <g id=\"text_67\">\n      <!-- 6 -->\n      <g transform=\"translate(382.57032 368.429844)scale(0.1 -0.1)\">\n       <use xlink:href=\"#DejaVuSans-36\"/>\n      </g>\n     </g>\n    </g>\n    <g id=\"ytick_33\">\n     <g id=\"line2d_58\">\n      <g>\n       <use style=\"stroke:#000000;stroke-width:0.8;\" x=\"395.93282\" xlink:href=\"#m7e2e296a72\" y=\"339.222639\"/>\n      </g>\n     </g>\n     <g id=\"text_68\">\n      <!-- 7 -->\n      <g transform=\"translate(382.57032 343.021858)scale(0.1 -0.1)\">\n       <use xlink:href=\"#DejaVuSans-37\"/>\n      </g>\n     </g>\n    </g>\n    <g id=\"ytick_34\">\n     <g id=\"line2d_59\">\n      <g>\n       <use style=\"stroke:#000000;stroke-width:0.8;\" x=\"395.93282\" xlink:href=\"#m7e2e296a72\" y=\"313.814653\"/>\n      </g>\n     </g>\n     <g id=\"text_69\">\n      <!-- 8 -->\n      <g transform=\"translate(382.57032 317.613872)scale(0.1 -0.1)\">\n       <use xlink:href=\"#DejaVuSans-38\"/>\n      </g>\n     </g>\n    </g>\n    <g id=\"text_70\">\n     <!-- Count -->\n     <g transform=\"translate(376.490632 425.213437)rotate(-90)scale(0.1 -0.1)\">\n      <use xlink:href=\"#DejaVuSans-43\"/>\n      <use x=\"69.824219\" xlink:href=\"#DejaVuSans-6f\"/>\n      <use x=\"131.005859\" xlink:href=\"#DejaVuSans-75\"/>\n      <use x=\"194.384766\" xlink:href=\"#DejaVuSans-6e\"/>\n      <use x=\"257.763672\" xlink:href=\"#DejaVuSans-74\"/>\n     </g>\n    </g>\n   </g>\n   <g id=\"patch_98\">\n    <path d=\"M 395.93282 517.078542 \nL 395.93282 303.651458 \n\" style=\"fill:none;stroke:#000000;stroke-linecap:square;stroke-linejoin:miter;stroke-width:0.8;\"/>\n   </g>\n   <g id=\"patch_99\">\n    <path d=\"M 683.243323 517.078542 \nL 683.243323 303.651458 \n\" style=\"fill:none;stroke:#000000;stroke-linecap:square;stroke-linejoin:miter;stroke-width:0.8;\"/>\n   </g>\n   <g id=\"patch_100\">\n    <path d=\"M 395.93282 517.078542 \nL 683.243323 517.078542 \n\" style=\"fill:none;stroke:#000000;stroke-linecap:square;stroke-linejoin:miter;stroke-width:0.8;\"/>\n   </g>\n   <g id=\"patch_101\">\n    <path d=\"M 395.93282 303.651458 \nL 683.243323 303.651458 \n\" style=\"fill:none;stroke:#000000;stroke-linecap:square;stroke-linejoin:miter;stroke-width:0.8;\"/>\n   </g>\n   <g id=\"text_71\">\n    <!-- jdoriajr -->\n    <g transform=\"translate(518.497134 297.651458)scale(0.12 -0.12)\">\n     <defs>\n      <path d=\"M 2906 2969 \nL 2906 4863 \nL 3481 4863 \nL 3481 0 \nL 2906 0 \nL 2906 525 \nQ 2725 213 2448 61 \nQ 2172 -91 1784 -91 \nQ 1150 -91 751 415 \nQ 353 922 353 1747 \nQ 353 2572 751 3078 \nQ 1150 3584 1784 3584 \nQ 2172 3584 2448 3432 \nQ 2725 3281 2906 2969 \nz\nM 947 1747 \nQ 947 1113 1208 752 \nQ 1469 391 1925 391 \nQ 2381 391 2643 752 \nQ 2906 1113 2906 1747 \nQ 2906 2381 2643 2742 \nQ 2381 3103 1925 3103 \nQ 1469 3103 1208 2742 \nQ 947 2381 947 1747 \nz\n\" id=\"DejaVuSans-64\" transform=\"scale(0.015625)\"/>\n     </defs>\n     <use xlink:href=\"#DejaVuSans-6a\"/>\n     <use x=\"27.783203\" xlink:href=\"#DejaVuSans-64\"/>\n     <use x=\"91.259766\" xlink:href=\"#DejaVuSans-6f\"/>\n     <use x=\"152.441406\" xlink:href=\"#DejaVuSans-72\"/>\n     <use x=\"193.554688\" xlink:href=\"#DejaVuSans-69\"/>\n     <use x=\"221.337891\" xlink:href=\"#DejaVuSans-61\"/>\n     <use x=\"282.617188\" xlink:href=\"#DejaVuSans-6a\"/>\n     <use x=\"310.400391\" xlink:href=\"#DejaVuSans-72\"/>\n    </g>\n   </g>\n  </g>\n  <g id=\"axes_5\">\n   <g id=\"patch_102\">\n    <path d=\"M 43.78125 798.411875 \nL 331.091753 798.411875 \nL 331.091753 584.984792 \nL 43.78125 584.984792 \nz\n\" style=\"fill:#ffffff;\"/>\n   </g>\n   <g id=\"patch_103\">\n    <path clip-path=\"url(#p2827a1b07b)\" d=\"M 56.840818 798.411875 \nL 69.900387 798.411875 \nL 69.900387 595.147986 \nL 56.840818 595.147986 \nz\n\" style=\"fill:#1f77b4;fill-opacity:0.75;stroke:#000000;stroke-linejoin:miter;\"/>\n   </g>\n   <g id=\"patch_104\">\n    <path clip-path=\"url(#p2827a1b07b)\" d=\"M 69.900387 798.411875 \nL 82.959955 798.411875 \nL 82.959955 798.411875 \nL 69.900387 798.411875 \nz\n\" style=\"fill:#1f77b4;fill-opacity:0.75;stroke:#000000;stroke-linejoin:miter;\"/>\n   </g>\n   <g id=\"patch_105\">\n    <path clip-path=\"url(#p2827a1b07b)\" d=\"M 82.959955 798.411875 \nL 96.019523 798.411875 \nL 96.019523 798.411875 \nL 82.959955 798.411875 \nz\n\" style=\"fill:#1f77b4;fill-opacity:0.75;stroke:#000000;stroke-linejoin:miter;\"/>\n   </g>\n   <g id=\"patch_106\">\n    <path clip-path=\"url(#p2827a1b07b)\" d=\"M 96.019523 798.411875 \nL 109.079092 798.411875 \nL 109.079092 798.411875 \nL 96.019523 798.411875 \nz\n\" style=\"fill:#1f77b4;fill-opacity:0.75;stroke:#000000;stroke-linejoin:miter;\"/>\n   </g>\n   <g id=\"patch_107\">\n    <path clip-path=\"url(#p2827a1b07b)\" d=\"M 109.079092 798.411875 \nL 122.13866 798.411875 \nL 122.13866 798.411875 \nL 109.079092 798.411875 \nz\n\" style=\"fill:#1f77b4;fill-opacity:0.75;stroke:#000000;stroke-linejoin:miter;\"/>\n   </g>\n   <g id=\"patch_108\">\n    <path clip-path=\"url(#p2827a1b07b)\" d=\"M 122.13866 798.411875 \nL 135.198228 798.411875 \nL 135.198228 798.411875 \nL 122.13866 798.411875 \nz\n\" style=\"fill:#1f77b4;fill-opacity:0.75;stroke:#000000;stroke-linejoin:miter;\"/>\n   </g>\n   <g id=\"patch_109\">\n    <path clip-path=\"url(#p2827a1b07b)\" d=\"M 135.198228 798.411875 \nL 148.257796 798.411875 \nL 148.257796 798.411875 \nL 135.198228 798.411875 \nz\n\" style=\"fill:#1f77b4;fill-opacity:0.75;stroke:#000000;stroke-linejoin:miter;\"/>\n   </g>\n   <g id=\"patch_110\">\n    <path clip-path=\"url(#p2827a1b07b)\" d=\"M 148.257796 798.411875 \nL 161.317365 798.411875 \nL 161.317365 798.411875 \nL 148.257796 798.411875 \nz\n\" style=\"fill:#1f77b4;fill-opacity:0.75;stroke:#000000;stroke-linejoin:miter;\"/>\n   </g>\n   <g id=\"patch_111\">\n    <path clip-path=\"url(#p2827a1b07b)\" d=\"M 161.317365 798.411875 \nL 174.376933 798.411875 \nL 174.376933 798.411875 \nL 161.317365 798.411875 \nz\n\" style=\"fill:#1f77b4;fill-opacity:0.75;stroke:#000000;stroke-linejoin:miter;\"/>\n   </g>\n   <g id=\"patch_112\">\n    <path clip-path=\"url(#p2827a1b07b)\" d=\"M 174.376933 798.411875 \nL 187.436501 798.411875 \nL 187.436501 798.411875 \nL 174.376933 798.411875 \nz\n\" style=\"fill:#1f77b4;fill-opacity:0.75;stroke:#000000;stroke-linejoin:miter;\"/>\n   </g>\n   <g id=\"patch_113\">\n    <path clip-path=\"url(#p2827a1b07b)\" d=\"M 187.436501 798.411875 \nL 200.49607 798.411875 \nL 200.49607 798.411875 \nL 187.436501 798.411875 \nz\n\" style=\"fill:#1f77b4;fill-opacity:0.75;stroke:#000000;stroke-linejoin:miter;\"/>\n   </g>\n   <g id=\"patch_114\">\n    <path clip-path=\"url(#p2827a1b07b)\" d=\"M 200.49607 798.411875 \nL 213.555638 798.411875 \nL 213.555638 798.411875 \nL 200.49607 798.411875 \nz\n\" style=\"fill:#1f77b4;fill-opacity:0.75;stroke:#000000;stroke-linejoin:miter;\"/>\n   </g>\n   <g id=\"patch_115\">\n    <path clip-path=\"url(#p2827a1b07b)\" d=\"M 213.555638 798.411875 \nL 226.615206 798.411875 \nL 226.615206 798.411875 \nL 213.555638 798.411875 \nz\n\" style=\"fill:#1f77b4;fill-opacity:0.75;stroke:#000000;stroke-linejoin:miter;\"/>\n   </g>\n   <g id=\"patch_116\">\n    <path clip-path=\"url(#p2827a1b07b)\" d=\"M 226.615206 798.411875 \nL 239.674775 798.411875 \nL 239.674775 798.411875 \nL 226.615206 798.411875 \nz\n\" style=\"fill:#1f77b4;fill-opacity:0.75;stroke:#000000;stroke-linejoin:miter;\"/>\n   </g>\n   <g id=\"patch_117\">\n    <path clip-path=\"url(#p2827a1b07b)\" d=\"M 239.674775 798.411875 \nL 252.734343 798.411875 \nL 252.734343 798.411875 \nL 239.674775 798.411875 \nz\n\" style=\"fill:#1f77b4;fill-opacity:0.75;stroke:#000000;stroke-linejoin:miter;\"/>\n   </g>\n   <g id=\"patch_118\">\n    <path clip-path=\"url(#p2827a1b07b)\" d=\"M 252.734343 798.411875 \nL 265.793911 798.411875 \nL 265.793911 798.411875 \nL 252.734343 798.411875 \nz\n\" style=\"fill:#1f77b4;fill-opacity:0.75;stroke:#000000;stroke-linejoin:miter;\"/>\n   </g>\n   <g id=\"patch_119\">\n    <path clip-path=\"url(#p2827a1b07b)\" d=\"M 265.793911 798.411875 \nL 278.85348 798.411875 \nL 278.85348 595.147986 \nL 265.793911 595.147986 \nz\n\" style=\"fill:#1f77b4;fill-opacity:0.75;stroke:#000000;stroke-linejoin:miter;\"/>\n   </g>\n   <g id=\"patch_120\">\n    <path clip-path=\"url(#p2827a1b07b)\" d=\"M 278.85348 798.411875 \nL 291.913048 798.411875 \nL 291.913048 798.411875 \nL 278.85348 798.411875 \nz\n\" style=\"fill:#1f77b4;fill-opacity:0.75;stroke:#000000;stroke-linejoin:miter;\"/>\n   </g>\n   <g id=\"patch_121\">\n    <path clip-path=\"url(#p2827a1b07b)\" d=\"M 291.913048 798.411875 \nL 304.972616 798.411875 \nL 304.972616 798.411875 \nL 291.913048 798.411875 \nz\n\" style=\"fill:#1f77b4;fill-opacity:0.75;stroke:#000000;stroke-linejoin:miter;\"/>\n   </g>\n   <g id=\"patch_122\">\n    <path clip-path=\"url(#p2827a1b07b)\" d=\"M 304.972616 798.411875 \nL 318.032185 798.411875 \nL 318.032185 595.147986 \nL 304.972616 595.147986 \nz\n\" style=\"fill:#1f77b4;fill-opacity:0.75;stroke:#000000;stroke-linejoin:miter;\"/>\n   </g>\n   <g id=\"matplotlib.axis_9\">\n    <g id=\"xtick_26\">\n     <g id=\"line2d_60\">\n      <g>\n       <use style=\"stroke:#000000;stroke-width:0.8;\" x=\"84.866785\" xlink:href=\"#m78cdc2cedf\" y=\"798.411875\"/>\n      </g>\n     </g>\n     <g id=\"text_72\">\n      <!-- 500 -->\n      <g transform=\"translate(75.323035 813.010312)scale(0.1 -0.1)\">\n       <use xlink:href=\"#DejaVuSans-35\"/>\n       <use x=\"63.623047\" xlink:href=\"#DejaVuSans-30\"/>\n       <use x=\"127.246094\" xlink:href=\"#DejaVuSans-30\"/>\n      </g>\n     </g>\n    </g>\n    <g id=\"xtick_27\">\n     <g id=\"line2d_61\">\n      <g>\n       <use style=\"stroke:#000000;stroke-width:0.8;\" x=\"129.211669\" xlink:href=\"#m78cdc2cedf\" y=\"798.411875\"/>\n      </g>\n     </g>\n     <g id=\"text_73\">\n      <!-- 1000 -->\n      <g transform=\"translate(116.486669 813.010312)scale(0.1 -0.1)\">\n       <use xlink:href=\"#DejaVuSans-31\"/>\n       <use x=\"63.623047\" xlink:href=\"#DejaVuSans-30\"/>\n       <use x=\"127.246094\" xlink:href=\"#DejaVuSans-30\"/>\n       <use x=\"190.869141\" xlink:href=\"#DejaVuSans-30\"/>\n      </g>\n     </g>\n    </g>\n    <g id=\"xtick_28\">\n     <g id=\"line2d_62\">\n      <g>\n       <use style=\"stroke:#000000;stroke-width:0.8;\" x=\"173.556553\" xlink:href=\"#m78cdc2cedf\" y=\"798.411875\"/>\n      </g>\n     </g>\n     <g id=\"text_74\">\n      <!-- 1500 -->\n      <g transform=\"translate(160.831553 813.010312)scale(0.1 -0.1)\">\n       <use xlink:href=\"#DejaVuSans-31\"/>\n       <use x=\"63.623047\" xlink:href=\"#DejaVuSans-35\"/>\n       <use x=\"127.246094\" xlink:href=\"#DejaVuSans-30\"/>\n       <use x=\"190.869141\" xlink:href=\"#DejaVuSans-30\"/>\n      </g>\n     </g>\n    </g>\n    <g id=\"xtick_29\">\n     <g id=\"line2d_63\">\n      <g>\n       <use style=\"stroke:#000000;stroke-width:0.8;\" x=\"217.901437\" xlink:href=\"#m78cdc2cedf\" y=\"798.411875\"/>\n      </g>\n     </g>\n     <g id=\"text_75\">\n      <!-- 2000 -->\n      <g transform=\"translate(205.176437 813.010312)scale(0.1 -0.1)\">\n       <use xlink:href=\"#DejaVuSans-32\"/>\n       <use x=\"63.623047\" xlink:href=\"#DejaVuSans-30\"/>\n       <use x=\"127.246094\" xlink:href=\"#DejaVuSans-30\"/>\n       <use x=\"190.869141\" xlink:href=\"#DejaVuSans-30\"/>\n      </g>\n     </g>\n    </g>\n    <g id=\"xtick_30\">\n     <g id=\"line2d_64\">\n      <g>\n       <use style=\"stroke:#000000;stroke-width:0.8;\" x=\"262.246321\" xlink:href=\"#m78cdc2cedf\" y=\"798.411875\"/>\n      </g>\n     </g>\n     <g id=\"text_76\">\n      <!-- 2500 -->\n      <g transform=\"translate(249.521321 813.010312)scale(0.1 -0.1)\">\n       <use xlink:href=\"#DejaVuSans-32\"/>\n       <use x=\"63.623047\" xlink:href=\"#DejaVuSans-35\"/>\n       <use x=\"127.246094\" xlink:href=\"#DejaVuSans-30\"/>\n       <use x=\"190.869141\" xlink:href=\"#DejaVuSans-30\"/>\n      </g>\n     </g>\n    </g>\n    <g id=\"xtick_31\">\n     <g id=\"line2d_65\">\n      <g>\n       <use style=\"stroke:#000000;stroke-width:0.8;\" x=\"306.591205\" xlink:href=\"#m78cdc2cedf\" y=\"798.411875\"/>\n      </g>\n     </g>\n     <g id=\"text_77\">\n      <!-- 3000 -->\n      <g transform=\"translate(293.866205 813.010312)scale(0.1 -0.1)\">\n       <use xlink:href=\"#DejaVuSans-33\"/>\n       <use x=\"63.623047\" xlink:href=\"#DejaVuSans-30\"/>\n       <use x=\"127.246094\" xlink:href=\"#DejaVuSans-30\"/>\n       <use x=\"190.869141\" xlink:href=\"#DejaVuSans-30\"/>\n      </g>\n     </g>\n    </g>\n    <g id=\"text_78\">\n     <!-- like_count -->\n     <g transform=\"translate(162.261501 826.688437)scale(0.1 -0.1)\">\n      <use xlink:href=\"#DejaVuSans-6c\"/>\n      <use x=\"27.783203\" xlink:href=\"#DejaVuSans-69\"/>\n      <use x=\"55.566406\" xlink:href=\"#DejaVuSans-6b\"/>\n      <use x=\"109.851562\" xlink:href=\"#DejaVuSans-65\"/>\n      <use x=\"171.375\" xlink:href=\"#DejaVuSans-5f\"/>\n      <use x=\"221.375\" xlink:href=\"#DejaVuSans-63\"/>\n      <use x=\"276.355469\" xlink:href=\"#DejaVuSans-6f\"/>\n      <use x=\"337.537109\" xlink:href=\"#DejaVuSans-75\"/>\n      <use x=\"400.916016\" xlink:href=\"#DejaVuSans-6e\"/>\n      <use x=\"464.294922\" xlink:href=\"#DejaVuSans-74\"/>\n     </g>\n    </g>\n   </g>\n   <g id=\"matplotlib.axis_10\">\n    <g id=\"ytick_35\">\n     <g id=\"line2d_66\">\n      <g>\n       <use style=\"stroke:#000000;stroke-width:0.8;\" x=\"43.78125\" xlink:href=\"#m7e2e296a72\" y=\"798.411875\"/>\n      </g>\n     </g>\n     <g id=\"text_79\">\n      <!-- 0.0 -->\n      <g transform=\"translate(20.878125 802.211094)scale(0.1 -0.1)\">\n       <use xlink:href=\"#DejaVuSans-30\"/>\n       <use x=\"63.623047\" xlink:href=\"#DejaVuSans-2e\"/>\n       <use x=\"95.410156\" xlink:href=\"#DejaVuSans-30\"/>\n      </g>\n     </g>\n    </g>\n    <g id=\"ytick_36\">\n     <g id=\"line2d_67\">\n      <g>\n       <use style=\"stroke:#000000;stroke-width:0.8;\" x=\"43.78125\" xlink:href=\"#m7e2e296a72\" y=\"757.759097\"/>\n      </g>\n     </g>\n     <g id=\"text_80\">\n      <!-- 0.2 -->\n      <g transform=\"translate(20.878125 761.558316)scale(0.1 -0.1)\">\n       <use xlink:href=\"#DejaVuSans-30\"/>\n       <use x=\"63.623047\" xlink:href=\"#DejaVuSans-2e\"/>\n       <use x=\"95.410156\" xlink:href=\"#DejaVuSans-32\"/>\n      </g>\n     </g>\n    </g>\n    <g id=\"ytick_37\">\n     <g id=\"line2d_68\">\n      <g>\n       <use style=\"stroke:#000000;stroke-width:0.8;\" x=\"43.78125\" xlink:href=\"#m7e2e296a72\" y=\"717.106319\"/>\n      </g>\n     </g>\n     <g id=\"text_81\">\n      <!-- 0.4 -->\n      <g transform=\"translate(20.878125 720.905538)scale(0.1 -0.1)\">\n       <use xlink:href=\"#DejaVuSans-30\"/>\n       <use x=\"63.623047\" xlink:href=\"#DejaVuSans-2e\"/>\n       <use x=\"95.410156\" xlink:href=\"#DejaVuSans-34\"/>\n      </g>\n     </g>\n    </g>\n    <g id=\"ytick_38\">\n     <g id=\"line2d_69\">\n      <g>\n       <use style=\"stroke:#000000;stroke-width:0.8;\" x=\"43.78125\" xlink:href=\"#m7e2e296a72\" y=\"676.453542\"/>\n      </g>\n     </g>\n     <g id=\"text_82\">\n      <!-- 0.6 -->\n      <g transform=\"translate(20.878125 680.25276)scale(0.1 -0.1)\">\n       <use xlink:href=\"#DejaVuSans-30\"/>\n       <use x=\"63.623047\" xlink:href=\"#DejaVuSans-2e\"/>\n       <use x=\"95.410156\" xlink:href=\"#DejaVuSans-36\"/>\n      </g>\n     </g>\n    </g>\n    <g id=\"ytick_39\">\n     <g id=\"line2d_70\">\n      <g>\n       <use style=\"stroke:#000000;stroke-width:0.8;\" x=\"43.78125\" xlink:href=\"#m7e2e296a72\" y=\"635.800764\"/>\n      </g>\n     </g>\n     <g id=\"text_83\">\n      <!-- 0.8 -->\n      <g transform=\"translate(20.878125 639.599983)scale(0.1 -0.1)\">\n       <use xlink:href=\"#DejaVuSans-30\"/>\n       <use x=\"63.623047\" xlink:href=\"#DejaVuSans-2e\"/>\n       <use x=\"95.410156\" xlink:href=\"#DejaVuSans-38\"/>\n      </g>\n     </g>\n    </g>\n    <g id=\"ytick_40\">\n     <g id=\"line2d_71\">\n      <g>\n       <use style=\"stroke:#000000;stroke-width:0.8;\" x=\"43.78125\" xlink:href=\"#m7e2e296a72\" y=\"595.147986\"/>\n      </g>\n     </g>\n     <g id=\"text_84\">\n      <!-- 1.0 -->\n      <g transform=\"translate(20.878125 598.947205)scale(0.1 -0.1)\">\n       <use xlink:href=\"#DejaVuSans-31\"/>\n       <use x=\"63.623047\" xlink:href=\"#DejaVuSans-2e\"/>\n       <use x=\"95.410156\" xlink:href=\"#DejaVuSans-30\"/>\n      </g>\n     </g>\n    </g>\n    <g id=\"text_85\">\n     <!-- Count -->\n     <g transform=\"translate(14.798438 706.546771)rotate(-90)scale(0.1 -0.1)\">\n      <use xlink:href=\"#DejaVuSans-43\"/>\n      <use x=\"69.824219\" xlink:href=\"#DejaVuSans-6f\"/>\n      <use x=\"131.005859\" xlink:href=\"#DejaVuSans-75\"/>\n      <use x=\"194.384766\" xlink:href=\"#DejaVuSans-6e\"/>\n      <use x=\"257.763672\" xlink:href=\"#DejaVuSans-74\"/>\n     </g>\n    </g>\n   </g>\n   <g id=\"patch_123\">\n    <path d=\"M 43.78125 798.411875 \nL 43.78125 584.984792 \n\" style=\"fill:none;stroke:#000000;stroke-linecap:square;stroke-linejoin:miter;stroke-width:0.8;\"/>\n   </g>\n   <g id=\"patch_124\">\n    <path d=\"M 331.091753 798.411875 \nL 331.091753 584.984792 \n\" style=\"fill:none;stroke:#000000;stroke-linecap:square;stroke-linejoin:miter;stroke-width:0.8;\"/>\n   </g>\n   <g id=\"patch_125\">\n    <path d=\"M 43.78125 798.411875 \nL 331.091753 798.411875 \n\" style=\"fill:none;stroke:#000000;stroke-linecap:square;stroke-linejoin:miter;stroke-width:0.8;\"/>\n   </g>\n   <g id=\"patch_126\">\n    <path d=\"M 43.78125 584.984792 \nL 331.091753 584.984792 \n\" style=\"fill:none;stroke:#000000;stroke-linecap:square;stroke-linejoin:miter;stroke-width:0.8;\"/>\n   </g>\n   <g id=\"text_86\">\n    <!-- LucianoHuck -->\n    <g transform=\"translate(149.191189 578.984792)scale(0.12 -0.12)\">\n     <defs>\n      <path d=\"M 628 4666 \nL 1259 4666 \nL 1259 2753 \nL 3553 2753 \nL 3553 4666 \nL 4184 4666 \nL 4184 0 \nL 3553 0 \nL 3553 2222 \nL 1259 2222 \nL 1259 0 \nL 628 0 \nL 628 4666 \nz\n\" id=\"DejaVuSans-48\" transform=\"scale(0.015625)\"/>\n     </defs>\n     <use xlink:href=\"#DejaVuSans-4c\"/>\n     <use x=\"53.962891\" xlink:href=\"#DejaVuSans-75\"/>\n     <use x=\"117.341797\" xlink:href=\"#DejaVuSans-63\"/>\n     <use x=\"172.322266\" xlink:href=\"#DejaVuSans-69\"/>\n     <use x=\"200.105469\" xlink:href=\"#DejaVuSans-61\"/>\n     <use x=\"261.384766\" xlink:href=\"#DejaVuSans-6e\"/>\n     <use x=\"324.763672\" xlink:href=\"#DejaVuSans-6f\"/>\n     <use x=\"385.945312\" xlink:href=\"#DejaVuSans-48\"/>\n     <use x=\"461.140625\" xlink:href=\"#DejaVuSans-75\"/>\n     <use x=\"524.519531\" xlink:href=\"#DejaVuSans-63\"/>\n     <use x=\"579.5\" xlink:href=\"#DejaVuSans-6b\"/>\n    </g>\n   </g>\n  </g>\n  <g id=\"axes_6\">\n   <g id=\"patch_127\">\n    <path d=\"M 395.93282 798.411875 \nL 683.243323 798.411875 \nL 683.243323 584.984792 \nL 395.93282 584.984792 \nz\n\" style=\"fill:#ffffff;\"/>\n   </g>\n   <g id=\"patch_128\">\n    <path clip-path=\"url(#p0aebb2c102)\" d=\"M 408.992388 798.411875 \nL 422.051957 798.411875 \nL 422.051957 696.779931 \nL 408.992388 696.779931 \nz\n\" style=\"fill:#1f77b4;fill-opacity:0.75;stroke:#000000;stroke-linejoin:miter;\"/>\n   </g>\n   <g id=\"patch_129\">\n    <path clip-path=\"url(#p0aebb2c102)\" d=\"M 422.051957 798.411875 \nL 435.111525 798.411875 \nL 435.111525 595.147986 \nL 422.051957 595.147986 \nz\n\" style=\"fill:#1f77b4;fill-opacity:0.75;stroke:#000000;stroke-linejoin:miter;\"/>\n   </g>\n   <g id=\"patch_130\">\n    <path clip-path=\"url(#p0aebb2c102)\" d=\"M 435.111525 798.411875 \nL 448.171093 798.411875 \nL 448.171093 798.411875 \nL 435.111525 798.411875 \nz\n\" style=\"fill:#1f77b4;fill-opacity:0.75;stroke:#000000;stroke-linejoin:miter;\"/>\n   </g>\n   <g id=\"patch_131\">\n    <path clip-path=\"url(#p0aebb2c102)\" d=\"M 448.171093 798.411875 \nL 461.230661 798.411875 \nL 461.230661 798.411875 \nL 448.171093 798.411875 \nz\n\" style=\"fill:#1f77b4;fill-opacity:0.75;stroke:#000000;stroke-linejoin:miter;\"/>\n   </g>\n   <g id=\"patch_132\">\n    <path clip-path=\"url(#p0aebb2c102)\" d=\"M 461.230661 798.411875 \nL 474.29023 798.411875 \nL 474.29023 798.411875 \nL 461.230661 798.411875 \nz\n\" style=\"fill:#1f77b4;fill-opacity:0.75;stroke:#000000;stroke-linejoin:miter;\"/>\n   </g>\n   <g id=\"patch_133\">\n    <path clip-path=\"url(#p0aebb2c102)\" d=\"M 474.29023 798.411875 \nL 487.349798 798.411875 \nL 487.349798 696.779931 \nL 474.29023 696.779931 \nz\n\" style=\"fill:#1f77b4;fill-opacity:0.75;stroke:#000000;stroke-linejoin:miter;\"/>\n   </g>\n   <g id=\"patch_134\">\n    <path clip-path=\"url(#p0aebb2c102)\" d=\"M 487.349798 798.411875 \nL 500.409366 798.411875 \nL 500.409366 798.411875 \nL 487.349798 798.411875 \nz\n\" style=\"fill:#1f77b4;fill-opacity:0.75;stroke:#000000;stroke-linejoin:miter;\"/>\n   </g>\n   <g id=\"patch_135\">\n    <path clip-path=\"url(#p0aebb2c102)\" d=\"M 500.409366 798.411875 \nL 513.468935 798.411875 \nL 513.468935 798.411875 \nL 500.409366 798.411875 \nz\n\" style=\"fill:#1f77b4;fill-opacity:0.75;stroke:#000000;stroke-linejoin:miter;\"/>\n   </g>\n   <g id=\"patch_136\">\n    <path clip-path=\"url(#p0aebb2c102)\" d=\"M 513.468935 798.411875 \nL 526.528503 798.411875 \nL 526.528503 798.411875 \nL 513.468935 798.411875 \nz\n\" style=\"fill:#1f77b4;fill-opacity:0.75;stroke:#000000;stroke-linejoin:miter;\"/>\n   </g>\n   <g id=\"patch_137\">\n    <path clip-path=\"url(#p0aebb2c102)\" d=\"M 526.528503 798.411875 \nL 539.588071 798.411875 \nL 539.588071 798.411875 \nL 526.528503 798.411875 \nz\n\" style=\"fill:#1f77b4;fill-opacity:0.75;stroke:#000000;stroke-linejoin:miter;\"/>\n   </g>\n   <g id=\"patch_138\">\n    <path clip-path=\"url(#p0aebb2c102)\" d=\"M 539.588071 798.411875 \nL 552.64764 798.411875 \nL 552.64764 798.411875 \nL 539.588071 798.411875 \nz\n\" style=\"fill:#1f77b4;fill-opacity:0.75;stroke:#000000;stroke-linejoin:miter;\"/>\n   </g>\n   <g id=\"patch_139\">\n    <path clip-path=\"url(#p0aebb2c102)\" d=\"M 552.64764 798.411875 \nL 565.707208 798.411875 \nL 565.707208 798.411875 \nL 552.64764 798.411875 \nz\n\" style=\"fill:#1f77b4;fill-opacity:0.75;stroke:#000000;stroke-linejoin:miter;\"/>\n   </g>\n   <g id=\"patch_140\">\n    <path clip-path=\"url(#p0aebb2c102)\" d=\"M 565.707208 798.411875 \nL 578.766776 798.411875 \nL 578.766776 798.411875 \nL 565.707208 798.411875 \nz\n\" style=\"fill:#1f77b4;fill-opacity:0.75;stroke:#000000;stroke-linejoin:miter;\"/>\n   </g>\n   <g id=\"patch_141\">\n    <path clip-path=\"url(#p0aebb2c102)\" d=\"M 578.766776 798.411875 \nL 591.826345 798.411875 \nL 591.826345 798.411875 \nL 578.766776 798.411875 \nz\n\" style=\"fill:#1f77b4;fill-opacity:0.75;stroke:#000000;stroke-linejoin:miter;\"/>\n   </g>\n   <g id=\"patch_142\">\n    <path clip-path=\"url(#p0aebb2c102)\" d=\"M 591.826345 798.411875 \nL 604.885913 798.411875 \nL 604.885913 798.411875 \nL 591.826345 798.411875 \nz\n\" style=\"fill:#1f77b4;fill-opacity:0.75;stroke:#000000;stroke-linejoin:miter;\"/>\n   </g>\n   <g id=\"patch_143\">\n    <path clip-path=\"url(#p0aebb2c102)\" d=\"M 604.885913 798.411875 \nL 617.945481 798.411875 \nL 617.945481 798.411875 \nL 604.885913 798.411875 \nz\n\" style=\"fill:#1f77b4;fill-opacity:0.75;stroke:#000000;stroke-linejoin:miter;\"/>\n   </g>\n   <g id=\"patch_144\">\n    <path clip-path=\"url(#p0aebb2c102)\" d=\"M 617.945481 798.411875 \nL 631.00505 798.411875 \nL 631.00505 798.411875 \nL 617.945481 798.411875 \nz\n\" style=\"fill:#1f77b4;fill-opacity:0.75;stroke:#000000;stroke-linejoin:miter;\"/>\n   </g>\n   <g id=\"patch_145\">\n    <path clip-path=\"url(#p0aebb2c102)\" d=\"M 631.00505 798.411875 \nL 644.064618 798.411875 \nL 644.064618 798.411875 \nL 631.00505 798.411875 \nz\n\" style=\"fill:#1f77b4;fill-opacity:0.75;stroke:#000000;stroke-linejoin:miter;\"/>\n   </g>\n   <g id=\"patch_146\">\n    <path clip-path=\"url(#p0aebb2c102)\" d=\"M 644.064618 798.411875 \nL 657.124186 798.411875 \nL 657.124186 798.411875 \nL 644.064618 798.411875 \nz\n\" style=\"fill:#1f77b4;fill-opacity:0.75;stroke:#000000;stroke-linejoin:miter;\"/>\n   </g>\n   <g id=\"patch_147\">\n    <path clip-path=\"url(#p0aebb2c102)\" d=\"M 657.124186 798.411875 \nL 670.183754 798.411875 \nL 670.183754 696.779931 \nL 657.124186 696.779931 \nz\n\" style=\"fill:#1f77b4;fill-opacity:0.75;stroke:#000000;stroke-linejoin:miter;\"/>\n   </g>\n   <g id=\"matplotlib.axis_11\">\n    <g id=\"xtick_32\">\n     <g id=\"line2d_72\">\n      <g>\n       <use style=\"stroke:#000000;stroke-width:0.8;\" x=\"424.878043\" xlink:href=\"#m78cdc2cedf\" y=\"798.411875\"/>\n      </g>\n     </g>\n     <g id=\"text_87\">\n      <!-- 500 -->\n      <g transform=\"translate(415.334293 813.010312)scale(0.1 -0.1)\">\n       <use xlink:href=\"#DejaVuSans-35\"/>\n       <use x=\"63.623047\" xlink:href=\"#DejaVuSans-30\"/>\n       <use x=\"127.246094\" xlink:href=\"#DejaVuSans-30\"/>\n      </g>\n     </g>\n    </g>\n    <g id=\"xtick_33\">\n     <g id=\"line2d_73\">\n      <g>\n       <use style=\"stroke:#000000;stroke-width:0.8;\" x=\"460.337093\" xlink:href=\"#m78cdc2cedf\" y=\"798.411875\"/>\n      </g>\n     </g>\n     <g id=\"text_88\">\n      <!-- 1000 -->\n      <g transform=\"translate(447.612093 813.010312)scale(0.1 -0.1)\">\n       <use xlink:href=\"#DejaVuSans-31\"/>\n       <use x=\"63.623047\" xlink:href=\"#DejaVuSans-30\"/>\n       <use x=\"127.246094\" xlink:href=\"#DejaVuSans-30\"/>\n       <use x=\"190.869141\" xlink:href=\"#DejaVuSans-30\"/>\n      </g>\n     </g>\n    </g>\n    <g id=\"xtick_34\">\n     <g id=\"line2d_74\">\n      <g>\n       <use style=\"stroke:#000000;stroke-width:0.8;\" x=\"495.796144\" xlink:href=\"#m78cdc2cedf\" y=\"798.411875\"/>\n      </g>\n     </g>\n     <g id=\"text_89\">\n      <!-- 1500 -->\n      <g transform=\"translate(483.071144 813.010312)scale(0.1 -0.1)\">\n       <use xlink:href=\"#DejaVuSans-31\"/>\n       <use x=\"63.623047\" xlink:href=\"#DejaVuSans-35\"/>\n       <use x=\"127.246094\" xlink:href=\"#DejaVuSans-30\"/>\n       <use x=\"190.869141\" xlink:href=\"#DejaVuSans-30\"/>\n      </g>\n     </g>\n    </g>\n    <g id=\"xtick_35\">\n     <g id=\"line2d_75\">\n      <g>\n       <use style=\"stroke:#000000;stroke-width:0.8;\" x=\"531.255194\" xlink:href=\"#m78cdc2cedf\" y=\"798.411875\"/>\n      </g>\n     </g>\n     <g id=\"text_90\">\n      <!-- 2000 -->\n      <g transform=\"translate(518.530194 813.010312)scale(0.1 -0.1)\">\n       <use xlink:href=\"#DejaVuSans-32\"/>\n       <use x=\"63.623047\" xlink:href=\"#DejaVuSans-30\"/>\n       <use x=\"127.246094\" xlink:href=\"#DejaVuSans-30\"/>\n       <use x=\"190.869141\" xlink:href=\"#DejaVuSans-30\"/>\n      </g>\n     </g>\n    </g>\n    <g id=\"xtick_36\">\n     <g id=\"line2d_76\">\n      <g>\n       <use style=\"stroke:#000000;stroke-width:0.8;\" x=\"566.714245\" xlink:href=\"#m78cdc2cedf\" y=\"798.411875\"/>\n      </g>\n     </g>\n     <g id=\"text_91\">\n      <!-- 2500 -->\n      <g transform=\"translate(553.989245 813.010312)scale(0.1 -0.1)\">\n       <use xlink:href=\"#DejaVuSans-32\"/>\n       <use x=\"63.623047\" xlink:href=\"#DejaVuSans-35\"/>\n       <use x=\"127.246094\" xlink:href=\"#DejaVuSans-30\"/>\n       <use x=\"190.869141\" xlink:href=\"#DejaVuSans-30\"/>\n      </g>\n     </g>\n    </g>\n    <g id=\"xtick_37\">\n     <g id=\"line2d_77\">\n      <g>\n       <use style=\"stroke:#000000;stroke-width:0.8;\" x=\"602.173296\" xlink:href=\"#m78cdc2cedf\" y=\"798.411875\"/>\n      </g>\n     </g>\n     <g id=\"text_92\">\n      <!-- 3000 -->\n      <g transform=\"translate(589.448296 813.010312)scale(0.1 -0.1)\">\n       <use xlink:href=\"#DejaVuSans-33\"/>\n       <use x=\"63.623047\" xlink:href=\"#DejaVuSans-30\"/>\n       <use x=\"127.246094\" xlink:href=\"#DejaVuSans-30\"/>\n       <use x=\"190.869141\" xlink:href=\"#DejaVuSans-30\"/>\n      </g>\n     </g>\n    </g>\n    <g id=\"xtick_38\">\n     <g id=\"line2d_78\">\n      <g>\n       <use style=\"stroke:#000000;stroke-width:0.8;\" x=\"637.632346\" xlink:href=\"#m78cdc2cedf\" y=\"798.411875\"/>\n      </g>\n     </g>\n     <g id=\"text_93\">\n      <!-- 3500 -->\n      <g transform=\"translate(624.907346 813.010312)scale(0.1 -0.1)\">\n       <use xlink:href=\"#DejaVuSans-33\"/>\n       <use x=\"63.623047\" xlink:href=\"#DejaVuSans-35\"/>\n       <use x=\"127.246094\" xlink:href=\"#DejaVuSans-30\"/>\n       <use x=\"190.869141\" xlink:href=\"#DejaVuSans-30\"/>\n      </g>\n     </g>\n    </g>\n    <g id=\"xtick_39\">\n     <g id=\"line2d_79\">\n      <g>\n       <use style=\"stroke:#000000;stroke-width:0.8;\" x=\"673.091397\" xlink:href=\"#m78cdc2cedf\" y=\"798.411875\"/>\n      </g>\n     </g>\n     <g id=\"text_94\">\n      <!-- 4000 -->\n      <g transform=\"translate(660.366397 813.010312)scale(0.1 -0.1)\">\n       <use xlink:href=\"#DejaVuSans-34\"/>\n       <use x=\"63.623047\" xlink:href=\"#DejaVuSans-30\"/>\n       <use x=\"127.246094\" xlink:href=\"#DejaVuSans-30\"/>\n       <use x=\"190.869141\" xlink:href=\"#DejaVuSans-30\"/>\n      </g>\n     </g>\n    </g>\n    <g id=\"text_95\">\n     <!-- like_count -->\n     <g transform=\"translate(514.413071 826.688437)scale(0.1 -0.1)\">\n      <use xlink:href=\"#DejaVuSans-6c\"/>\n      <use x=\"27.783203\" xlink:href=\"#DejaVuSans-69\"/>\n      <use x=\"55.566406\" xlink:href=\"#DejaVuSans-6b\"/>\n      <use x=\"109.851562\" xlink:href=\"#DejaVuSans-65\"/>\n      <use x=\"171.375\" xlink:href=\"#DejaVuSans-5f\"/>\n      <use x=\"221.375\" xlink:href=\"#DejaVuSans-63\"/>\n      <use x=\"276.355469\" xlink:href=\"#DejaVuSans-6f\"/>\n      <use x=\"337.537109\" xlink:href=\"#DejaVuSans-75\"/>\n      <use x=\"400.916016\" xlink:href=\"#DejaVuSans-6e\"/>\n      <use x=\"464.294922\" xlink:href=\"#DejaVuSans-74\"/>\n     </g>\n    </g>\n   </g>\n   <g id=\"matplotlib.axis_12\">\n    <g id=\"ytick_41\">\n     <g id=\"line2d_80\">\n      <g>\n       <use style=\"stroke:#000000;stroke-width:0.8;\" x=\"395.93282\" xlink:href=\"#m7e2e296a72\" y=\"798.411875\"/>\n      </g>\n     </g>\n     <g id=\"text_96\">\n      <!-- 0.00 -->\n      <g transform=\"translate(366.667195 802.211094)scale(0.1 -0.1)\">\n       <use xlink:href=\"#DejaVuSans-30\"/>\n       <use x=\"63.623047\" xlink:href=\"#DejaVuSans-2e\"/>\n       <use x=\"95.410156\" xlink:href=\"#DejaVuSans-30\"/>\n       <use x=\"159.033203\" xlink:href=\"#DejaVuSans-30\"/>\n      </g>\n     </g>\n    </g>\n    <g id=\"ytick_42\">\n     <g id=\"line2d_81\">\n      <g>\n       <use style=\"stroke:#000000;stroke-width:0.8;\" x=\"395.93282\" xlink:href=\"#m7e2e296a72\" y=\"773.003889\"/>\n      </g>\n     </g>\n     <g id=\"text_97\">\n      <!-- 0.25 -->\n      <g transform=\"translate(366.667195 776.803108)scale(0.1 -0.1)\">\n       <use xlink:href=\"#DejaVuSans-30\"/>\n       <use x=\"63.623047\" xlink:href=\"#DejaVuSans-2e\"/>\n       <use x=\"95.410156\" xlink:href=\"#DejaVuSans-32\"/>\n       <use x=\"159.033203\" xlink:href=\"#DejaVuSans-35\"/>\n      </g>\n     </g>\n    </g>\n    <g id=\"ytick_43\">\n     <g id=\"line2d_82\">\n      <g>\n       <use style=\"stroke:#000000;stroke-width:0.8;\" x=\"395.93282\" xlink:href=\"#m7e2e296a72\" y=\"747.595903\"/>\n      </g>\n     </g>\n     <g id=\"text_98\">\n      <!-- 0.50 -->\n      <g transform=\"translate(366.667195 751.395122)scale(0.1 -0.1)\">\n       <use xlink:href=\"#DejaVuSans-30\"/>\n       <use x=\"63.623047\" xlink:href=\"#DejaVuSans-2e\"/>\n       <use x=\"95.410156\" xlink:href=\"#DejaVuSans-35\"/>\n       <use x=\"159.033203\" xlink:href=\"#DejaVuSans-30\"/>\n      </g>\n     </g>\n    </g>\n    <g id=\"ytick_44\">\n     <g id=\"line2d_83\">\n      <g>\n       <use style=\"stroke:#000000;stroke-width:0.8;\" x=\"395.93282\" xlink:href=\"#m7e2e296a72\" y=\"722.187917\"/>\n      </g>\n     </g>\n     <g id=\"text_99\">\n      <!-- 0.75 -->\n      <g transform=\"translate(366.667195 725.987135)scale(0.1 -0.1)\">\n       <use xlink:href=\"#DejaVuSans-30\"/>\n       <use x=\"63.623047\" xlink:href=\"#DejaVuSans-2e\"/>\n       <use x=\"95.410156\" xlink:href=\"#DejaVuSans-37\"/>\n       <use x=\"159.033203\" xlink:href=\"#DejaVuSans-35\"/>\n      </g>\n     </g>\n    </g>\n    <g id=\"ytick_45\">\n     <g id=\"line2d_84\">\n      <g>\n       <use style=\"stroke:#000000;stroke-width:0.8;\" x=\"395.93282\" xlink:href=\"#m7e2e296a72\" y=\"696.779931\"/>\n      </g>\n     </g>\n     <g id=\"text_100\">\n      <!-- 1.00 -->\n      <g transform=\"translate(366.667195 700.579149)scale(0.1 -0.1)\">\n       <use xlink:href=\"#DejaVuSans-31\"/>\n       <use x=\"63.623047\" xlink:href=\"#DejaVuSans-2e\"/>\n       <use x=\"95.410156\" xlink:href=\"#DejaVuSans-30\"/>\n       <use x=\"159.033203\" xlink:href=\"#DejaVuSans-30\"/>\n      </g>\n     </g>\n    </g>\n    <g id=\"ytick_46\">\n     <g id=\"line2d_85\">\n      <g>\n       <use style=\"stroke:#000000;stroke-width:0.8;\" x=\"395.93282\" xlink:href=\"#m7e2e296a72\" y=\"671.371944\"/>\n      </g>\n     </g>\n     <g id=\"text_101\">\n      <!-- 1.25 -->\n      <g transform=\"translate(366.667195 675.171163)scale(0.1 -0.1)\">\n       <use xlink:href=\"#DejaVuSans-31\"/>\n       <use x=\"63.623047\" xlink:href=\"#DejaVuSans-2e\"/>\n       <use x=\"95.410156\" xlink:href=\"#DejaVuSans-32\"/>\n       <use x=\"159.033203\" xlink:href=\"#DejaVuSans-35\"/>\n      </g>\n     </g>\n    </g>\n    <g id=\"ytick_47\">\n     <g id=\"line2d_86\">\n      <g>\n       <use style=\"stroke:#000000;stroke-width:0.8;\" x=\"395.93282\" xlink:href=\"#m7e2e296a72\" y=\"645.963958\"/>\n      </g>\n     </g>\n     <g id=\"text_102\">\n      <!-- 1.50 -->\n      <g transform=\"translate(366.667195 649.763177)scale(0.1 -0.1)\">\n       <use xlink:href=\"#DejaVuSans-31\"/>\n       <use x=\"63.623047\" xlink:href=\"#DejaVuSans-2e\"/>\n       <use x=\"95.410156\" xlink:href=\"#DejaVuSans-35\"/>\n       <use x=\"159.033203\" xlink:href=\"#DejaVuSans-30\"/>\n      </g>\n     </g>\n    </g>\n    <g id=\"ytick_48\">\n     <g id=\"line2d_87\">\n      <g>\n       <use style=\"stroke:#000000;stroke-width:0.8;\" x=\"395.93282\" xlink:href=\"#m7e2e296a72\" y=\"620.555972\"/>\n      </g>\n     </g>\n     <g id=\"text_103\">\n      <!-- 1.75 -->\n      <g transform=\"translate(366.667195 624.355191)scale(0.1 -0.1)\">\n       <use xlink:href=\"#DejaVuSans-31\"/>\n       <use x=\"63.623047\" xlink:href=\"#DejaVuSans-2e\"/>\n       <use x=\"95.410156\" xlink:href=\"#DejaVuSans-37\"/>\n       <use x=\"159.033203\" xlink:href=\"#DejaVuSans-35\"/>\n      </g>\n     </g>\n    </g>\n    <g id=\"ytick_49\">\n     <g id=\"line2d_88\">\n      <g>\n       <use style=\"stroke:#000000;stroke-width:0.8;\" x=\"395.93282\" xlink:href=\"#m7e2e296a72\" y=\"595.147986\"/>\n      </g>\n     </g>\n     <g id=\"text_104\">\n      <!-- 2.00 -->\n      <g transform=\"translate(366.667195 598.947205)scale(0.1 -0.1)\">\n       <use xlink:href=\"#DejaVuSans-32\"/>\n       <use x=\"63.623047\" xlink:href=\"#DejaVuSans-2e\"/>\n       <use x=\"95.410156\" xlink:href=\"#DejaVuSans-30\"/>\n       <use x=\"159.033203\" xlink:href=\"#DejaVuSans-30\"/>\n      </g>\n     </g>\n    </g>\n    <g id=\"text_105\">\n     <!-- Count -->\n     <g transform=\"translate(360.587507 706.546771)rotate(-90)scale(0.1 -0.1)\">\n      <use xlink:href=\"#DejaVuSans-43\"/>\n      <use x=\"69.824219\" xlink:href=\"#DejaVuSans-6f\"/>\n      <use x=\"131.005859\" xlink:href=\"#DejaVuSans-75\"/>\n      <use x=\"194.384766\" xlink:href=\"#DejaVuSans-6e\"/>\n      <use x=\"257.763672\" xlink:href=\"#DejaVuSans-74\"/>\n     </g>\n    </g>\n   </g>\n   <g id=\"patch_148\">\n    <path d=\"M 395.93282 798.411875 \nL 395.93282 584.984792 \n\" style=\"fill:none;stroke:#000000;stroke-linecap:square;stroke-linejoin:miter;stroke-width:0.8;\"/>\n   </g>\n   <g id=\"patch_149\">\n    <path d=\"M 683.243323 798.411875 \nL 683.243323 584.984792 \n\" style=\"fill:none;stroke:#000000;stroke-linecap:square;stroke-linejoin:miter;stroke-width:0.8;\"/>\n   </g>\n   <g id=\"patch_150\">\n    <path d=\"M 395.93282 798.411875 \nL 683.243323 798.411875 \n\" style=\"fill:none;stroke:#000000;stroke-linecap:square;stroke-linejoin:miter;stroke-width:0.8;\"/>\n   </g>\n   <g id=\"patch_151\">\n    <path d=\"M 395.93282 584.984792 \nL 683.243323 584.984792 \n\" style=\"fill:none;stroke:#000000;stroke-linecap:square;stroke-linejoin:miter;stroke-width:0.8;\"/>\n   </g>\n   <g id=\"text_106\">\n    <!-- MarinaSilva -->\n    <g transform=\"translate(504.750571 578.984792)scale(0.12 -0.12)\">\n     <defs>\n      <path d=\"M 628 4666 \nL 1569 4666 \nL 2759 1491 \nL 3956 4666 \nL 4897 4666 \nL 4897 0 \nL 4281 0 \nL 4281 4097 \nL 3078 897 \nL 2444 897 \nL 1241 4097 \nL 1241 0 \nL 628 0 \nL 628 4666 \nz\n\" id=\"DejaVuSans-4d\" transform=\"scale(0.015625)\"/>\n      <path d=\"M 3425 4513 \nL 3425 3897 \nQ 3066 4069 2747 4153 \nQ 2428 4238 2131 4238 \nQ 1616 4238 1336 4038 \nQ 1056 3838 1056 3469 \nQ 1056 3159 1242 3001 \nQ 1428 2844 1947 2747 \nL 2328 2669 \nQ 3034 2534 3370 2195 \nQ 3706 1856 3706 1288 \nQ 3706 609 3251 259 \nQ 2797 -91 1919 -91 \nQ 1588 -91 1214 -16 \nQ 841 59 441 206 \nL 441 856 \nQ 825 641 1194 531 \nQ 1563 422 1919 422 \nQ 2459 422 2753 634 \nQ 3047 847 3047 1241 \nQ 3047 1584 2836 1778 \nQ 2625 1972 2144 2069 \nL 1759 2144 \nQ 1053 2284 737 2584 \nQ 422 2884 422 3419 \nQ 422 4038 858 4394 \nQ 1294 4750 2059 4750 \nQ 2388 4750 2728 4690 \nQ 3069 4631 3425 4513 \nz\n\" id=\"DejaVuSans-53\" transform=\"scale(0.015625)\"/>\n      <path d=\"M 191 3500 \nL 800 3500 \nL 1894 563 \nL 2988 3500 \nL 3597 3500 \nL 2284 0 \nL 1503 0 \nL 191 3500 \nz\n\" id=\"DejaVuSans-76\" transform=\"scale(0.015625)\"/>\n     </defs>\n     <use xlink:href=\"#DejaVuSans-4d\"/>\n     <use x=\"86.279297\" xlink:href=\"#DejaVuSans-61\"/>\n     <use x=\"147.558594\" xlink:href=\"#DejaVuSans-72\"/>\n     <use x=\"188.671875\" xlink:href=\"#DejaVuSans-69\"/>\n     <use x=\"216.455078\" xlink:href=\"#DejaVuSans-6e\"/>\n     <use x=\"279.833984\" xlink:href=\"#DejaVuSans-61\"/>\n     <use x=\"341.113281\" xlink:href=\"#DejaVuSans-53\"/>\n     <use x=\"404.589844\" xlink:href=\"#DejaVuSans-69\"/>\n     <use x=\"432.373047\" xlink:href=\"#DejaVuSans-6c\"/>\n     <use x=\"460.15625\" xlink:href=\"#DejaVuSans-76\"/>\n     <use x=\"519.335938\" xlink:href=\"#DejaVuSans-61\"/>\n    </g>\n   </g>\n  </g>\n </g>\n <defs>\n  <clipPath id=\"p8f786941fb\">\n   <rect height=\"213.427083\" width=\"287.310503\" x=\"43.78125\" y=\"22.318125\"/>\n  </clipPath>\n  <clipPath id=\"p10c339316c\">\n   <rect height=\"213.427083\" width=\"287.310503\" x=\"395.93282\" y=\"22.318125\"/>\n  </clipPath>\n  <clipPath id=\"p3fe9b63be3\">\n   <rect height=\"213.427083\" width=\"287.310503\" x=\"43.78125\" y=\"303.651458\"/>\n  </clipPath>\n  <clipPath id=\"pb6d7470563\">\n   <rect height=\"213.427083\" width=\"287.310503\" x=\"395.93282\" y=\"303.651458\"/>\n  </clipPath>\n  <clipPath id=\"p2827a1b07b\">\n   <rect height=\"213.427083\" width=\"287.310503\" x=\"43.78125\" y=\"584.984792\"/>\n  </clipPath>\n  <clipPath id=\"p0aebb2c102\">\n   <rect height=\"213.427083\" width=\"287.310503\" x=\"395.93282\" y=\"584.984792\"/>\n  </clipPath>\n </defs>\n</svg>\n",
      "image/png": "[encoded data removed]"
     },
     "metadata": {
      "needs_background": "light"
     }
    }
   ],
   "source": [
    "fig, ax = plt.subplots(nrows=3, ncols=2, figsize=(10,12))\n",
    "ax = ax.flatten()\n",
    "\n",
    "for i, unique_author in enumerate(df.author.unique()[:-1]):\n",
    "    tmp_df = df.loc[df['author'] == unique_author]\n",
    "    sns.histplot(ax=ax[i], data=tmp_df, x='like_count', bins=20)\n",
    "    ax[i].set(title=unique_author)\n",
    "\n",
    "fig.tight_layout(pad = 2)"
   ]
  },
  {
   "cell_type": "code",
   "execution_count": 12,
   "metadata": {},
   "outputs": [
    {
     "output_type": "execute_result",
     "data": {
      "text/plain": [
       "     author_id                created_at                   id  \\\n",
       "0    128372940 2021-03-31 23:56:08+00:00  1377409408267812865   \n",
       "1    128372940 2021-03-31 21:18:11+00:00  1377369657598877697   \n",
       "2    128372940 2021-03-31 16:10:25+00:00  1377292204792807436   \n",
       "3    128372940 2021-03-31 12:58:37+00:00  1377243939237953539   \n",
       "4    128372940 2021-03-31 12:57:49+00:00  1377243735994601472   \n",
       "..         ...                       ...                  ...   \n",
       "188  128372940 2021-03-03 18:19:35+00:00  1367177851255021574   \n",
       "189  128372940 2021-03-02 20:25:48+00:00  1366847225800912896   \n",
       "190  128372940 2021-03-02 11:11:26+00:00  1366707716899627011   \n",
       "191  128372940 2021-03-01 08:31:22+00:00  1366305045768200194   \n",
       "192  128372940 2021-03-01 00:28:35+00:00  1366183548512833539   \n",
       "\n",
       "                                                  text  retweet_count  \\\n",
       "0    - Em abril/2013 o Congresso anulou a sessão de...           5847   \n",
       "1    - Apresento os novos comandantes de Força:\\n\\n...           6655   \n",
       "2                              https://t.co/F2v9HVOYW1            778   \n",
       "3    1.2- Assim, os aproximadamente 2.900 profissio...           1187   \n",
       "4    1.1- Reforçando o combate ao Covid19 na atençã...           1039   \n",
       "..                                                 ...            ...   \n",
       "188  RT @AmendoncaMJSP: O governo @jairbolsonaro is...           1676   \n",
       "189  - Em 12/março/2012 às 12h20, Jair Bolsonaro fo...           6220   \n",
       "190  - ÓLEO DIESEL e GÁS DE COZINHA.\\n- Imposto fed...           6362   \n",
       "191  - 30/março/2020 e\\n- 10/fevereiro/2021.\\n- Bom...           9296   \n",
       "192       @ernestofaraujo @AmbSKReddy 🇧🇷🤝🇮🇳, Ministro!            408   \n",
       "\n",
       "     reply_count  like_count  quote_count         author  \n",
       "0           3413       32214          414  jairbolsonaro  \n",
       "1           4362       37607          604  jairbolsonaro  \n",
       "2            483        4104           21  jairbolsonaro  \n",
       "3            348        7005           13  jairbolsonaro  \n",
       "4            218        4980           23  jairbolsonaro  \n",
       "..           ...         ...          ...            ...  \n",
       "188            0           0            0  jairbolsonaro  \n",
       "189         4410       26669          420  jairbolsonaro  \n",
       "190         4378       28426          545  jairbolsonaro  \n",
       "191        10215       45205         3093  jairbolsonaro  \n",
       "192           93        5212            5  jairbolsonaro  \n",
       "\n",
       "[193 rows x 9 columns]"
      ],
      "text/html": "<div>\n<style scoped>\n    .dataframe tbody tr th:only-of-type {\n        vertical-align: middle;\n    }\n\n    .dataframe tbody tr th {\n        vertical-align: top;\n    }\n\n    .dataframe thead th {\n        text-align: right;\n    }\n</style>\n<table border=\"1\" class=\"dataframe\">\n  <thead>\n    <tr style=\"text-align: right;\">\n      <th></th>\n      <th>author_id</th>\n      <th>created_at</th>\n      <th>id</th>\n      <th>text</th>\n      <th>retweet_count</th>\n      <th>reply_count</th>\n      <th>like_count</th>\n      <th>quote_count</th>\n      <th>author</th>\n    </tr>\n  </thead>\n  <tbody>\n    <tr>\n      <th>0</th>\n      <td>128372940</td>\n      <td>2021-03-31 23:56:08+00:00</td>\n      <td>1377409408267812865</td>\n      <td>- Em abril/2013 o Congresso anulou a sessão de...</td>\n      <td>5847</td>\n      <td>3413</td>\n      <td>32214</td>\n      <td>414</td>\n      <td>jairbolsonaro</td>\n    </tr>\n    <tr>\n      <th>1</th>\n      <td>128372940</td>\n      <td>2021-03-31 21:18:11+00:00</td>\n      <td>1377369657598877697</td>\n      <td>- Apresento os novos comandantes de Força:\\n\\n...</td>\n      <td>6655</td>\n      <td>4362</td>\n      <td>37607</td>\n      <td>604</td>\n      <td>jairbolsonaro</td>\n    </tr>\n    <tr>\n      <th>2</th>\n      <td>128372940</td>\n      <td>2021-03-31 16:10:25+00:00</td>\n      <td>1377292204792807436</td>\n      <td>https://t.co/F2v9HVOYW1</td>\n      <td>778</td>\n      <td>483</td>\n      <td>4104</td>\n      <td>21</td>\n      <td>jairbolsonaro</td>\n    </tr>\n    <tr>\n      <th>3</th>\n      <td>128372940</td>\n      <td>2021-03-31 12:58:37+00:00</td>\n      <td>1377243939237953539</td>\n      <td>1.2- Assim, os aproximadamente 2.900 profissio...</td>\n      <td>1187</td>\n      <td>348</td>\n      <td>7005</td>\n      <td>13</td>\n      <td>jairbolsonaro</td>\n    </tr>\n    <tr>\n      <th>4</th>\n      <td>128372940</td>\n      <td>2021-03-31 12:57:49+00:00</td>\n      <td>1377243735994601472</td>\n      <td>1.1- Reforçando o combate ao Covid19 na atençã...</td>\n      <td>1039</td>\n      <td>218</td>\n      <td>4980</td>\n      <td>23</td>\n      <td>jairbolsonaro</td>\n    </tr>\n    <tr>\n      <th>...</th>\n      <td>...</td>\n      <td>...</td>\n      <td>...</td>\n      <td>...</td>\n      <td>...</td>\n      <td>...</td>\n      <td>...</td>\n      <td>...</td>\n      <td>...</td>\n    </tr>\n    <tr>\n      <th>188</th>\n      <td>128372940</td>\n      <td>2021-03-03 18:19:35+00:00</td>\n      <td>1367177851255021574</td>\n      <td>RT @AmendoncaMJSP: O governo @jairbolsonaro is...</td>\n      <td>1676</td>\n      <td>0</td>\n      <td>0</td>\n      <td>0</td>\n      <td>jairbolsonaro</td>\n    </tr>\n    <tr>\n      <th>189</th>\n      <td>128372940</td>\n      <td>2021-03-02 20:25:48+00:00</td>\n      <td>1366847225800912896</td>\n      <td>- Em 12/março/2012 às 12h20, Jair Bolsonaro fo...</td>\n      <td>6220</td>\n      <td>4410</td>\n      <td>26669</td>\n      <td>420</td>\n      <td>jairbolsonaro</td>\n    </tr>\n    <tr>\n      <th>190</th>\n      <td>128372940</td>\n      <td>2021-03-02 11:11:26+00:00</td>\n      <td>1366707716899627011</td>\n      <td>- ÓLEO DIESEL e GÁS DE COZINHA.\\n- Imposto fed...</td>\n      <td>6362</td>\n      <td>4378</td>\n      <td>28426</td>\n      <td>545</td>\n      <td>jairbolsonaro</td>\n    </tr>\n    <tr>\n      <th>191</th>\n      <td>128372940</td>\n      <td>2021-03-01 08:31:22+00:00</td>\n      <td>1366305045768200194</td>\n      <td>- 30/março/2020 e\\n- 10/fevereiro/2021.\\n- Bom...</td>\n      <td>9296</td>\n      <td>10215</td>\n      <td>45205</td>\n      <td>3093</td>\n      <td>jairbolsonaro</td>\n    </tr>\n    <tr>\n      <th>192</th>\n      <td>128372940</td>\n      <td>2021-03-01 00:28:35+00:00</td>\n      <td>1366183548512833539</td>\n      <td>@ernestofaraujo @AmbSKReddy 🇧🇷🤝🇮🇳, Ministro!</td>\n      <td>408</td>\n      <td>93</td>\n      <td>5212</td>\n      <td>5</td>\n      <td>jairbolsonaro</td>\n    </tr>\n  </tbody>\n</table>\n<p>193 rows × 9 columns</p>\n</div>"
     },
     "metadata": {},
     "execution_count": 12
    }
   ],
   "source": [
    "tmp_df"
   ]
  },
  {
   "cell_type": "code",
   "execution_count": 13,
   "metadata": {},
   "outputs": [
    {
     "output_type": "display_data",
     "data": {
      "application/vnd.plotly.v1+json": {
       "config": {
        "plotlyServerURL": "https://plot.ly"
       },
       "data": [
        {
         "alignmentgroup": "True",
         "boxpoints": "all",
         "customdata": [
          [
           "- Em abril/2013 o Congresso anulou a sessão de 02/abril/64, que destituiu o Presidente João Goulart.\n\n- Não discuto a História, mas verdadeiros democratas não apagam fotos ou fatos.\n\n- Deus abençoe o Brasil e guarde nossa liberdade! https://t.co/EKul9CNDLF"
          ],
          [
           "- Apresento os novos comandantes de Força:\n\n- Almirante de Esquadra Almir GARNIER Santos;\n\n- General de Exército PAULO SERGIO Nogueira e\n\n- Tenente Brigadeiro do Ar Carlos de Almeida BAPTISTA JUNIOR https://t.co/W17Dp7npwp"
          ],
          [
           "https://t.co/F2v9HVOYW1"
          ],
          [
           "1.2- Assim, os aproximadamente 2.900 profissionais bolsistas ativos, que teriam o encerramento de suas atividades no projeto a partir de abril, continuaram atuando por mais um ano.\n⁣\nSaiba mais em: https://t.co/HBF09Nv86V"
          ],
          [
           "1.1- Reforçando o combate ao Covid19 na atenção primária, o @minsaude  prorrogou por um ano a permanência de médicos integrantes do 19º ciclo do Programa Mais Médicos para o Brasil. https://t.co/cxjacHswri"
          ],
          [
           "- O @exercitooficial segue na distribuição de medicamentos para kits intubação a mais 72 hospitais em 57 cidades no RS. Nesta ação, coordenada pelo 3º Grupamento Logístico, foram distribuídas 86 mil unidades de sedativos, relaxantes musculares e neurobloqueadores. https://t.co/ISmCy89tzB"
          ],
          [
           "- O AntecipaGov é um programa que permite que empresas com contratos ativos com o @govbr peçam antecipação de crédito de até 70% do que ainda têm a receber. A facilitação pode injetar até R$ 45 bilhões na economia. Detalhes: https://t.co/P7XFzkBKSc. \n\n@MinEconomia @tvbrasilgov https://t.co/yv8puUULGM"
          ],
          [
           "- Brasil criou 401.639 novos postos de trabalho em fevereiro/2021, segundo o CAGED.\n\n- O setor de Serviços foi o grande destaque do mês, com a geração de +173.547 novos postos de trabalho formais. @MinEconomia https://t.co/x71ZqsY6rE"
          ],
          [
           "- O @minsaude segue seu trabalho diário de distribuição de vacinas, alcançando quase 35 milhões de doses de imunizantes contra a Covid-19 aos estados brasileiros. @secomvc https://t.co/bMh53BPMiL"
          ],
          [
           "- São 2,4 mil leitos de UTI adulto e 50 leitos de UTI pediátrica para atendimento exclusivo de pacientes graves, para 23 estados e DF. Além de 900 leitos de Suporte Ventilatório Pulmonar para 12 estados e DF. Leia https://t.co/cCkhX63x6N\n\n@casacivilbr / @minsaude https://t.co/MMOIzzeb97"
          ],
          [
           "A2. No último fim de semana, o @minsaude distribuiu mil cilindros de oxigênio aos estados para o tratamento de pacientes graves - ação que reforça a importância do Plano Oxigênio Brasil. @govbr \n⠀\nSaiba mais em https://t.co/JV09XLtGBt"
          ],
          [
           "A1- O @minsaude em conjunto com o @MinEconomia, @DefesaGovBr , @anvisa_oficial e empresas fornecedoras intensifica a ação com o envio de cilindros de oxigênio, instalação de mini usinas e aquisição de equipamentos internacionais para todo o Brasil. https://t.co/RD095c69Fl"
          ],
          [
           "- O @minsaude evita o desabastecimento de medicamentos para intubação orotraqueal no país após um esforço conjunto entre o Governo do Brasil e farmacêuticas. Confira os acordos firmados com as indústrias farmacêuticas em  https://t.co/cmqfFRavAF https://t.co/CsRxDyxMWV"
          ],
          [
           "- A medida reforça a estrutura hospitalar em vários municípios brasileiros no enfrentamento ao covid19. No mês de março já foram mais de 12 mil leitos de UTI autorizados. \n\nSaiba mais em: https://t.co/UpEtvu8b4N ( @minsaude ) https://t.co/Dkh3kJB85b"
          ],
          [
           "- @MinEconomia / @via @MajorVitorHugo https://t.co/hAQTR4WawV"
          ],
          [
           "-Portaria do @MinCidadania garante aquisição e doação de alimentos a localidades em situação de emergência. Estados e municípios poderão receber cestas de alimentos em até 8 dias após solicitação. Aparecida (SP) foi a 1ª cidade beneficiada, com 40 ton de alimentos. @joaoromaneto https://t.co/qaq0Cc68UB"
          ],
          [
           "- Entre os produtos alcançados desta vez estão medicamentos antibióticos, analgésicos, para sedação, intubação e respiração artificial, entre anestésicos, calmantes, analgésicos. A medida também abrange monitores para leitos clínicos e de UTI. (Segue o fio): https://t.co/bJpoejCWpe"
          ],
          [
           "https://t.co/1A1g4vG68o https://t.co/W7blmCd588"
          ],
          [
           "- @tarcisiogdf @DNIToficial @govbr https://t.co/6FzSRaw6j4"
          ],
          [
           "A- @MInfraestrutura @tarcisiogdf @portosdobrasil @aviacaodobrasil @govbr https://t.co/aFqRtRyYdy"
          ],
          [
           "1.2- A ação ocorreu em apoio ao Governo do Estado do Amapá, em caráter de urgência, para abastecer a rede hospitalar do estado. @DefesaGovBr @govbr @minsaude https://t.co/8R0lvD7xMs"
          ],
          [
           "1.1- O Comando Conjunto Norte, por meio da 22ª Brigada de Infantaria de Selva, realizou a logística de desembarque e embarque de 582 cilindros de oxigênio no Aeroporto Internacional de Macapá. @fab_oficial @exercitooficial @marmilbr @DefesaGovBr https://t.co/aZP8ekiGav"
          ],
          [
           "- @minsaude @anvisa_oficial @tvbrasilgov https://t.co/rGRiJJkhoP"
          ],
          [
           "- O @minsaude se reuniu com a presidente da Pfizer Brasil, Marta Díez, para alinhar os detalhes do cronograma de entrega da vacina contra o covid ao país.\n\n- O contrato do @govbr com a farmacêutica prevê 100 milhões de doses.\n\n. Detalhes nas redes sociais do Ministério da Saúde. https://t.co/YfcCG4It6O"
          ],
          [
           "A5. De acordo com a pasta, para estes 2.431 leitos serão encaminhados aos estados R$ 113,6 milhões por milhões por mês. @minsaude"
          ],
          [
           "A4. Também foram autorizados mais 50 leitos pediátricos. A autorização consiste na participação do @govbr com recursos no custeio dessas estruturas. O ministério repassa mensalmente as verbas, em caráter temporário."
          ],
          [
           "A3. Nessa segunda-feira (29), o @minsaude já havia autorizado a implantação de mais 2.431 mil leitos para atendimento a pacientes com covid-19 em UTIs. As estruturas serão instaladas em 23 estados e no Distrito Federal."
          ],
          [
           "A2. O documento estabelece recurso financeiro do Bloco de Manutenção das Ações e Serviços Públicos de Saúde – Grupo Coronavírus (covid-19), a ser disponibilizado aos estados e municípios, em parcelas mensais, no valor total de mais de R$ 44 milhões. @govbr"
          ],
          [
           "A1. Covid-19: @minsaude libera mais leitos de UTIs para estados e municípios.\nPortaria está publicada no Diário Oficial da União desta terça-feira (30). @agoranoticiasbr https://t.co/dE68h1qyKc"
          ],
          [
           "- Ontem, (29/3), mais um C-130 Hércules transportou para Belém/PA, uma usina de oxigênio que será utilizada no atendimento a pacientes com covid.\n\n- A @fab_oficial continua empenhada no cumprimento de sua missão em apoio à Operação COVID-19. https://t.co/Q2oy40QEq4"
          ],
          [
           "- @minsaude (segue o fio): https://t.co/h0Lwj53rVm"
          ],
          [
           "- @minsaude https://t.co/63zt5Zas3p"
          ],
          [
           "- Boa noite a todos! https://t.co/eqqVco5kP7"
          ],
          [
           "• Casa Civil da Presidência da República: General Luiz Eduardo Ramos Baptista Pereira;\n\n• Ministério da Justiça e Segurança Púbica: Delegado da Polícia Federal Anderson Gustavo Torres;"
          ],
          [
           "• Secretaria de Governo da Presidência da República: Deputada Federal Flávia Arruda;\n\n• Advocacia-Geral da União: André Luiz de Almeida Mendonça."
          ],
          [
           "- Alteramosa titularidade de 6 ministérios nesta segunda-feira (29). As seguintes nomeações serão publicadas no Diário Oficial, a saber: \n\n• Ministério da Defesa: General Walter Souza Braga Netto;\n\n• Ministério das Relações Exteriores: Embaixador Carlos Alberto Franco França;"
          ],
          [
           "A batalha é dura e dolorosa, mas juntos, ao lado de Deus, nós venceremos!\n\n- Abençoado seja o nosso Brasil e o povo brasileiro!\n\n- Bem-aventurada é a nação cujo Deus é o Senhor (Salmo 33:12)"
          ],
          [
           "- Aos que puderem, amanhã, 29/03/2021, teremos um dia de jejum e oração pelo bem e pela liberdade de nossa nação.\n\n- Seguiremos lutando com todas as nossas forças contra o vírus e o desemprego; pela vida, mas sem abrir mão da dignidade de cada um. https://t.co/j8KIs9CdmQ"
          ],
          [
           "- Chegaram hoje, domingo, em Sinop/MT, duas aeronaves C-130 da @fab_oficial , com 340 cilindros de oxigênio medicinal para os hospitais da região. https://t.co/lYLxRLbtUI"
          ],
          [
           "- Os índios Paresis, de Mato Grosso, colheram sua soja da safra 20/21.\n\n- Atualmente eles utilizam 18 mil hectares, o que representa 1,55% de sua área demarcada.\n\n. Para mais informações sobre outros temas diários, siga-nos no Telegram: “Jair M. Bolsonaro 1” https://t.co/VX6h7qiXiF"
          ],
          [
           "- O projeto, monitorado pelo @mcti @Astro_Pontes , foi protocolado junto à Agência Nacional de Vigilância Sanitária (Anvisa) para realização de estudo fase 1 e 2 de vacina brasileira. \n\nDetalhes: https://t.co/PkvRfHXtCO https://t.co/QP8Vxkepke"
          ],
          [
           "A3- Com as linhas Caixa Hospitais, Caixa Giro SUS e Caixa Hospitais FGTS, hoje 286 santas casas são atendidas e mantêm 36 mil leitos e 7 mil leitos de UTI. A nova linha pode resultar em 189 mil leitos em todo o Brasil. @govbr"
          ],
          [
           "A2- A nova linha de crédito terá juros 42% mais baratos que os cobrados atualmente, que já eram os mais baixos exigidos desses hospitais. As instituições terão 180 dias de pausa em contratos vigentes e prazo para começar a pagar novos empréstimos. @secomvc"
          ],
          [
           "A1- Anunciadas, nesta quinta-feira (25), novas medidas de apoio a todas as 1.651 santas casas e hospitais filantrópicos do Brasil. As instituições poderão contratar R$ 3 bilhões em empréstimos a juros mais baratos com a @Caixa . https://t.co/rBsor6YT5Z"
          ],
          [
           "1.2- Esta foi uma ação desenvolvida pelo Comando Conjunto Norte, do qual a @marmilbr faz parte e atua com a missão de apoiar os órgãos de saúde e de segurança pública para prevenir e diminuir os impactos causados pelo vírus."
          ],
          [
           "1.1- No início da última semana, a @marmilbr prestou apoio no transporte de funcionários da Secretaria de Estado de Saúde Púbçica do Pará no combate ao Covid-19 na Ilha de Cotijuba (PA). https://t.co/JqEl099PfW"
          ],
          [
           "- O @minsaude distribui mais 4,2 milhões de doses de vacina contra a Covid-19 para os estados brasileiros. A nova remessa é formada de unidades adquiridas através do consórcio Covax Facility. https://t.co/VTMjuuMAGr"
          ],
          [
           "1.3- A ferramenta de acompanhamento permite identificar possíveis desabastecimentos do mercado, possibilitando, assim, ações preventivas, em médio e longo prazo. @anvisa_oficial"
          ],
          [
           "1.2- As informações são repassadas semanalmente por empresas fabricantes, envasadoras e distribuidoras de oxigênio medicinal. Estados como o Acre, onde não existem empresas produtoras, não constarão do painel. @govbr"
          ],
          [
           "1.1- A Agência Nacional de Vigilância Sanitária disponibilizou painel, que será atualizado às sextas-feiras, com dados sobre produção, consumo e distribuição de oxigênio no país. Os primeiros dados dizem respeito ao período compreendido entre os dias 13 e 17 de março. @minsaude https://t.co/c3ibbIp0IF"
          ],
          [
           "- OperaçãoCOVID19\n\nMais uma Aeronave C-105 Amazonas da @fab_oficial pousou em Natal/RN, na última semana, transportando 70 concentradores de oxigênio que serão utilizados no atendimento a pacientes com covid. https://t.co/W4VCjFSndm"
          ],
          [
           "- Desde o início da vacinação contra a Covid-19 no Brasil, o Ministério da Saúde já distribuiu mais de 33,6 milhões de doses de imunizantes aos estados brasileiros. Desse total, 17,3 milhões foram aplicadas.\n\n@minsaude / @secomvc https://t.co/rPiNRgq0JT"
          ],
          [
           "- No extremo sul do Brasil, militares da 2ª Brigada de Cavalaria Mecanizada do @exercitooficial apoiam a vacinação contra o covid na cidade Uruguaiana/RS, em apoio à Secretaria de Saúde Municipal. \n\nA missão continua em todos os locais do Brasil! (Segue o fio): https://t.co/GLHVj66IOC"
          ],
          [
           "- Dona Olinda, minha mãe,  comemorando seus 94 anos.\n- Bom dia a todos.\n- Deus abençoe o nosso Brasil. https://t.co/mqBMrVsTTh"
          ],
          [
           "B. Também está vedado o corte de energia de unidades consumidoras com equipamentos vitais à preservação da vida e dependentes de energia elétrica, além de unidades de saúde, a exemplo de hospitais e centros de produção, armazenamento e distribuição de vacinas. @govbr https://t.co/oSwobA1f2N"
          ],
          [
           "A. Com a ação do @Minas_Energia e a Aneel, está garantida a continuidade do fornecimento àqueles que, neste momento de pandemia, não têm condições de pagar a sua conta. https://t.co/UFjEXDoJAx"
          ],
          [
           "- Pousou há pouco mais um avião da @fab_oficial , desta vez, levando 160 cilindros de oxigênio para o Rio Grande do Norte!\n\n@minsaude https://t.co/SJJXUJ2U9u"
          ],
          [
           "- O @govbr envia, desde o começo de janeiro, milhares de doses de vacina contra a Covid-19 a todas as regiões do país, totalizando até então mais de 30 milhões de doses. Quadro especifica os envios e as aplicações em cada região do país até 26/03.\n\nLocalizaSUS @minsaude @secomvc https://t.co/V25WA6I1fw"
          ],
          [
           "- Caixa Econômica Federal ( @Caixa )\n- O Banco da Inclusão.\n- Presidente Pedro Guimarães. https://t.co/uWUIopNuwK"
          ],
          [
           "- Drama de Aparecida/SP: diante de relatos do Prefeito, o Cel Mello Araújo, Dir-Pres da CEAGESP, doa toneladas de alimentos à cidade.\n\n- Nossos agradecimentos aos permissionários da CEAGESP pelas doações e ao @exercitooficial na cooperação em transporte. https://t.co/9gBjIlHyLK"
          ],
          [
           "- Doses de vacinas distribuídas nos estados e municípios. @minsaude https://t.co/EncAdTga3N"
          ],
          [
           "8.3- Para conferir o texto completo da portaria, clique no link a seguir ou o copie e cole no seu navegador: https://t.co/FG0Shp8796"
          ],
          [
           "8.2- Para solicitar os alimentos, o ente federativo deve enviar, para o @MinCidadania , os documentos listados na portaria que detalha como ocorrerá a distribuição das cestas, publicada no Diário Oficial da União desta quarta-feira (24). @secomvc ."
          ],
          [
           "8.1- @govbr vai distribuir alimentos para estados e municípios em situação de emergência ou estado de calamidade pública. As cestas básicas serão entregues pelos próprios entes federativo a famílias em situação de insegurança alimentar e nutricional. @MinCidadania @joaoromaneto https://t.co/nC4JW3o0jx"
          ],
          [
           "7- @minsaude @fiocruz https://t.co/8AuDT6KFJe"
          ],
          [
           "6- @govbr @jairbolsonaro antecipará o 13º de aposentados e pensionistas do INSS. Injeção de R$ 50 bilhões na economia. @MinEconomia @tvbrasilgov https://t.co/ZHBUMkeTH4"
          ],
          [
           "5- O @minsaude começou a receber medicamentos para intubação da União Química. O objetivo é garantir o abastecimento desses medicamentos, tanto para hospitais públicos quanto para hospitais privados. \n\nEntenda: https://t.co/ETK9XKEwdp https://t.co/nUn9iBCZCV"
          ],
          [
           "4- A @anvisa_oficial autorizou que o https://t.co/Z4xbO6jbI6 teste um soro contra o covid19 para prevenir a infecção, além de evitar o agravamento dos sintomas da doença. Leia em: https://t.co/EObP2NWeIg. @tvbrasilgov @minsaude https://t.co/S4aL5DvtBb"
          ],
          [
           "3- @anvisa_oficial https://t.co/qO7QDh0TK3"
          ],
          [
           "2- @fab_oficial atinge 5000 horas de voo em um ano de missões de combate ao COVID.\n\nConfira em https://t.co/VuhNt4jKJ0 https://t.co/7iUMZzYzJ8"
          ],
          [
           "1- @fiocruz recebeu ontem nova remessa insumos para a produção de vacinas contra a Covid-19. Os ingredientes farmacêuticos viabilizarão 6 milhões de novas doses. No fim de semana, deverão chegar mais 2 lotes de IFAs, viabilizando mais 12 milhões de doses. @minsaude https://t.co/iyIkRFz0vW"
          ],
          [
           "- @minsaude solicita a estados e municípios preparo para o aumento da demanda pela vacinação. @tvbrasilgov https://t.co/6o8UfiCLej"
          ],
          [
           "- Auxílio Emergencial e mais detalhes via @MinCidadania (Ministro @joaoromaneto ). https://t.co/SXYwpmzqLt"
          ],
          [
           "- A FioCruz prevê a entrega de 100,4 milhões de doses no primeiro semestre deste ano. @minsaude"
          ],
          [
           "- Três aviões da China devem chegar nos próximos dias com 1024 litros de IFA, insumo utilizado pela @fiocruz na produção de vacinas contra a Covid-19. A quantidade é suficiente para a produção de 32 milhões de doses da AstraZeneca. @ItamaratyGovBr @ernestofaraujo https://t.co/5Zul4J4lQA"
          ],
          [
           "- Além de atender ao HGR, a usina poderá abastecer outros hospitais da rede estadual.\n\nFonte: @bndes / @secomvc"
          ],
          [
           "- A usina tem capacidade de produção de 30 m³ por hora e poderá suprir a necessidade de até 30 leitos de UTI para a Covid-19. A doação total, de R$ 1,6 milhão, também inclui cilindros de oxigênio, dos quais 30 já foram entregues. @minsaude"
          ],
          [
           "- O @bndes e o Grupo Eneva entregaram, nessa segunda-feira (22), a usina de oxigênio doada ao Hospital Geral de Roraima (HGR) por meio do programa Matchfunding Salvando Vidas. O equipamento é o primeiro do gênero em um hospital do estado. https://t.co/a4Xcql0qkA"
          ],
          [
           "2-Os valores serão repassados mensalmente e as despesas autorizadas valem para o 1• trimestre deste ano. A portaria considera solicitações dos gestores estaduais e municipais encaminhadas por meio do Sistema de Apoio à Implementação de Políticas de Saúde do @minsaude . @secomvc"
          ],
          [
           "1- Mais R$ 32,88 milhões foram destinados pelo @govbr para ampliar o número de leitos de UTI no DF e 11 estados. Portaria do Ministério da Saúde autorizou despesas para abertura de 631 novos leitos adultos e 54 pediátricos. https://t.co/S63TZC00b2"
          ],
          [
           "- Em apoio à Secretaria Estadual do RS e sob coordenação do 3º Grupamento Logístico (@CmdoCMS ) cerca de 27 mil unidades de medicamentos estão sendo distribuídos a 28 hospitais em 23 cidades do Rio Grande do Sul.\n\n@exercitooficial https://t.co/V8Xg2Fmsws"
          ],
          [
           "- O @govbr anuncia o adiamento do pagamento do Simples Nacional por 3 meses (abril a junho), que poderão ser pagos nos 6 meses posteriores (agosto/21 a janeiro/22).\n- A medida beneficiará todas as Micro e Pequenas Empresas, bem como os MEI."
          ],
          [
           "- @exercitooficial em apoio à campanha de vacinação contra a covid-19 no município de Uruguaiana (RS). A ação foi realizada pelo 8º Regimento de Cavalaria Mecanizado.\n\nSaiba mais: https://t.co/JoROiLyAGj https://t.co/P2nExhAsJu"
          ],
          [
           "- O @minsaude atualizando o cronograma da chegada de vacinas contra a Covid-19 para 2021. São mais de 562,9 milhões de doses já contratadas pelo @govbr .\n\nConfira a previsão de entregas e a quantidade prevista. @secomvc https://t.co/0fhWl10hFs"
          ],
          [
           "- Aeronave C-105 Amazonas da @fab_oficial decolou di 22/3 de Manaus/AM, com destino a Natal/RN, transportando 70 concentradores de oxigênio que serão utilizados no atendimento a pacientes com COVID-19. @DefesaGovBr https://t.co/Zx1hl3PYen"
          ],
          [
           "- Pronunciamento PR @jairbolsonaro . \n\nhttps://t.co/jGZGYyyJDF"
          ],
          [
           "https://t.co/YDGijp0bH4"
          ],
          [
           "- Palavras sobre o lockdown / emissário da OMS David Nabarro: via @MajorVitorHugo https://t.co/QboOuHqo6b"
          ],
          [
           "https://t.co/se0INqhoDL"
          ],
          [
           "-  \" Temos 2 problemas graves, o vírus e o desemprego...\" abril/2020.\n\n. https://t.co/z3KkFTzNtY"
          ],
          [
           "- Somos o 5º pais que mais vacina no mundo com 13 milhões de doses aplicadas.\n\n- Para o corrente ano, já foram contratadas mais de 400 milhões de doses de vacinas para ser distribuído de forma voluntária para a população.\n\nhttps://t.co/YPyLlAHXVK https://t.co/CQs9Mwju8p"
          ],
          [
           "- \"Pelo meu histórico de atleta .....\"\n-  Bom dia a todos. https://t.co/R3o7k2fUc5"
          ],
          [
           "Segue o fio: 🇧🇷 https://t.co/yUMnODlITL"
          ],
          [
           "- Até o momento, a estatal já contratou 1.146 profissionais por meio do concurso nacional, além de ter realizado cinco processos seletivos emergenciais para combate à Covid-19, convocando mais de 4.900 profissionais para todas as unidades da rede. @mribeiroMEC @MEC_Comunicacao"
          ],
          [
           "- A Empresa Brasileira de Serviços Hospitalares (@ebserh ) dá início, nesta sexta-feira (19), à convocação de 451 profissionais aprovados no Concurso Nacional 01/2019.\n\n 1.660 vagas em todo o país, sendo 533 para médicos, 988 para área assistencial e 129 para área administrativa. https://t.co/RBns6v4kmT"
          ],
          [
           "- O @minsaude já coordenou nove pautas de distribuição de vacinas COVID19, desde 18/01. Já foram distribuídas mais de 25 milhões de doses para todo o Brasil. Mais de 13 milhões de doses foram aplicadas."
          ],
          [
           "- O @minsaude distribui mais 5 milhões de doses de vacina contra a Covid-19, neste final de semana, produzidas pela @fiocruz e pelo @butantanoficial . https://t.co/zYsqDDvBsB"
          ],
          [
           "- Sete hospitais universitários federais da Rede Ebserh/ @MEC_Comunicacao aumentam em mais de 100% o número de leitos para apoio no combate ao Covid-19. @secomvc"
          ],
          [
           "- Somente no Complexo Hospitalar da Universidade Federal do Ceará/ @ebserh houve a ampliação de 84 leitos, o que representa um crescimento de quase 500% em relação às vagas que já eram disponibilizadas. https://t.co/Erl5cQ0RXm"
          ],
          [
           "- Na quinta-feira (18/3), um C-95 Bandeirante da @fab_oficial transportou para Santa Maria/RS 20 respiradores que serão utilizados em pacientes no tratamento do COVID19.\n\n. Acesse https://t.co/PBBwLamSx7 e saiba mais. https://t.co/MfSE3nbcXo"
          ],
          [
           "- Acompanhe os caminhos dos profissionais de saúde indígena na selva amazônica. @DefesaGovBr @exercitooficial @minsaude https://t.co/xUPneHwCyI"
          ],
          [
           "- Em 2020, o Banco Nacional de Desenvolvimento Econômico e Social (@bndes ) apoiou mais de 460 mil clientes, que empregam mais de 10 milhões de pessoas, e ofereceu, pela primeira vez na história, mais recursos para pequenas e médias empresas do que às grandes. @secomvc https://t.co/c1ehb6MOw3"
          ],
          [
           "- OperacãoCOVID19\n\n. KC-390 da @fab_oficial , na última semana (19/3), pousou em Porto Velho/RO, com um contêiner isotanque de oxigênio líquido que será utilizado no atendimento de pacientes com COVID19.\n\n- A missão continua. @DefesaGovBr https://t.co/UFMOCdGnig"
          ],
          [
           "- Projeto de Badminton.\n- Secretaria de Esportes.\n- Comunidade da Chacrinha, Rio/RJ.\n- @EsporteGovBR Marcelo Magalhães.\n- Bom dia a todos. https://t.co/XhvTTe0eOZ"
          ],
          [
           "- Vacinas compradas em agosto/2020. https://t.co/66Lc1fgnH9"
          ],
          [
           "- Mais informações nas redes sociais do @minsaude https://t.co/yFRDwSJ8TG"
          ],
          [
           "- Marcão, goleiro do Sergipe, fala sobre o sofrimento de quem fica sem salário.\n- O mesmo se aplica a todos os trabalhadores formais ou informais.\n- Lamentamos qualquer morte, mas devemos também lutar contra o desemprego.\n\n. Link no YouTube: https://t.co/Llb98HocPV https://t.co/ouAXriF16e"
          ],
          [
           "- Chaparral/Taguatinga/DF\n- 20/março/2021.\n- Local onde os efeitos do \"fique em casa\" são mais sentidos. https://t.co/AxSiGYZZHC"
          ],
          [
           "- Porto Alegre/RS. O Hospital de Campanha do @exercitooficial , instalado em anexo ao Hospital Restinga, começa a receber os primeiros pacientes com COVID-19. Veja o depoimento da Dra Andréa Volkmer, Diretora Assistencial do Hospital Restinga. \n\nhttps://t.co/U5TLp9QxXM https://t.co/T6mbIXkZyA"
          ],
          [
           "- Os 1499 leitos vão reforçar a estrutura hospitalar de 70 municípios de 17 estados. E os outros 1280 leitos vão atender 50 municípios de cinco estados.\n\nDetalhes nas redes sociais do @minsaude :\n\nConfira os estados:\n\nhttps://t.co/TMj1z9cRnN \n\nhttps://t.co/2L8pXq1z61"
          ],
          [
           "- Depois de mais 1608 leitos de UTIs para SP, nesta sexta-feira, o @minsaude autorizou 2,7 mil leitos de UTI adulto para atendimento exclusivo aos pacientes graves com Covid-19 no Brasil. (Segue)"
          ],
          [
           "- @anvisa_oficial autoriza importação direta de kit intubação, para evitar desabastecimento.\n\nhttps://t.co/aHYykU8FeO"
          ],
          [
           "- Choro para comer.\n- Já passou do 1/2 dia.\n\n. Link no YouTube: https://t.co/ufyXxw7fu0 https://t.co/eh8LeULxHs"
          ],
          [
           "- @secomvc @minsaude ( Mais informações diárias nos fleets) https://t.co/GOReLtkU8Z"
          ],
          [
           "- Vacinas/FIOCRUZ.\n\n. Link no YouTube: https://t.co/60tFSUWsBt https://t.co/g1Y4ym358G"
          ],
          [
           ". Auxílio-emergencial ( detalhes com o Presidente da @Caixa sobre o maior projeto social do mundo;\n. Ação Direta de Inconstitucionalidade no STF (toque de recolher e defesa da Constituição);\n. Combate de fraudes do auxílio-emergencial;\n. Diminuição do desmatamento da Amazônia;"
          ],
          [
           ". Combustíveis / gás de cozinha\n. Aprovada Nova Lei do Gás (explicação)\n. Recursos para Santas Casas (UTIs, leitos, renegociações);\n. Tratamento inicial (covid);\n. Isolamento vertical;\n. PEC Emergencial (modificações, promoções e progressões - funcionários públicos (a verdade));"
          ],
          [
           ". Temas:\n\n. Ações do @govbr no combate ao covid;\n. Vacinas (novas informações);\n. Cilindros de oxigênio;\n. Liberação de mais recursos para leitos de UTI a estados e municípios;\n. Diminuição de impostos federais e aumento de impostos estaduais;"
          ],
          [
           "- Live de quinta feira com o Presidente (18/03/2021)\n\n. Acompanhe pelo YouTube: https://t.co/S2I6LKBDPp"
          ],
          [
           "- O @govbr liberou mais R$ 77,18 milhões para a instalação de 1,6 mil leitos de unidades de terapia intensiva (UTIs) para adultos, e oito leitos pediátricos em São Paulo (Covid-19). Confira a lista das unidades que receberão os leitos: https://t.co/z4kuTBj713 https://t.co/SPySWlZcp7"
          ],
          [
           "- O Brasil é o 6° país que mais vacina em valores absolutos.\n\nLink no YouTube: https://t.co/13qdQH8qpw"
          ],
          [
           "- O Brasil já tem garantidos mais de 562 milhões de doses de vacinas contra a Covid-19 até o fim de 2021.\nCada lote de imunizantes será enviado a todas as Unidades da Federação (UFs) de forma proporcional e igualitária. Via @secomvc"
          ],
          [
           "- O @govbr e o @minsaude firmaram, esta semana, acordo para adquirir 138 milhões de doses de vacina contra a Covid-19 dos laboratórios Pfizer e Janssen. Com a compra, o cronograma de vacinação, que já tem mais de 20,1 milhões de doses distribuídas, foi atualizado. https://t.co/WfBgpUxULP"
          ],
          [
           "🇧🇷\n\n- Contra as sujas narrativas, mais verdades!\n\n. Link no YouTube: https://t.co/UMsVnXCJOr https://t.co/T4aSenc7Qa"
          ],
          [
           "- São mais de 500 milhões de doses de vacina com mais de 7 consórcios / laboratórios: o @minsaude assinou contrato para compra de mais 10 milhões de doses da Sputnik V.\n\nLink no YouTube: https://t.co/JA0sheV4hk https://t.co/nITpdVAue7"
          ],
          [
           "Combate ao covid19: o @minsaude liberou recursos para contratação de quase 4 mil leitos de UTI para pacientes com a doença.\n\n. Link no YouTube: https://t.co/QfqnuCTKJN https://t.co/9qWvMuaiGW"
          ],
          [
           "- Bom Dia a todos!\n\n. Link no YouTube: https://t.co/piEqVkmKvy https://t.co/htP5hbUfvi"
          ],
          [
           "Decisão sobre o @minsaude :\n\n. Link no YouTube: https://t.co/DFTj9217DY https://t.co/glqdlyZmxf"
          ],
          [
           "- Nesta segunda-feira convidei o atual presidente da Sociedade Brasileira de Cardiologia (SBC), Marcelo Queiroga, para assumir o cargo de @minsaude . https://t.co/nESpO2Trie"
          ],
          [
           "- Um abraço a todos os soldados do Brasil! https://t.co/WTybozBTg7"
          ],
          [
           "- Bom dia a todos. https://t.co/Q1YthXfT3a"
          ],
          [
           "- Nosso esforço em zerar impostos federais no diesel..... https://t.co/TChXBnPN4v"
          ],
          [
           "- 08  de  MAIO  de  2020.\n- Boa Noite a Todos https://t.co/oNlkK1DNdM"
          ],
          [
           "- Quanto mais gente for obrigada a viver de favores do Estado, mais dominado fica esse povo.\n\n. Link no YouTube: https://t.co/KP9i30sgVV https://t.co/eUkStkknEg"
          ],
          [
           "Na manhã de ontem, as tropas iniciaram a montagem do Hospital de Campanha do @exercitooficial na capital gaúcha com novos leitos de UTI, se encontrando em anexo ao Hospital Restinga para o combate ao COVID-19. @DefesaGovBr"
          ],
          [
           "Ainda na quinta, em conjunto com a @fab_oficial ,  os equipamentos começaram a ser transportados para Porto Alegre. A outra parte foi transportada nesta sexta-feira,12. @govbr"
          ],
          [
           "PORTO ALEGRE / RS: Nessa quinta, 11, o Comando Militar do Sul iniciou a instalação de um dos módulos do Hospital de Campanha do @exercitooficial @DefesaGovBr @fab_oficial (segue) https://t.co/BO8NDwf7AM"
          ],
          [
           "- Sabemos das dificuldades da profissão.\n- Agradecemos pela confiança no Brasil.\n\n. Link no YouTube: https://t.co/zp77mG6S1Q https://t.co/QCQEnvxEET"
          ],
          [
           "RT @Marceloscf2: Transformação chegando para as rodovias do Brasil. Presidente @jairbolsonaro acaba de assinar decreto q institui o inov@BR…"
          ],
          [
           "RT @DefesaGovBr: Forças Armadas em ação ‼️\n➡️ Hospital de Campanha do @exercitooficial reforçará leitos para pacientes com Covid-19 em Port…"
          ],
          [
           "RT @tarcisiogdf: Bora, Bahia. Duplicação da BR-116/BA de Feira até Santa Bárbara entregue. 6 meses após 1o trecho liberado, pista dupla che…"
          ],
          [
           "- Live da Semana com Presidente Jair Bolsonaro - 11/03/2021.\n\n. Link no YouTube: https://t.co/vIvnPhLCdX"
          ],
          [
           "@CarlosNadalim 👍🏻"
          ],
          [
           "- Águas do São Francisco chegando a Fortaleza/Ceará.\n- Um abraço  meu Nordeste.\n- @mdregional_br @rogeriosmarinho .\n- @govbr @jairbolsonaro .\n\n. Link no YouTube: https://t.co/G3us24Qeh0 https://t.co/98EL2KrNQU"
          ],
          [
           "- Sanção dos Projetos de Lei que ampliam a capacidade de aquisição de vacinas.\n\nLink no YouTube: https://t.co/0z5IjkCqzU"
          ],
          [
           "- Enfatizando sempre que mesmo com a falta de insumos devido a demanda mundial somos um dos países que mais vacinam mundo e estratégias para conter o vírus, como a viagem a Israel, rendem frutos nesta área ao Brasil. @itamaratygovbr @ernestofaraujo \n\nhttps://t.co/vJryANy2KL https://t.co/Ip7jI1xV4s"
          ],
          [
           "- Mais 2,6 milhões de doses de vacinas contra o covid19 estão chegando a todos os estados e ao DF. @minsaude \n\nYouTube: https://t.co/UI7PUWZQ1t https://t.co/wbtpHq5yPm"
          ],
          [
           "- Com dor no coração disse que isso iria acontecer. Infelizmente se concretizou. @mdhbrasil @DamaresAlves https://t.co/AG5T8ZYIZw"
          ],
          [
           "RT @tarcisiogdf: Está marcado: no início de abril, vamos contratar em 3 dias R$ 10 bilhões em investimento privado para 22 aeroportos, 5 te…"
          ],
          [
           "Mais informações atualizadas nas redes sociais do @minsaude : https://t.co/ZiMSTeuEAr"
          ],
          [
           "- O que há de mais avançado no combate ao Covid na parceria Brasil/Israel.\n\n. @ItamaratyGovBr @ernestofaraujo \n. @minsaude \n. @mctic @Astro_Pontes \n\n. Link no YouTube: https://t.co/w5rsiFzAf5 https://t.co/lngcYzrfHO"
          ],
          [
           "RT @joaoromaneto: Você conhece o Programa de Aquisição de Alimentos (PAA), do governo federal? Através do PAA, o governo investe no trabalh…"
          ],
          [
           "RT @filgmartin: 1. Estamos encerrando agora nossa missão em Israel após uma intensa e bem-sucedida agenda, ao longo dos últimos três dias,…"
          ],
          [
           "- Ninguém vence uma maratona se não tiver preparado.\n- Aos que teimam em desunir lembre-se que existe algo a perder mais importante que a própria vida: a LIBERDADE.\n\n. Link no YouTube: https://t.co/7EGpcoQHbx"
          ],
          [
           "- Missão em Israel.\n- Segundo dia.\n. Link no YouTube: https://t.co/9xVhx3EYEH https://t.co/2dsUgB5nPA"
          ],
          [
           "- Brasil é o 6º país do mundo que mais vacinou contra covid19, segundo a Universidade de Oxford. O @minsaude prevê mais 29 milhões de doses até o fim de março. E anunciou que estão avançadas as negociações com laboratório norte-americano Moderna. Via @tvbrasilgov https://t.co/hs7EALrQG0"
          ],
          [
           "- Novos contratos com a Pfizer. https://t.co/bSgKeomQOj"
          ],
          [
           "- Assista até o final...\n- Deus abençoe o nosso Brasil.\n\n. Link no YouTube: https://t.co/nfDXdrZmv1"
          ],
          [
           "- Nosso primeiro dia em Israel.\n\n. @minsaude \n. @mctic @Astro_Pontes \n. @ItamaratyGovBr @ernestofaraujo \n\n. Link no YouTube: https://t.co/I7dEuFgpVd https://t.co/WCIZ88Vzq6"
          ],
          [
           "- OMS: \"saúde e economia são inseparáveis.\"\n- O povo quer e precisa trabalhar.\n\n. Link no YouTube: https://t.co/4Tjn9yLQWw"
          ],
          [
           "- Peço assistir...\n- E compartilhar. \n- Bom dia a todos.\n\n. Link no YouTube: https://t.co/0bg09ccWmj https://t.co/mhf8cZh9zz"
          ],
          [
           "O início das obras, por necessidade de outras licenças, somente deverá ocorrer em 2022.\n\n- Por ocasião das safras a BR-158 chega a movimentar, por dia, 2.000 bi-trens com 70 toneladas cada.\n\n- População: 781 índios;\n- Área: 165.000 hectares;\n- Homologada em 14/12/1998."
          ],
          [
           "- A BR-158 e a Reserva Indígena Marãiwatsédé em Mato Grosso.\n\n- A Justiça Federal proibiu o asfaltamento do trecho de 110 Km da BR-158 que passa pela Reserva.\n\n- Sendo assim seremos obrigados a fazer um contorno de 190 Km. https://t.co/uqEQIQvVfO"
          ],
          [
           "RT @filgmartin: 1. Por determinação do PR @jairbolsonaro, estou integrando a delegação que visitará Israel com o intuito de aprofundar noss…"
          ],
          [
           "Via @minsaude https://t.co/eemXNCZOgO"
          ],
          [
           "- Cooperação Científica Brasil/Israel.\n. @minsaude \n. @mctic @Astro_Pontes \n. @ItamaratyGovBr @ernestofaraujo \n\n. Link no YouTube: https://t.co/BQxpQoSPji"
          ],
          [
           "- O Brasil não pode parar.\n- Obras em Boa Vista/RR.\n\n. Link no YouTube: https://t.co/EcRRcbfjYk https://t.co/K8Nd2rYipO"
          ],
          [
           "RT @tvbrasilgov: Para este ano, o @govbr prepara novas concessões de aeroportos, rodovias, ferrovias e ainda leilões de terminais portuário…"
          ],
          [
           "RT @minsaude: O Ministério da saúde acaba de divulgar que a previsão de 29 milhões de doses de vacinas contra a #Covid19 em março vai ampli…"
          ],
          [
           "- Combustíveis: fiscalizações do @JusticaGovBR @AmendoncaMJSP , INMETRO, PROCONs e outros;\n- Agricultura Familiar; @Mapa_Brasil @TerezaCrisMS"
          ],
          [
           "- Mais impostos federais zerados e transparência;\n- Conversa com o Congresso;\n- Mais informações sobre o gás;\n- Petrobras e a legalidade plena;\n- Silva e Luna: feitos frente à Itaipu Binacional;\n- Trabalho da Secretaria de Pesca ( @jorgeseif )"
          ],
          [
           "- Fique em casa e a economia a gente vê depois;\n- Missão Israel: acordos com @ItamaratyGovBr e @minsaude ;\n- Mais alternativas de ferrovias avançam; \n- Barragem de Arvorezinha, em Bagé/RS: quase 10 anos de espera saindo do papel; @mdregional_br / @exercitooficial / @DefesaGovBr ;"
          ],
          [
           "- Pfizer e outras;\n- Ciência e lockdown;\n- Suicídios e depressão (fatos);\n- Leilão da ferrovia Norte-Sul (entrega do primeiro segmento 172km de ferrovia, ponte e breves derivações futuras); @MInfraestrutura , Capitão @tarcisiogdf ;\n- Mercosul;"
          ],
          [
           "- Temas:\n- Vacinas (a verdade);\n- Renegociação de juros de crédito imobiliário com as taxas mais baixas das história; @Caixa \n- Desburocratização e mais economia aos caminhoneiros e motoristas em geral;\n- Pesquisas científicas e posicionamento de CRM: tratamento precoce;"
          ],
          [
           "RT @rogeriosmarinho: Vejam a felicidade do sertanejo com a chegada da água. Por determinação do PR @jairbolsonaro, estamos levando água par…"
          ],
          [
           "Live da Semana - Presidente Jair Bolsonaro - (04/03/2021)\n\n. Link no YouTube: https://t.co/GKfaOZPLMV\n\n. Siga-nos no Telegram: https://t.co/O8KTejUGuL"
          ],
          [
           ". O povo quer trabalhar!\n. Link no YouTube: https://t.co/A3bANdBvqW https://t.co/nxKsQEde6m"
          ],
          [
           "@tvbrasilgov @govbr Em São Simão-GO: inauguração de trecho da Ferrovia Norte-Sul, entre Ouro Verde-GO e Estrela d’Oeste-SP. A obra se arrastava desde 1987. \nO percurso inaugurado possui 682 km de extensão e papel fundamental no escoamento da produção agrícola do País. @MInfraestrutura @tarcisiogdf"
          ],
          [
           "RT @tvbrasilgov: 🚆O presidente @jairbolsonaro afirmou que o @govbr quer concluir a obra da ferrovia Norte-Sul ainda neste ano. Ele particip…"
          ],
          [
           "- ATIVIDADE ESSENCIAL É TODA AQUELA NECESSÁRIA PARA UM CHEFE DE FAMÍLIA LEVAR O PÃO PARA DENTRO DE CASA!"
          ],
          [
           "- Problema histórico para a região de Bagé, a ação diante da barragem vai gerar também mais emprego, renda e oportunidades para toda a região.\n\n- Com isso os 120.000 habitantes de Bagé/RS não mais sofrerão com a falta de água. @rogeriosmarinho @DefesaGovBr"
          ],
          [
           "- Obras da Barragem de Arvorezinha, em Bagé - RS. A referida estava paralisada há quase uma década. Os trabalhos serão executados em parceria com o @exercito_oficial e @mdregional_br https://t.co/4rTb0kVeog"
          ],
          [
           "Com a chegada de insumos para fabricação de mais de 12 mi de vacinas, anunciadas no dia 03/03 mais uma nova rodada com mais de 2,5 mi de doses, além das anteriores, tratativas avançam, mesmo com todos os problemas que o mundo enfrenta. Mais informações nas redes do @minsaude :"
          ],
          [
           "- Israel / Peço assistir:\n\n. Link no YouTube: https://t.co/C4LwJtUCSI https://t.co/t7SRNR3DNw"
          ],
          [
           "RT @ernestofaraujo: O Brasil tem imensa vocação inovadora, porém ainda pouco aproveitada. Para avançar nessa área e abrir caminhos às start…"
          ],
          [
           "Link: https://t.co/O8KTejUGuL https://t.co/XL9dmRmKdv"
          ],
          [
           "- Encontro com os embaixadores dos países do Conselho de Cooperação do Golfo: Nasser Al Motairi/Kuwait, Ali Abdullah Bahitham/Arábia Saudita, Bader Hassan Al Helaibi/Bahrein, Ahmed Al Abdulla/Qatar, Saleh Alsuwaidi/EAU e Imad Al Abri/Omã. @ItamaratyGovBr @ernestofaraujo https://t.co/2AUdg1fjVc"
          ],
          [
           "RT @tarcisiogdf: Boa notícia, Piauí. A rodovia federal que corta o estado de norte a sul está com 150km de pavimento novo. Concluímos resta…"
          ],
          [
           "RT @AmendoncaMJSP: O governo @jairbolsonaro isentou os impostos federais sobre os combustíveis.\nAgora, montou Força-Tarefa para combater pr…"
          ],
          [
           "- Em 12/março/2012 às 12h20, Jair Bolsonaro foi autuado \"pescando\" na baía de Angra. Contudo às 15h30 do mesmo dia, JB digitou seu nome no painel de presença da Câmara. Ou seja, os horários comprovam a primeira fraude contra Bolsonaro. https://t.co/akTvCkEhru"
          ],
          [
           "- ÓLEO DIESEL e GÁS DE COZINHA.\n- Imposto federal ZERO.\n\n- O Decreto 10.638 de 01/março/2021 ZEROU por 2 meses todos os impostos federais sobre o óleo diesel. Eles eram de R$ 0,35 por litro.\n\n- Também ZERAMOS todos os impostos federais no botijão de gás de cozinha (13 Kg). https://t.co/Xpzf1fiNqI"
          ],
          [
           "- 30/março/2020 e\n- 10/fevereiro/2021.\n- Bom dia a todos. https://t.co/K1ounLRL58"
          ],
          [
           "@ernestofaraujo @AmbSKReddy 🇧🇷🤝🇮🇳, Ministro!"
          ]
         ],
         "hovertemplate": "like_count=%{y}<br>text=%{customdata[0]}<extra></extra>",
         "legendgroup": "",
         "marker": {
          "color": "#636efa"
         },
         "name": "",
         "notched": false,
         "offsetgroup": "",
         "orientation": "v",
         "showlegend": false,
         "type": "box",
         "x0": " ",
         "xaxis": "x",
         "y": [
          32214,
          37607,
          4104,
          7005,
          4980,
          3297,
          2540,
          2942,
          2698,
          2497,
          2435,
          2338,
          2467,
          2436,
          2424,
          2714,
          20872,
          27742,
          8946,
          17228,
          7007,
          7078,
          4635,
          4623,
          5237,
          4819,
          4065,
          3820,
          4225,
          6137,
          25096,
          11537,
          24988,
          15494,
          13789,
          26941,
          32647,
          47261,
          19118,
          13761,
          5859,
          6434,
          4487,
          3576,
          2760,
          2727,
          3683,
          2627,
          2474,
          2384,
          2611,
          2766,
          17391,
          70106,
          5530,
          5672,
          7213,
          6865,
          7077,
          18239,
          36759,
          5947,
          6685,
          4462,
          3821,
          4420,
          3254,
          3296,
          3399,
          3810,
          21778,
          7528,
          7008,
          8834,
          4610,
          2729,
          3464,
          2293,
          2276,
          2565,
          2961,
          34389,
          5913,
          7196,
          3228,
          14204,
          11961,
          22481,
          9348,
          24731,
          29368,
          40504,
          25659,
          9251,
          8107,
          5935,
          5285,
          4275,
          3763,
          2446,
          2182,
          2479,
          2713,
          20438,
          40038,
          9616,
          24599,
          25265,
          13275,
          13391,
          31993,
          17318,
          30335,
          9938,
          20370,
          9822,
          10311,
          2120,
          13947,
          7350,
          34416,
          12406,
          11497,
          28392,
          8260,
          9164,
          19371,
          9247,
          26783,
          40227,
          45386,
          37976,
          17666,
          27686,
          9359,
          9355,
          18236,
          22791,
          0,
          0,
          0,
          18149,
          1950,
          23351,
          15923,
          7959,
          19739,
          31059,
          0,
          8396,
          14608,
          0,
          0,
          33392,
          19276,
          9731,
          21475,
          21351,
          13045,
          21612,
          27711,
          12560,
          19228,
          0,
          6563,
          10897,
          17683,
          0,
          0,
          6853,
          7680,
          2684,
          2691,
          2843,
          0,
          12910,
          15835,
          1490,
          0,
          121318,
          5563,
          12182,
          7949,
          19138,
          0,
          6464,
          14897,
          0,
          0,
          26669,
          28426,
          45205,
          5212
         ],
         "y0": " ",
         "yaxis": "y"
        }
       ],
       "layout": {
        "boxmode": "group",
        "legend": {
         "tracegroupgap": 0
        },
        "margin": {
         "t": 60
        },
        "template": {
         "data": {
          "bar": [
           {
            "error_x": {
             "color": "#2a3f5f"
            },
            "error_y": {
             "color": "#2a3f5f"
            },
            "marker": {
             "line": {
              "color": "#E5ECF6",
              "width": 0.5
             }
            },
            "type": "bar"
           }
          ],
          "barpolar": [
           {
            "marker": {
             "line": {
              "color": "#E5ECF6",
              "width": 0.5
             }
            },
            "type": "barpolar"
           }
          ],
          "carpet": [
           {
            "aaxis": {
             "endlinecolor": "#2a3f5f",
             "gridcolor": "white",
             "linecolor": "white",
             "minorgridcolor": "white",
             "startlinecolor": "#2a3f5f"
            },
            "baxis": {
             "endlinecolor": "#2a3f5f",
             "gridcolor": "white",
             "linecolor": "white",
             "minorgridcolor": "white",
             "startlinecolor": "#2a3f5f"
            },
            "type": "carpet"
           }
          ],
          "choropleth": [
           {
            "colorbar": {
             "outlinewidth": 0,
             "ticks": ""
            },
            "type": "choropleth"
           }
          ],
          "contour": [
           {
            "colorbar": {
             "outlinewidth": 0,
             "ticks": ""
            },
            "colorscale": [
             [
              0,
              "#0d0887"
             ],
             [
              0.1111111111111111,
              "#46039f"
             ],
             [
              0.2222222222222222,
              "#7201a8"
             ],
             [
              0.3333333333333333,
              "#9c179e"
             ],
             [
              0.4444444444444444,
              "#bd3786"
             ],
             [
              0.5555555555555556,
              "#d8576b"
             ],
             [
              0.6666666666666666,
              "#ed7953"
             ],
             [
              0.7777777777777778,
              "#fb9f3a"
             ],
             [
              0.8888888888888888,
              "#fdca26"
             ],
             [
              1,
              "#f0f921"
             ]
            ],
            "type": "contour"
           }
          ],
          "contourcarpet": [
           {
            "colorbar": {
             "outlinewidth": 0,
             "ticks": ""
            },
            "type": "contourcarpet"
           }
          ],
          "heatmap": [
           {
            "colorbar": {
             "outlinewidth": 0,
             "ticks": ""
            },
            "colorscale": [
             [
              0,
              "#0d0887"
             ],
             [
              0.1111111111111111,
              "#46039f"
             ],
             [
              0.2222222222222222,
              "#7201a8"
             ],
             [
              0.3333333333333333,
              "#9c179e"
             ],
             [
              0.4444444444444444,
              "#bd3786"
             ],
             [
              0.5555555555555556,
              "#d8576b"
             ],
             [
              0.6666666666666666,
              "#ed7953"
             ],
             [
              0.7777777777777778,
              "#fb9f3a"
             ],
             [
              0.8888888888888888,
              "#fdca26"
             ],
             [
              1,
              "#f0f921"
             ]
            ],
            "type": "heatmap"
           }
          ],
          "heatmapgl": [
           {
            "colorbar": {
             "outlinewidth": 0,
             "ticks": ""
            },
            "colorscale": [
             [
              0,
              "#0d0887"
             ],
             [
              0.1111111111111111,
              "#46039f"
             ],
             [
              0.2222222222222222,
              "#7201a8"
             ],
             [
              0.3333333333333333,
              "#9c179e"
             ],
             [
              0.4444444444444444,
              "#bd3786"
             ],
             [
              0.5555555555555556,
              "#d8576b"
             ],
             [
              0.6666666666666666,
              "#ed7953"
             ],
             [
              0.7777777777777778,
              "#fb9f3a"
             ],
             [
              0.8888888888888888,
              "#fdca26"
             ],
             [
              1,
              "#f0f921"
             ]
            ],
            "type": "heatmapgl"
           }
          ],
          "histogram": [
           {
            "marker": {
             "colorbar": {
              "outlinewidth": 0,
              "ticks": ""
             }
            },
            "type": "histogram"
           }
          ],
          "histogram2d": [
           {
            "colorbar": {
             "outlinewidth": 0,
             "ticks": ""
            },
            "colorscale": [
             [
              0,
              "#0d0887"
             ],
             [
              0.1111111111111111,
              "#46039f"
             ],
             [
              0.2222222222222222,
              "#7201a8"
             ],
             [
              0.3333333333333333,
              "#9c179e"
             ],
             [
              0.4444444444444444,
              "#bd3786"
             ],
             [
              0.5555555555555556,
              "#d8576b"
             ],
             [
              0.6666666666666666,
              "#ed7953"
             ],
             [
              0.7777777777777778,
              "#fb9f3a"
             ],
             [
              0.8888888888888888,
              "#fdca26"
             ],
             [
              1,
              "#f0f921"
             ]
            ],
            "type": "histogram2d"
           }
          ],
          "histogram2dcontour": [
           {
            "colorbar": {
             "outlinewidth": 0,
             "ticks": ""
            },
            "colorscale": [
             [
              0,
              "#0d0887"
             ],
             [
              0.1111111111111111,
              "#46039f"
             ],
             [
              0.2222222222222222,
              "#7201a8"
             ],
             [
              0.3333333333333333,
              "#9c179e"
             ],
             [
              0.4444444444444444,
              "#bd3786"
             ],
             [
              0.5555555555555556,
              "#d8576b"
             ],
             [
              0.6666666666666666,
              "#ed7953"
             ],
             [
              0.7777777777777778,
              "#fb9f3a"
             ],
             [
              0.8888888888888888,
              "#fdca26"
             ],
             [
              1,
              "#f0f921"
             ]
            ],
            "type": "histogram2dcontour"
           }
          ],
          "mesh3d": [
           {
            "colorbar": {
             "outlinewidth": 0,
             "ticks": ""
            },
            "type": "mesh3d"
           }
          ],
          "parcoords": [
           {
            "line": {
             "colorbar": {
              "outlinewidth": 0,
              "ticks": ""
             }
            },
            "type": "parcoords"
           }
          ],
          "pie": [
           {
            "automargin": true,
            "type": "pie"
           }
          ],
          "scatter": [
           {
            "marker": {
             "colorbar": {
              "outlinewidth": 0,
              "ticks": ""
             }
            },
            "type": "scatter"
           }
          ],
          "scatter3d": [
           {
            "line": {
             "colorbar": {
              "outlinewidth": 0,
              "ticks": ""
             }
            },
            "marker": {
             "colorbar": {
              "outlinewidth": 0,
              "ticks": ""
             }
            },
            "type": "scatter3d"
           }
          ],
          "scattercarpet": [
           {
            "marker": {
             "colorbar": {
              "outlinewidth": 0,
              "ticks": ""
             }
            },
            "type": "scattercarpet"
           }
          ],
          "scattergeo": [
           {
            "marker": {
             "colorbar": {
              "outlinewidth": 0,
              "ticks": ""
             }
            },
            "type": "scattergeo"
           }
          ],
          "scattergl": [
           {
            "marker": {
             "colorbar": {
              "outlinewidth": 0,
              "ticks": ""
             }
            },
            "type": "scattergl"
           }
          ],
          "scattermapbox": [
           {
            "marker": {
             "colorbar": {
              "outlinewidth": 0,
              "ticks": ""
             }
            },
            "type": "scattermapbox"
           }
          ],
          "scatterpolar": [
           {
            "marker": {
             "colorbar": {
              "outlinewidth": 0,
              "ticks": ""
             }
            },
            "type": "scatterpolar"
           }
          ],
          "scatterpolargl": [
           {
            "marker": {
             "colorbar": {
              "outlinewidth": 0,
              "ticks": ""
             }
            },
            "type": "scatterpolargl"
           }
          ],
          "scatterternary": [
           {
            "marker": {
             "colorbar": {
              "outlinewidth": 0,
              "ticks": ""
             }
            },
            "type": "scatterternary"
           }
          ],
          "surface": [
           {
            "colorbar": {
             "outlinewidth": 0,
             "ticks": ""
            },
            "colorscale": [
             [
              0,
              "#0d0887"
             ],
             [
              0.1111111111111111,
              "#46039f"
             ],
             [
              0.2222222222222222,
              "#7201a8"
             ],
             [
              0.3333333333333333,
              "#9c179e"
             ],
             [
              0.4444444444444444,
              "#bd3786"
             ],
             [
              0.5555555555555556,
              "#d8576b"
             ],
             [
              0.6666666666666666,
              "#ed7953"
             ],
             [
              0.7777777777777778,
              "#fb9f3a"
             ],
             [
              0.8888888888888888,
              "#fdca26"
             ],
             [
              1,
              "#f0f921"
             ]
            ],
            "type": "surface"
           }
          ],
          "table": [
           {
            "cells": {
             "fill": {
              "color": "#EBF0F8"
             },
             "line": {
              "color": "white"
             }
            },
            "header": {
             "fill": {
              "color": "#C8D4E3"
             },
             "line": {
              "color": "white"
             }
            },
            "type": "table"
           }
          ]
         },
         "layout": {
          "annotationdefaults": {
           "arrowcolor": "#2a3f5f",
           "arrowhead": 0,
           "arrowwidth": 1
          },
          "autotypenumbers": "strict",
          "coloraxis": {
           "colorbar": {
            "outlinewidth": 0,
            "ticks": ""
           }
          },
          "colorscale": {
           "diverging": [
            [
             0,
             "#8e0152"
            ],
            [
             0.1,
             "#c51b7d"
            ],
            [
             0.2,
             "#de77ae"
            ],
            [
             0.3,
             "#f1b6da"
            ],
            [
             0.4,
             "#fde0ef"
            ],
            [
             0.5,
             "#f7f7f7"
            ],
            [
             0.6,
             "#e6f5d0"
            ],
            [
             0.7,
             "#b8e186"
            ],
            [
             0.8,
             "#7fbc41"
            ],
            [
             0.9,
             "#4d9221"
            ],
            [
             1,
             "#276419"
            ]
           ],
           "sequential": [
            [
             0,
             "#0d0887"
            ],
            [
             0.1111111111111111,
             "#46039f"
            ],
            [
             0.2222222222222222,
             "#7201a8"
            ],
            [
             0.3333333333333333,
             "#9c179e"
            ],
            [
             0.4444444444444444,
             "#bd3786"
            ],
            [
             0.5555555555555556,
             "#d8576b"
            ],
            [
             0.6666666666666666,
             "#ed7953"
            ],
            [
             0.7777777777777778,
             "#fb9f3a"
            ],
            [
             0.8888888888888888,
             "#fdca26"
            ],
            [
             1,
             "#f0f921"
            ]
           ],
           "sequentialminus": [
            [
             0,
             "#0d0887"
            ],
            [
             0.1111111111111111,
             "#46039f"
            ],
            [
             0.2222222222222222,
             "#7201a8"
            ],
            [
             0.3333333333333333,
             "#9c179e"
            ],
            [
             0.4444444444444444,
             "#bd3786"
            ],
            [
             0.5555555555555556,
             "#d8576b"
            ],
            [
             0.6666666666666666,
             "#ed7953"
            ],
            [
             0.7777777777777778,
             "#fb9f3a"
            ],
            [
             0.8888888888888888,
             "#fdca26"
            ],
            [
             1,
             "#f0f921"
            ]
           ]
          },
          "colorway": [
           "#636efa",
           "#EF553B",
           "#00cc96",
           "#ab63fa",
           "#FFA15A",
           "#19d3f3",
           "#FF6692",
           "#B6E880",
           "#FF97FF",
           "#FECB52"
          ],
          "font": {
           "color": "#2a3f5f"
          },
          "geo": {
           "bgcolor": "white",
           "lakecolor": "white",
           "landcolor": "#E5ECF6",
           "showlakes": true,
           "showland": true,
           "subunitcolor": "white"
          },
          "hoverlabel": {
           "align": "left"
          },
          "hovermode": "closest",
          "mapbox": {
           "style": "light"
          },
          "paper_bgcolor": "white",
          "plot_bgcolor": "#E5ECF6",
          "polar": {
           "angularaxis": {
            "gridcolor": "white",
            "linecolor": "white",
            "ticks": ""
           },
           "bgcolor": "#E5ECF6",
           "radialaxis": {
            "gridcolor": "white",
            "linecolor": "white",
            "ticks": ""
           }
          },
          "scene": {
           "xaxis": {
            "backgroundcolor": "#E5ECF6",
            "gridcolor": "white",
            "gridwidth": 2,
            "linecolor": "white",
            "showbackground": true,
            "ticks": "",
            "zerolinecolor": "white"
           },
           "yaxis": {
            "backgroundcolor": "#E5ECF6",
            "gridcolor": "white",
            "gridwidth": 2,
            "linecolor": "white",
            "showbackground": true,
            "ticks": "",
            "zerolinecolor": "white"
           },
           "zaxis": {
            "backgroundcolor": "#E5ECF6",
            "gridcolor": "white",
            "gridwidth": 2,
            "linecolor": "white",
            "showbackground": true,
            "ticks": "",
            "zerolinecolor": "white"
           }
          },
          "shapedefaults": {
           "line": {
            "color": "#2a3f5f"
           }
          },
          "ternary": {
           "aaxis": {
            "gridcolor": "white",
            "linecolor": "white",
            "ticks": ""
           },
           "baxis": {
            "gridcolor": "white",
            "linecolor": "white",
            "ticks": ""
           },
           "bgcolor": "#E5ECF6",
           "caxis": {
            "gridcolor": "white",
            "linecolor": "white",
            "ticks": ""
           }
          },
          "title": {
           "x": 0.05
          },
          "xaxis": {
           "automargin": true,
           "gridcolor": "white",
           "linecolor": "white",
           "ticks": "",
           "title": {
            "standoff": 15
           },
           "zerolinecolor": "white",
           "zerolinewidth": 2
          },
          "yaxis": {
           "automargin": true,
           "gridcolor": "white",
           "linecolor": "white",
           "ticks": "",
           "title": {
            "standoff": 15
           },
           "zerolinecolor": "white",
           "zerolinewidth": 2
          }
         }
        },
        "xaxis": {
         "anchor": "y",
         "domain": [
          0,
          1
         ]
        },
        "yaxis": {
         "anchor": "x",
         "domain": [
          0,
          1
         ],
         "title": {
          "text": "like_count"
         }
        }
       }
      }
     },
     "metadata": {}
    }
   ],
   "source": [
    "import plotly.express as px\n",
    "tmp_df = df.loc[df['author'] == 'jairbolsonaro']\n",
    "fig = px.box(tmp_df, y=\"like_count\", points=\"all\", hover_data=[\"text\"])\n",
    "px.box()\n",
    "fig.show()\n",
    "# sns.histplot(ax=ax[i], data=tmp_df, x='like_count', bins=20)"
   ]
  },
  {
   "cell_type": "code",
   "execution_count": 11,
   "metadata": {},
   "outputs": [
    {
     "output_type": "execute_result",
     "data": {
      "text/plain": [
       "     author_id                created_at                   id  \\\n",
       "0    128372940 2021-03-31 23:56:08+00:00  1377409408267812865   \n",
       "1    128372940 2021-03-31 21:18:11+00:00  1377369657598877697   \n",
       "2    128372940 2021-03-31 16:10:25+00:00  1377292204792807436   \n",
       "3    128372940 2021-03-31 12:58:37+00:00  1377243939237953539   \n",
       "4    128372940 2021-03-31 12:57:49+00:00  1377243735994601472   \n",
       "..         ...                       ...                  ...   \n",
       "188  128372940 2021-03-03 18:19:35+00:00  1367177851255021574   \n",
       "189  128372940 2021-03-02 20:25:48+00:00  1366847225800912896   \n",
       "190  128372940 2021-03-02 11:11:26+00:00  1366707716899627011   \n",
       "191  128372940 2021-03-01 08:31:22+00:00  1366305045768200194   \n",
       "192  128372940 2021-03-01 00:28:35+00:00  1366183548512833539   \n",
       "\n",
       "                                                  text  retweet_count  \\\n",
       "0    - Em abril/2013 o Congresso anulou a sessão de...           5847   \n",
       "1    - Apresento os novos comandantes de Força:\\n\\n...           6655   \n",
       "2                              https://t.co/F2v9HVOYW1            778   \n",
       "3    1.2- Assim, os aproximadamente 2.900 profissio...           1187   \n",
       "4    1.1- Reforçando o combate ao Covid19 na atençã...           1039   \n",
       "..                                                 ...            ...   \n",
       "188  RT @AmendoncaMJSP: O governo @jairbolsonaro is...           1676   \n",
       "189  - Em 12/março/2012 às 12h20, Jair Bolsonaro fo...           6220   \n",
       "190  - ÓLEO DIESEL e GÁS DE COZINHA.\\n- Imposto fed...           6362   \n",
       "191  - 30/março/2020 e\\n- 10/fevereiro/2021.\\n- Bom...           9296   \n",
       "192       @ernestofaraujo @AmbSKReddy 🇧🇷🤝🇮🇳, Ministro!            408   \n",
       "\n",
       "     reply_count  like_count  quote_count         author  \n",
       "0           3413       32214          414  jairbolsonaro  \n",
       "1           4362       37607          604  jairbolsonaro  \n",
       "2            483        4104           21  jairbolsonaro  \n",
       "3            348        7005           13  jairbolsonaro  \n",
       "4            218        4980           23  jairbolsonaro  \n",
       "..           ...         ...          ...            ...  \n",
       "188            0           0            0  jairbolsonaro  \n",
       "189         4410       26669          420  jairbolsonaro  \n",
       "190         4378       28426          545  jairbolsonaro  \n",
       "191        10215       45205         3093  jairbolsonaro  \n",
       "192           93        5212            5  jairbolsonaro  \n",
       "\n",
       "[193 rows x 9 columns]"
      ],
      "text/html": "<div>\n<style scoped>\n    .dataframe tbody tr th:only-of-type {\n        vertical-align: middle;\n    }\n\n    .dataframe tbody tr th {\n        vertical-align: top;\n    }\n\n    .dataframe thead th {\n        text-align: right;\n    }\n</style>\n<table border=\"1\" class=\"dataframe\">\n  <thead>\n    <tr style=\"text-align: right;\">\n      <th></th>\n      <th>author_id</th>\n      <th>created_at</th>\n      <th>id</th>\n      <th>text</th>\n      <th>retweet_count</th>\n      <th>reply_count</th>\n      <th>like_count</th>\n      <th>quote_count</th>\n      <th>author</th>\n    </tr>\n  </thead>\n  <tbody>\n    <tr>\n      <th>0</th>\n      <td>128372940</td>\n      <td>2021-03-31 23:56:08+00:00</td>\n      <td>1377409408267812865</td>\n      <td>- Em abril/2013 o Congresso anulou a sessão de...</td>\n      <td>5847</td>\n      <td>3413</td>\n      <td>32214</td>\n      <td>414</td>\n      <td>jairbolsonaro</td>\n    </tr>\n    <tr>\n      <th>1</th>\n      <td>128372940</td>\n      <td>2021-03-31 21:18:11+00:00</td>\n      <td>1377369657598877697</td>\n      <td>- Apresento os novos comandantes de Força:\\n\\n...</td>\n      <td>6655</td>\n      <td>4362</td>\n      <td>37607</td>\n      <td>604</td>\n      <td>jairbolsonaro</td>\n    </tr>\n    <tr>\n      <th>2</th>\n      <td>128372940</td>\n      <td>2021-03-31 16:10:25+00:00</td>\n      <td>1377292204792807436</td>\n      <td>https://t.co/F2v9HVOYW1</td>\n      <td>778</td>\n      <td>483</td>\n      <td>4104</td>\n      <td>21</td>\n      <td>jairbolsonaro</td>\n    </tr>\n    <tr>\n      <th>3</th>\n      <td>128372940</td>\n      <td>2021-03-31 12:58:37+00:00</td>\n      <td>1377243939237953539</td>\n      <td>1.2- Assim, os aproximadamente 2.900 profissio...</td>\n      <td>1187</td>\n      <td>348</td>\n      <td>7005</td>\n      <td>13</td>\n      <td>jairbolsonaro</td>\n    </tr>\n    <tr>\n      <th>4</th>\n      <td>128372940</td>\n      <td>2021-03-31 12:57:49+00:00</td>\n      <td>1377243735994601472</td>\n      <td>1.1- Reforçando o combate ao Covid19 na atençã...</td>\n      <td>1039</td>\n      <td>218</td>\n      <td>4980</td>\n      <td>23</td>\n      <td>jairbolsonaro</td>\n    </tr>\n    <tr>\n      <th>...</th>\n      <td>...</td>\n      <td>...</td>\n      <td>...</td>\n      <td>...</td>\n      <td>...</td>\n      <td>...</td>\n      <td>...</td>\n      <td>...</td>\n      <td>...</td>\n    </tr>\n    <tr>\n      <th>188</th>\n      <td>128372940</td>\n      <td>2021-03-03 18:19:35+00:00</td>\n      <td>1367177851255021574</td>\n      <td>RT @AmendoncaMJSP: O governo @jairbolsonaro is...</td>\n      <td>1676</td>\n      <td>0</td>\n      <td>0</td>\n      <td>0</td>\n      <td>jairbolsonaro</td>\n    </tr>\n    <tr>\n      <th>189</th>\n      <td>128372940</td>\n      <td>2021-03-02 20:25:48+00:00</td>\n      <td>1366847225800912896</td>\n      <td>- Em 12/março/2012 às 12h20, Jair Bolsonaro fo...</td>\n      <td>6220</td>\n      <td>4410</td>\n      <td>26669</td>\n      <td>420</td>\n      <td>jairbolsonaro</td>\n    </tr>\n    <tr>\n      <th>190</th>\n      <td>128372940</td>\n      <td>2021-03-02 11:11:26+00:00</td>\n      <td>1366707716899627011</td>\n      <td>- ÓLEO DIESEL e GÁS DE COZINHA.\\n- Imposto fed...</td>\n      <td>6362</td>\n      <td>4378</td>\n      <td>28426</td>\n      <td>545</td>\n      <td>jairbolsonaro</td>\n    </tr>\n    <tr>\n      <th>191</th>\n      <td>128372940</td>\n      <td>2021-03-01 08:31:22+00:00</td>\n      <td>1366305045768200194</td>\n      <td>- 30/março/2020 e\\n- 10/fevereiro/2021.\\n- Bom...</td>\n      <td>9296</td>\n      <td>10215</td>\n      <td>45205</td>\n      <td>3093</td>\n      <td>jairbolsonaro</td>\n    </tr>\n    <tr>\n      <th>192</th>\n      <td>128372940</td>\n      <td>2021-03-01 00:28:35+00:00</td>\n      <td>1366183548512833539</td>\n      <td>@ernestofaraujo @AmbSKReddy 🇧🇷🤝🇮🇳, Ministro!</td>\n      <td>408</td>\n      <td>93</td>\n      <td>5212</td>\n      <td>5</td>\n      <td>jairbolsonaro</td>\n    </tr>\n  </tbody>\n</table>\n<p>193 rows × 9 columns</p>\n</div>"
     },
     "metadata": {},
     "execution_count": 11
    }
   ],
   "source": [
    "tmp_df"
   ]
  },
  {
   "cell_type": "code",
   "execution_count": null,
   "metadata": {},
   "outputs": [],
   "source": []
  }
 ]
}